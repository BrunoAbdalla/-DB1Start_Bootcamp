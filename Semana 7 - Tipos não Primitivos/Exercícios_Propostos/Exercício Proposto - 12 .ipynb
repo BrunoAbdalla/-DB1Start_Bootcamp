{
 "cells": [
  {
   "cell_type": "code",
   "execution_count": 2,
   "id": "5e4f5045",
   "metadata": {},
   "outputs": [
    {
     "name": "stdout",
     "output_type": "stream",
     "text": [
      "A lista está vazia\n"
     ]
    }
   ],
   "source": [
    "#12) Escreva um programa que verifique se uma lista está vazia ou não.\n",
    "\n",
    "lista = []\n",
    "\n",
    "if len(lista) > 0:\n",
    "    print('A lista não está vazia')\n",
    "else:\n",
    "    print('A lista está vazia')"
   ]
  },
  {
   "cell_type": "code",
   "execution_count": null,
   "id": "43219f09",
   "metadata": {},
   "outputs": [],
   "source": []
  }
 ],
 "metadata": {
  "kernelspec": {
   "display_name": "Python 3 (ipykernel)",
   "language": "python",
   "name": "python3"
  },
  "language_info": {
   "codemirror_mode": {
    "name": "ipython",
    "version": 3
   },
   "file_extension": ".py",
   "mimetype": "text/x-python",
   "name": "python",
   "nbconvert_exporter": "python",
   "pygments_lexer": "ipython3",
   "version": "3.9.7"
  }
 },
 "nbformat": 4,
 "nbformat_minor": 5
}
