{
 "cells": [
  {
   "cell_type": "code",
   "execution_count": 2,
   "id": "511309ef",
   "metadata": {},
   "outputs": [
    {
     "name": "stdout",
     "output_type": "stream",
     "text": [
      "3840\n"
     ]
    }
   ],
   "source": [
    "#2) Faça um programa que multiplique todos os itens de uma lista\n",
    "\n",
    "lista = [2, 4, 6, 8, 10]\n",
    "produto = 1\n",
    "\n",
    "for n in range(0, len(lista)):\n",
    "    produto = produto * lista[n]\n",
    "\n",
    "print(produto)"
   ]
  },
  {
   "cell_type": "code",
   "execution_count": null,
   "id": "fb54357d",
   "metadata": {},
   "outputs": [],
   "source": []
  }
 ],
 "metadata": {
  "kernelspec": {
   "display_name": "Python 3 (ipykernel)",
   "language": "python",
   "name": "python3"
  },
  "language_info": {
   "codemirror_mode": {
    "name": "ipython",
    "version": 3
   },
   "file_extension": ".py",
   "mimetype": "text/x-python",
   "name": "python",
   "nbconvert_exporter": "python",
   "pygments_lexer": "ipython3",
   "version": "3.9.7"
  }
 },
 "nbformat": 4,
 "nbformat_minor": 5
}
