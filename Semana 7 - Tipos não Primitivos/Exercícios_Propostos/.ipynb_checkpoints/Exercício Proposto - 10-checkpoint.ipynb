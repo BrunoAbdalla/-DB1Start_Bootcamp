{
 "cells": [
  {
   "cell_type": "code",
   "execution_count": 1,
   "id": "146ffd34",
   "metadata": {},
   "outputs": [
    {
     "name": "stdout",
     "output_type": "stream",
     "text": [
      "A sigla do estado de São Paulo é SP.\n",
      "A sigla do estado de Rio de Janeiro é RJ.\n",
      "A sigla do estado de Minas Gerais é MG.\n",
      "A sigla do estado de Paraná é PR.\n"
     ]
    }
   ],
   "source": [
    "#10) Escreva um programa que itere em um dicionário utilizando loops.\n",
    "\n",
    "Estados = {'São Paulo': 'SP', 'Rio de Janeiro': 'RJ', 'Minas Gerais': 'MG', 'Paraná': 'PR'}\n",
    "\n",
    "for k, v in Estados.items():\n",
    "    print(f'A sigla do estado de {k} é {v}.')\n"
   ]
  },
  {
   "cell_type": "code",
   "execution_count": null,
   "id": "dac2283a",
   "metadata": {},
   "outputs": [],
   "source": []
  }
 ],
 "metadata": {
  "kernelspec": {
   "display_name": "Python 3 (ipykernel)",
   "language": "python",
   "name": "python3"
  },
  "language_info": {
   "codemirror_mode": {
    "name": "ipython",
    "version": 3
   },
   "file_extension": ".py",
   "mimetype": "text/x-python",
   "name": "python",
   "nbconvert_exporter": "python",
   "pygments_lexer": "ipython3",
   "version": "3.9.7"
  }
 },
 "nbformat": 4,
 "nbformat_minor": 5
}
