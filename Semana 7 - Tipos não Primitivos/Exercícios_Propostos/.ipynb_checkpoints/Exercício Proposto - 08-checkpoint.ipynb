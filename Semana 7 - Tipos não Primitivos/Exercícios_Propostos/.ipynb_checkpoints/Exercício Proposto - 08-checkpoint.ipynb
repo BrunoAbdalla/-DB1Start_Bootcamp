{
 "cells": [
  {
   "cell_type": "code",
   "execution_count": 3,
   "id": "ddfbca40",
   "metadata": {},
   "outputs": [
    {
     "name": "stdout",
     "output_type": "stream",
     "text": [
      "{1: 10, 2: 20, 3: 30, 4: 40, 5: 50, 6: 60}\n",
      "{1: 10, 2: 20, 3: 30, 4: 40, 5: 50, 6: 60}\n"
     ]
    }
   ],
   "source": [
    "#8) Escreva um programa que concatene os dicionários: dic1={1:10, 2:20} / dic2={3:30, 4:40} / dic3={5:50,6:60} e crie\n",
    "#   um novo. Resultado esperado: {1: 10, 2: 20, 3: 30, 4: 40, 5: 50, 6: 60}\n",
    "\n",
    "dic1={1:10, 2:20}\n",
    "dic2={3:30, 4:40}\n",
    "dic3={5:50,6:60}\n",
    "\n",
    "novo_dicionário = {}\n",
    "\n",
    "novo_dicionário.update(dic1)\n",
    "novo_dicionário.update(dic2)\n",
    "novo_dicionário.update(dic3)\n",
    "\n",
    "print(novo_dicionário)\n",
    "\n",
    "#Ou ainda:\n",
    "\n",
    "novo_dicionário_2 = {**dic1, **dic2, **dic3}\n",
    "print(novo_dicionário_2)"
   ]
  },
  {
   "cell_type": "code",
   "execution_count": null,
   "id": "89a67daf",
   "metadata": {},
   "outputs": [],
   "source": []
  }
 ],
 "metadata": {
  "kernelspec": {
   "display_name": "Python 3 (ipykernel)",
   "language": "python",
   "name": "python3"
  },
  "language_info": {
   "codemirror_mode": {
    "name": "ipython",
    "version": 3
   },
   "file_extension": ".py",
   "mimetype": "text/x-python",
   "name": "python",
   "nbconvert_exporter": "python",
   "pygments_lexer": "ipython3",
   "version": "3.9.7"
  }
 },
 "nbformat": 4,
 "nbformat_minor": 5
}
