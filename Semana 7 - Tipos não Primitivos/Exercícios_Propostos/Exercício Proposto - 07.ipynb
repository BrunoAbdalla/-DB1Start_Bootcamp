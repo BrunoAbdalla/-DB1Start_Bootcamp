{
 "cells": [
  {
   "cell_type": "code",
   "execution_count": 1,
   "id": "41d114f9",
   "metadata": {},
   "outputs": [
    {
     "name": "stdout",
     "output_type": "stream",
     "text": [
      "Adicione um novo valor ao dicionário: 30\n",
      "{0: 10, 1: 20, 2: 30}\n"
     ]
    }
   ],
   "source": [
    "#7) Escreva um programa que adicione uma chave (key) a um dicionário. (Exemplo dicionário(Dict): {0: 10, 1: 20}\n",
    "#   Resultado esperado: {0: 10, 1: 20, 2: 30} )\n",
    "\n",
    "dicionário = {0: 10, 1: 20} \n",
    "\n",
    "dicionário[(len(dicionário))] = int(input('Adicione um novo valor ao dicionário: '))\n",
    "\n",
    "print(dicionário)"
   ]
  },
  {
   "cell_type": "code",
   "execution_count": null,
   "id": "cd25c124",
   "metadata": {},
   "outputs": [],
   "source": []
  }
 ],
 "metadata": {
  "kernelspec": {
   "display_name": "Python 3 (ipykernel)",
   "language": "python",
   "name": "python3"
  },
  "language_info": {
   "codemirror_mode": {
    "name": "ipython",
    "version": 3
   },
   "file_extension": ".py",
   "mimetype": "text/x-python",
   "name": "python",
   "nbconvert_exporter": "python",
   "pygments_lexer": "ipython3",
   "version": "3.9.7"
  }
 },
 "nbformat": 4,
 "nbformat_minor": 5
}
