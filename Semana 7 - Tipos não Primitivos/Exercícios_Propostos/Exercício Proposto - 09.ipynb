{
 "cells": [
  {
   "cell_type": "code",
   "execution_count": 10,
   "id": "d09ddc58",
   "metadata": {},
   "outputs": [
    {
     "name": "stdout",
     "output_type": "stream",
     "text": [
      "Por favor, informe um índice para o dicionário: Gato\n",
      "Por favor, digite o valor para o índice informado: 2\n",
      "Deseja continiuar[S/N]? S\n",
      "Por favor, informe um índice para o dicionário: Cão\n",
      "Por favor, digite o valor para o índice informado: 1\n",
      "Deseja continiuar[S/N]? N\n",
      "-=-=-=-=-=-=-=-=-=-=-=-=-=-=-=-=-=-=-=-=-=-=-=-=-=-=-=-=-=-=\n",
      "                      LISTA INFORMADA                       \n",
      "-=-=-=-=-=-=-=-=-=-=-=-=-=-=-=-=-=-=-=-=-=-=-=-=-=-=-=-=-=-=\n",
      "{'Gato': 2, 'Cão': 1}\n",
      "------------------------------------------------------------\n",
      "Qual índice você gostaria de consultar? Tartaruga\n",
      "O índice não foi encontrado no dicionário\n"
     ]
    }
   ],
   "source": [
    "#9) Escreva um programa que leia chaves e valores, e depois verifica se uma chave existe no dicionário criado.\n",
    "\n",
    "#Abrindo o dicionário e as variáveis temporárias:\n",
    "dic = {}\n",
    "key = continua = teste = ''\n",
    "value = cont = 0\n",
    "\n",
    "#Definindo a estrutura de repetição:\n",
    "while True:\n",
    "    \n",
    "#Pedindo ao usuário entrar com a chave e com o valor:\n",
    "    key = str(input('Por favor, informe um índice para o dicionário: '))\n",
    "    value = int(input('Por favor, digite o valor para o índice informado: '))\n",
    "    dic[key] = value\n",
    "\n",
    "#Definição da condição de repetição e validação dos valores informados: \n",
    "    while True:\n",
    "        continua = str(input('Deseja continiuar[S/N]? '))\n",
    "        if continua in 'SsNs':\n",
    "            break\n",
    "        else:\n",
    "            print('Opção inválida! Digite S para Sim ou N para Não!')\n",
    "    if continua in 'Nn':\n",
    "        break\n",
    "    else:\n",
    "        pass\n",
    "    \n",
    "#Primeiro retorno ao usuário:\n",
    "print('-=' * 30)\n",
    "print(f'{\"LISTA INFORMADA\":^60}')\n",
    "print('-=' * 30)\n",
    "print(dic)\n",
    "print('-' * 60)\n",
    "teste = str(input('Qual índice você gostaria de consultar? '))\n",
    "\n",
    "#Segundo retorno ao usuário\n",
    "for k, v in dic.items():\n",
    "    if k == teste:\n",
    "        print(f'O índice {k} já foi informado e contém o valor {v}.')\n",
    "        cont = cont + 1\n",
    "    else:\n",
    "        pass\n",
    "if cont > 0:\n",
    "    pass\n",
    "else:\n",
    "    print('O índice não foi encontrado no dicionário')\n",
    "    \n"
   ]
  },
  {
   "cell_type": "code",
   "execution_count": null,
   "id": "62de823a",
   "metadata": {},
   "outputs": [],
   "source": []
  }
 ],
 "metadata": {
  "kernelspec": {
   "display_name": "Python 3 (ipykernel)",
   "language": "python",
   "name": "python3"
  },
  "language_info": {
   "codemirror_mode": {
    "name": "ipython",
    "version": 3
   },
   "file_extension": ".py",
   "mimetype": "text/x-python",
   "name": "python",
   "nbconvert_exporter": "python",
   "pygments_lexer": "ipython3",
   "version": "3.9.7"
  }
 },
 "nbformat": 4,
 "nbformat_minor": 5
}
