{
 "cells": [
  {
   "cell_type": "code",
   "execution_count": null,
   "id": "ef49940c",
   "metadata": {},
   "outputs": [],
   "source": [
    "#4) Crie um programa que gerencie o aproveitamento de um jogador de futebol, o programa vai ler o nome do jogador e qual o \n",
    "#   número de partidas que foram feitas e quantos gols ele fez em cada jogo (lista), e tudo isso seja armazenado em um \n",
    "#   dicionário, acrescentando também o total de gols.\n",
    "\n",
    "#   O programa deve retornar: Os dados do dicionário;\n",
    "#   Os dados do dicionário formatados(ex.: \"O campo K tem valor V\")\n",
    "#   O número de gols marcados em cada jogo formatado (ex.: No jogo  n, o jogador X fez y gols;)"
   ]
  },
  {
   "cell_type": "code",
   "execution_count": 2,
   "id": "bf4f091d",
   "metadata": {},
   "outputs": [
    {
     "name": "stdout",
     "output_type": "stream",
     "text": [
      "Digite o nome do jogador: Bruno\n",
      "Quantos jogos o Bruno fez na temporada? 2\n",
      "Quantos gols o Bruno fez no 1º jogo: 1\n",
      "Quantos gols o Bruno fez no 2º jogo: 2\n",
      "-=-=-=-=-=-=-=-=-=-=-=-=-=-=-=-=-=-=-=-=-=-=-=-=-=-=-=-=-=-=\n",
      "                      SCOUT DO JOGADOR                      \n",
      "-=-=-=-=-=-=-=-=-=-=-=-=-=-=-=-=-=-=-=-=-=-=-=-=-=-=-=-=-=-=\n",
      "{'Nome': 'Bruno', 'Jogos': 2, 'Gols': [1, 2], 'Soma': 3}\n",
      "------------------------------------------------------------\n",
      "O campo Nome tem valor Bruno\n",
      "O campo Jogos tem valor 2\n",
      "O campo Gols tem valor [1, 2]\n",
      "O campo Soma tem valor 3\n",
      "------------------------------------------------------------\n",
      "O Bruno fez 1 gol(s) no 1º jogo.\n",
      "O Bruno fez 2 gol(s) no 2º jogo.\n"
     ]
    }
   ],
   "source": [
    "#Abrindo o dicionário, a lista e as variáveis de controle que serão usados:\n",
    "scout = {}\n",
    "gols = []\n",
    "\n",
    "#Solicitando as informações ao usuário:\n",
    "scout['Nome'] = str(input('Digite o nome do jogador: '))\n",
    "scout['Jogos'] = int(input(f'Quantos jogos o {scout[\"Nome\"]} fez na temporada? '))\n",
    "for n in range(0, scout['Jogos']):\n",
    "    gols.append(int(input(f'Quantos gols o {scout[\"Nome\"]} fez no {n + 1}º jogo: ')))\n",
    "scout['Gols'] = gols\n",
    "scout['Soma'] = sum(gols)\n",
    "\n",
    "#Retornando as informações ao usuário:\n",
    "print('-=' * 30)\n",
    "print(f'{\"SCOUT DO JOGADOR\":^60}')\n",
    "print('-=' * 30)\n",
    "print(scout)\n",
    "print('-' * 60)\n",
    "for k, v in scout.items():\n",
    "    print(f'O campo {k} tem valor {v}')\n",
    "print('-' * 60)\n",
    "for n in range(0, len(gols)):\n",
    "    print(f'O {scout[\"Nome\"]} fez {gols[n]} gol(s) no {n + 1}º jogo.')"
   ]
  },
  {
   "cell_type": "code",
   "execution_count": null,
   "id": "1db475b8",
   "metadata": {},
   "outputs": [],
   "source": []
  }
 ],
 "metadata": {
  "kernelspec": {
   "display_name": "Python 3 (ipykernel)",
   "language": "python",
   "name": "python3"
  },
  "language_info": {
   "codemirror_mode": {
    "name": "ipython",
    "version": 3
   },
   "file_extension": ".py",
   "mimetype": "text/x-python",
   "name": "python",
   "nbconvert_exporter": "python",
   "pygments_lexer": "ipython3",
   "version": "3.9.7"
  }
 },
 "nbformat": 4,
 "nbformat_minor": 5
}
