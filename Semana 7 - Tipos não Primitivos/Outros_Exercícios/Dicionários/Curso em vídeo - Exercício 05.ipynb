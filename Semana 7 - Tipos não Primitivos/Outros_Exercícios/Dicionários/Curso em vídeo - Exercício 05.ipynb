{
 "cells": [
  {
   "cell_type": "code",
   "execution_count": 9,
   "id": "940e7f5f",
   "metadata": {},
   "outputs": [
    {
     "name": "stdout",
     "output_type": "stream",
     "text": [
      "Digite o nome da pessoa cadastrada: Bruno\n",
      "Informe o sexo da pessoa cadastrada [M/F]: M\n",
      "Digite a idade da pessoa cadastrada: 32\n",
      "Deseja continuar [S/N]?S\n",
      "Digite o nome da pessoa cadastrada: ana\n",
      "Informe o sexo da pessoa cadastrada [M/F]: F\n",
      "Digite a idade da pessoa cadastrada: 32\n",
      "Deseja continuar [S/N]?S\n",
      "Digite o nome da pessoa cadastrada: Maria\n",
      "Informe o sexo da pessoa cadastrada [M/F]: F\n",
      "Digite a idade da pessoa cadastrada: 20\n",
      "Deseja continuar [S/N]?S\n",
      "Digite o nome da pessoa cadastrada: Vinicius\n",
      "Informe o sexo da pessoa cadastrada [M/F]: M\n",
      "Digite a idade da pessoa cadastrada: 29\n",
      "Deseja continuar [S/N]?S\n",
      "Digite o nome da pessoa cadastrada: Joao\n",
      "Informe o sexo da pessoa cadastrada [M/F]: M\n",
      "Digite a idade da pessoa cadastrada: 30\n",
      "Deseja continuar [S/N]?S\n",
      "Digite o nome da pessoa cadastrada: José\n",
      "Informe o sexo da pessoa cadastrada [M/F]: M\n",
      "Digite a idade da pessoa cadastrada: 59\n",
      "Deseja continuar [S/N]?S\n",
      "Digite o nome da pessoa cadastrada: Lucia\n",
      "Informe o sexo da pessoa cadastrada [M/F]: F\n",
      "Digite a idade da pessoa cadastrada: 58\n",
      "Deseja continuar [S/N]?N\n",
      "-=-=-=-=-=-=-=-=-=-=-=-=-=-=-=-=-=-=-=-=-=-=-=-=-=-=-=-=-=-=\n",
      "                  AVALIAÇÃO DOS CADASTROS                   \n",
      "-=-=-=-=-=-=-=-=-=-=-=-=-=-=-=-=-=-=-=-=-=-=-=-=-=-=-=-=-=-=\n",
      "Ao todo foram cadastradas 7 pessoas.\n",
      "A média de idades é de 37.14\n",
      "As mulheres cadastradas foram: ana Maria Lucia \n",
      "As pessoas acima da média de idade foram: José Lucia "
     ]
    }
   ],
   "source": [
    "#5) Crie um programa que leia nome, sexo e idade de  várias pessoas, guardando os dados de cada pessoa em um dicionário e \n",
    "#   todos os dicionários em uma lista, no final mostre:\n",
    "#   Quantas pessoas foram cadastradas;\n",
    "#   A média de idade do grupo;\n",
    "#   Uma lista com todas as mulheres;\n",
    "#   Uma lista com todas as pessoas acima da média de idade\n",
    "\n",
    "#Abrindo a lista e o dicionário que usaremos:\n",
    "pessoa = {}\n",
    "cadastrados = []\n",
    "continua = ''\n",
    "média = soma = 0\n",
    "\n",
    "#Definindo condições de repetição:\n",
    "while continua in 'Ss':   \n",
    "    \n",
    "#Solicitar as informações:\n",
    "    pessoa['Nome'] = str(input('Digite o nome da pessoa cadastrada: '))\n",
    "    pessoa['Sexo'] = str(input('Informe o sexo da pessoa cadastrada [M/F]: '))\n",
    "    while pessoa['Sexo'] not in 'MmFf':\n",
    "        pessoa['Sexo'] = str(input('Opção inválida! Informe o sexo da pessoa cadastrada [M/F]: '))\n",
    "    pessoa['Idade'] = int(input('Digite a idade da pessoa cadastrada: '))\n",
    "    soma = soma + pessoa['Idade']\n",
    "    cadastrados.append(pessoa.copy())\n",
    "    continua = str(input('Deseja continuar [S/N]?'))\n",
    "    while continua not in 'SsNn':\n",
    "        continua = str(input('Opção inválida! Deseja continuar [S/N]? '))\n",
    "\n",
    "#Calculando a média de idades:\n",
    "média = soma / (len(cadastrados))\n",
    "\n",
    "#Retornando ao usuário:\n",
    "print('-=' * 30)\n",
    "print(f'{\"AVALIAÇÃO DOS CADASTROS\":^60}')\n",
    "print('-=' * 30)\n",
    "print(f'Ao todo foram cadastradas {len(cadastrados)} pessoas.')\n",
    "print(f'A média de idades é de {média:5.2f}')\n",
    "print('As mulheres cadastradas foram:', end=' ')\n",
    "for p in cadastrados:\n",
    "    if p['Sexo'] in 'Ff':\n",
    "        print(p['Nome'], end=' ')\n",
    "print()\n",
    "print('As pessoas acima da média de idade foram:', end=' ')\n",
    "for p in cadastrados: \n",
    "    if p['Idade'] > média:\n",
    "        print(p['Nome'], end=' ')"
   ]
  },
  {
   "cell_type": "code",
   "execution_count": null,
   "id": "bd440f0a",
   "metadata": {},
   "outputs": [],
   "source": []
  },
  {
   "cell_type": "code",
   "execution_count": null,
   "id": "f4ce2f7a",
   "metadata": {},
   "outputs": [],
   "source": []
  }
 ],
 "metadata": {
  "kernelspec": {
   "display_name": "Python 3 (ipykernel)",
   "language": "python",
   "name": "python3"
  },
  "language_info": {
   "codemirror_mode": {
    "name": "ipython",
    "version": 3
   },
   "file_extension": ".py",
   "mimetype": "text/x-python",
   "name": "python",
   "nbconvert_exporter": "python",
   "pygments_lexer": "ipython3",
   "version": "3.9.7"
  }
 },
 "nbformat": 4,
 "nbformat_minor": 5
}
