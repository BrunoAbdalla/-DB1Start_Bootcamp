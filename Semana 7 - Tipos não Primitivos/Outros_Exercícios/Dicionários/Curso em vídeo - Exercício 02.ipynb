{
 "cells": [
  {
   "cell_type": "code",
   "execution_count": 17,
   "id": "05cddf12",
   "metadata": {},
   "outputs": [
    {
     "name": "stdout",
     "output_type": "stream",
     "text": [
      "O Jogador 1 tirou 4\n",
      "O Jogador 2 tirou 3\n",
      "O Jorador 3 tirou 6\n",
      "O Jogador 4 tirou 3\n",
      "-=-=-=-=-=-=-=-=-=-=-=-=-=-=-=-=-=-=-=-=-=-=-=-=-=-=-=-=-=-=\n",
      "                         RESULTADOS                         \n",
      "-=-=-=-=-=-=-=-=-=-=-=-=-=-=-=-=-=-=-=-=-=-=-=-=-=-=-=-=-=-=\n",
      "O 1º Colocado foi o Jorador 3 que tirou 6\n",
      "O 2º Colocado foi o Jogador 1 que tirou 4\n",
      "O 3º Colocado foi o Jogador 2 que tirou 3\n",
      "O 4º Colocado foi o Jogador 4 que tirou 3\n"
     ]
    }
   ],
   "source": [
    "#2) Crie um programa onde 4 jogadores lancem um dado de 6 faces e guarde todos esses resultados em um dicionário.\n",
    "#   coloque esse dicionário em ordem sabendo que o vencedor é quem tirou o maior número no dado.\n",
    "\n",
    "#Importando as bibliotecas necessárias\n",
    "import random\n",
    "import time\n",
    "import operator\n",
    "\n",
    "#Definindo o dicionário com os jogadores e seus resultados:\n",
    "jogos = {'Jogador 1': random.randint(1,6),\n",
    "         'Jogador 2': random.randint(1,6),\n",
    "         'Jorador 3': random.randint(1,6),\n",
    "         'Jogador 4': random.randint(1,6)}\n",
    "\n",
    "#Criando a lista onde serão armazenados os jogadores do dicionário após serem ordenados:\n",
    "ranking = []\n",
    "\n",
    "#Exibindo os resultados de cada jogador:\n",
    "for k, v in jogos.items():\n",
    "    print(f'O {k} tirou {v}')\n",
    "    time.sleep(1)\n",
    "\n",
    "#Exibição do cabeçalhodos resultados:\n",
    "print('-=' * 30)\n",
    "print(f'{\"RESULTADOS\":^60}')\n",
    "print('-=' * 30)\n",
    "\n",
    "#Organizando os elementos do dicionário SORTED(O QUE IRÁ ORGANIZAR, COM BASE EM QUE, DECRESCENTE)\n",
    "ranking = sorted(jogos.items(), key=operator.itemgetter(1), reverse = True)\n",
    "\n",
    "#Exibindo os resultados da competição\n",
    "for c, v in enumerate(ranking):\n",
    "    print(f'O {c + 1}º Colocado foi o {v[0]} que tirou {v[1]}')\n",
    "    time.sleep(1)\n",
    "    \n",
    "    \n"
   ]
  },
  {
   "cell_type": "code",
   "execution_count": null,
   "id": "cc57c39c",
   "metadata": {},
   "outputs": [],
   "source": []
  }
 ],
 "metadata": {
  "kernelspec": {
   "display_name": "Python 3 (ipykernel)",
   "language": "python",
   "name": "python3"
  },
  "language_info": {
   "codemirror_mode": {
    "name": "ipython",
    "version": 3
   },
   "file_extension": ".py",
   "mimetype": "text/x-python",
   "name": "python",
   "nbconvert_exporter": "python",
   "pygments_lexer": "ipython3",
   "version": "3.9.7"
  }
 },
 "nbformat": 4,
 "nbformat_minor": 5
}
