{
 "cells": [
  {
   "cell_type": "code",
   "execution_count": 16,
   "id": "106de3a5",
   "metadata": {},
   "outputs": [
    {
     "name": "stdout",
     "output_type": "stream",
     "text": [
      "Digite o nome do trabalhador: Bruno\n",
      "Digite o ano de nascimento do trabalhador: 1989\n",
      "Digite o número da carteira de trabalho do trabalhador (caso não tenha, digite 0): 1234134\n",
      "Digite o ano de contratação do trabalhador: 2020\n",
      "Digite o salário do trabalhador: 1200.89\n",
      "-=-=-=-=-=-=-=-=-=-=-=-=-=-=-=-=-=-=-=-=-=-=-=-=-=-=-=-=-=-=\n",
      "O nome do trabalhador é Bruno\n",
      "A idade do trabalhador é 33 anos\n",
      "O número da carteira de tabalho é 1234134\n",
      "Tem um salário de: R$1200.89\n",
      "O trabalhador se aposentará com 66 anos\n"
     ]
    }
   ],
   "source": [
    "#3) Crie um programa que leio nome, ano de nascimento e o número da carteira de trabalho de uma pessoa, e que guarde o nome,\n",
    "#   a idade e a carteira de trabalho em um dicionário. Se o número da carteira de trabalho for != 0, recebe também o ano de \n",
    "#   contratação e o salário da pessoa, calcule e acrescente com quantos anos a pessoa vai se aposentar (considerando 35 anos de\n",
    "#   contribuição.) \n",
    "\n",
    "#Importando a função para descobrir a data atual:\n",
    "import datetime\n",
    "\n",
    "#Abrindo o dicionário de armazenamento:\n",
    "dados = {}\n",
    "\n",
    "#Solicitando as entradas ao usuário:\n",
    "dados['Nome'] = str(input('Digite o nome do trabalhador: '))\n",
    "data_nascimento = int(input('Digite o ano de nascimento do trabalhador: '))\n",
    "ano_atual = datetime.datetime.now().year\n",
    "dados['Idade'] = ano_atual - data_nascimento\n",
    "dados['CTPS'] = int(input('Digite o número da carteira de trabalho do trabalhador (caso não tenha, digite 0): '))\n",
    "\n",
    "#Retorno ao usuário sem carteira de trabalho:\n",
    "if dados['CTPS'] == 0:\n",
    "    print('-=' * 30)\n",
    "    print(f'O nome do trabalhador é {dados[\"Nome\"]}')\n",
    "    print(f'A idade do trabalhador é {dados[\"Idade\"]}anos')\n",
    "    print('E ainda não possui carteira de trabalho.')\n",
    "\n",
    "#Solicitação dos dados adicionais e cálculos inerentes:\n",
    "else:\n",
    "    dados['Contratação'] = int(input('Digite o ano de contratação do trabalhador: '))\n",
    "    dados['Salário'] = float(input('Digite o salário do trabalhador: '))\n",
    "    \n",
    "    aposenta = (dados['Contratação'] + 35) - data_nascimento\n",
    "\n",
    "#Retorno ao usuário com carteira de trabalho:\n",
    "    print('-=' * 30)\n",
    "    print(f'O nome do trabalhador é {dados[\"Nome\"]}')\n",
    "    print(f'A idade do trabalhador é {dados[\"Idade\"]} anos')\n",
    "    print(f'O número da carteira de tabalho é {dados[\"CTPS\"]}')\n",
    "    print(f'Tem um salário de: R${dados[\"Salário\"]:.2f}')\n",
    "    print(f'O trabalhador se aposentará com {aposenta} anos')\n"
   ]
  },
  {
   "cell_type": "code",
   "execution_count": null,
   "id": "66e329c3",
   "metadata": {},
   "outputs": [],
   "source": []
  }
 ],
 "metadata": {
  "kernelspec": {
   "display_name": "Python 3 (ipykernel)",
   "language": "python",
   "name": "python3"
  },
  "language_info": {
   "codemirror_mode": {
    "name": "ipython",
    "version": 3
   },
   "file_extension": ".py",
   "mimetype": "text/x-python",
   "name": "python",
   "nbconvert_exporter": "python",
   "pygments_lexer": "ipython3",
   "version": "3.9.7"
  }
 },
 "nbformat": 4,
 "nbformat_minor": 5
}
