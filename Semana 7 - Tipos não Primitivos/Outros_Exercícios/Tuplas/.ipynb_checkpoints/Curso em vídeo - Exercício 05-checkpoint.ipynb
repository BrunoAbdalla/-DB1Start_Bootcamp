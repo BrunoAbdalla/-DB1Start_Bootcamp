{
 "cells": [
  {
   "cell_type": "code",
   "execution_count": 39,
   "id": "7dd79b0e",
   "metadata": {},
   "outputs": [
    {
     "name": "stdout",
     "output_type": "stream",
     "text": [
      "Lápis.........................R$  1.75\n",
      "Borracha......................R$  2.00\n",
      "Caderno.......................R$ 15.90\n",
      "Estojo........................R$ 25.00\n",
      "Transferidor..................R$  4.20\n",
      "Compasso......................R$  9.99\n",
      "Mochila.......................R$120.32\n",
      "Canetas.......................R$ 22.30\n",
      "Livro.........................R$ 34.90\n"
     ]
    }
   ],
   "source": [
    "#5) Crie um programa que tenha uma única tupla com produtos e seus respectivos preços na sequência. No final mostre uma listagem\n",
    "#   de preços organizando os dados em forma tabular.\n",
    "\n",
    "#Definindo a tupla com os nomes e os preços:\n",
    "lista = ('Lápis', 1.75, 'Borracha', 2.00, 'Caderno', 15.90, 'Estojo', 25.00, 'Transferidor', 4.20, 'Compasso', 9.99,\n",
    "        'Mochila', 120.32, 'Canetas', 22.30, 'Livro', 34.90)\n",
    "\n",
    "#Para poder tratar os termos da tupla pares e ímpares, utilizamos o range.\n",
    "for n in range(0, len(lista)):\n",
    "    if n % 2 == 0:\n",
    "        print(f'{lista[n]:.<30}', end = '')\n",
    "    else:\n",
    "        print(f'R${lista[n]:>6.2f}')"
   ]
  },
  {
   "cell_type": "code",
   "execution_count": null,
   "id": "e4736fec",
   "metadata": {},
   "outputs": [],
   "source": []
  }
 ],
 "metadata": {
  "kernelspec": {
   "display_name": "Python 3 (ipykernel)",
   "language": "python",
   "name": "python3"
  },
  "language_info": {
   "codemirror_mode": {
    "name": "ipython",
    "version": 3
   },
   "file_extension": ".py",
   "mimetype": "text/x-python",
   "name": "python",
   "nbconvert_exporter": "python",
   "pygments_lexer": "ipython3",
   "version": "3.9.7"
  }
 },
 "nbformat": 4,
 "nbformat_minor": 5
}
