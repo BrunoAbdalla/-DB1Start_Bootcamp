{
 "cells": [
  {
   "cell_type": "code",
   "execution_count": 9,
   "id": "1ddf92dd",
   "metadata": {},
   "outputs": [
    {
     "name": "stdout",
     "output_type": "stream",
     "text": [
      "Por favor, informe um número entre 0 e 20: 21\n",
      "Opção inválida! Escolha um número entre 0 e 20: 3\n",
      "Você digitou o número três\n"
     ]
    }
   ],
   "source": [
    "#1) Faça um programa que tenha uma tupla com números entre 0 e vinte escritos por extenso e, quando o usuário digitar um número\n",
    "#   entre 0 e 20, o programa retorne esse número pos extenso, com verificação de números invários.\n",
    "\n",
    "#Definição da Tupla com os valores:\n",
    "\n",
    "gabarito = ('zero', 'um', 'dois', 'três', 'quarto', 'cinco', 'seis', 'sete', 'oito', 'nove', 'dez', 'onze', 'doze', 'treze', 'quartoze', 'quinze', 'desesseis', 'desessete', 'desoito', 'desenove', 'vinte')\n",
    "\n",
    "#Solicitação do número para o usuário:\n",
    "\n",
    "num = int(input('Por favor, informe um número entre 0 e 20: '))\n",
    "\n",
    "#Verificação se o número está no período informado\n",
    "while num not in range (0, 21):\n",
    "    num = int(input(\"Opção inválida! Escolha um número entre 0 e 20: \"))\n",
    "\n",
    "print(f\"Você digitou o número {gabarito[num]}\")"
   ]
  },
  {
   "cell_type": "code",
   "execution_count": null,
   "id": "a7ebf63a",
   "metadata": {},
   "outputs": [],
   "source": []
  }
 ],
 "metadata": {
  "kernelspec": {
   "display_name": "Python 3 (ipykernel)",
   "language": "python",
   "name": "python3"
  },
  "language_info": {
   "codemirror_mode": {
    "name": "ipython",
    "version": 3
   },
   "file_extension": ".py",
   "mimetype": "text/x-python",
   "name": "python",
   "nbconvert_exporter": "python",
   "pygments_lexer": "ipython3",
   "version": "3.9.7"
  }
 },
 "nbformat": 4,
 "nbformat_minor": 5
}
