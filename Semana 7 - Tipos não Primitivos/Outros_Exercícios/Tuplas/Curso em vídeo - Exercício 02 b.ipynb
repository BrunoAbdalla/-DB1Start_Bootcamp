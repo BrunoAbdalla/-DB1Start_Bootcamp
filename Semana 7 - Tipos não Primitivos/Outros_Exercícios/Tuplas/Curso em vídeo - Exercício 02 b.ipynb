{
 "cells": [
  {
   "cell_type": "code",
   "execution_count": 11,
   "id": "746fb478",
   "metadata": {},
   "outputs": [
    {
     "name": "stdout",
     "output_type": "stream",
     "text": [
      "-=-=-=-=-=-=-=-=-=-=-=-=-=-=-=\n",
      "A classificação do brasileirão é:\n",
      "('Corinhians', 'Atlético-Mg', 'São Paulo', 'Botafogo', 'Santos', 'Coritiba', 'Avaí', 'América-MG', 'Palmeiras', 'Bragantino', 'Internacional', 'Fluminense', 'Goiás', 'Cuiabá', 'Athlético-PR', 'Flamengo', 'Juventude', 'Ceará', 'Atlético-GO', 'Fortaleza')\n",
      "-=-=-=-=-=-=-=-=-=-=-=-=-=-=-=\n",
      "Os 5 primeiros colocados são: ('Corinhians', 'Atlético-Mg', 'São Paulo', 'Botafogo', 'Santos')\n",
      "-=-=-=-=-=-=-=-=-=-=-=-=-=-=-=\n",
      "Os 4 últimos colocados são: ('Juventude', 'Ceará', 'Atlético-GO', 'Fortaleza')\n",
      "-=-=-=-=-=-=-=-=-=-=-=-=-=-=-=\n",
      "Os times do brasileirão, em ordem alfabética, são: ['América-MG', 'Athlético-PR', 'Atlético-GO', 'Atlético-Mg', 'Avaí', 'Botafogo', 'Bragantino', 'Ceará', 'Corinhians', 'Coritiba', 'Cuiabá', 'Flamengo', 'Fluminense', 'Fortaleza', 'Goiás', 'Internacional', 'Juventude', 'Palmeiras', 'Santos', 'São Paulo']\n",
      "-=-=-=-=-=-=-=-=-=-=-=-=-=-=-=\n",
      "O Santos está em 5º colocado.\n",
      "-=-=-=-=-=-=-=-=-=-=-=-=-=-=-=\n"
     ]
    }
   ],
   "source": [
    "#2) Crie uma tupla preenchida com os 20 primeiros times do campeonato brasileiro de futebol na ordem de colocação e mostre:\n",
    "#   A - Apenas os 5 primeiros times;\n",
    "#   B - Os 4 últimos colocados da tabela;\n",
    "#   C - Lista com os times em ordem alfabética;\n",
    "#   D - Em que posição da tabela está a Chapecoense (trocando por Santos, pois a Chapecoense está na série B)\n",
    "\n",
    "#Cadastrando a classificação do campeonato brasileiro:\n",
    "brasileiro = ('Corinhians', 'Atlético-Mg', 'São Paulo', 'Botafogo', 'Santos', 'Coritiba', 'Avaí', 'América-MG', 'Palmeiras',\n",
    "             'Bragantino', 'Internacional', 'Fluminense', 'Goiás', 'Cuiabá', 'Athlético-PR', 'Flamengo', 'Juventude', 'Ceará',\n",
    "             'Atlético-GO', 'Fortaleza')\n",
    "\n",
    "#Imprimindo a lista toda:\n",
    "print('-=' * 15)\n",
    "print(f'A classificação do brasileirão é:\\n{brasileiro}')\n",
    "print('-=' * 15)\n",
    "\n",
    "#Imprimindo os 5 primeiros times:\n",
    "print(f'Os 5 primeiros colocados são: {brasileiro[0:5]}')\n",
    "print('-=' * 15)\n",
    "\n",
    "#Imprimindo os 4 últimos times:\n",
    "print(f'Os 4 últimos colocados são: {brasileiro[-4:]}')\n",
    "print('-=' * 15)\n",
    "\n",
    "#Imprimindo os times em ordem alfabética:\n",
    "print(f'Os times do brasileirão, em ordem alfabética, são: {sorted(brasileiro)}')\n",
    "print('-=' * 15)\n",
    "\n",
    "#Imprimindo a posição do Santos:\n",
    "print(f'O Santos está em {brasileiro.index(\"Santos\") + 1}º colocado.')\n",
    "print('-=' * 15)"
   ]
  },
  {
   "cell_type": "code",
   "execution_count": null,
   "id": "e9941b82",
   "metadata": {},
   "outputs": [],
   "source": []
  }
 ],
 "metadata": {
  "kernelspec": {
   "display_name": "Python 3 (ipykernel)",
   "language": "python",
   "name": "python3"
  },
  "language_info": {
   "codemirror_mode": {
    "name": "ipython",
    "version": 3
   },
   "file_extension": ".py",
   "mimetype": "text/x-python",
   "name": "python",
   "nbconvert_exporter": "python",
   "pygments_lexer": "ipython3",
   "version": "3.9.7"
  }
 },
 "nbformat": 4,
 "nbformat_minor": 5
}
