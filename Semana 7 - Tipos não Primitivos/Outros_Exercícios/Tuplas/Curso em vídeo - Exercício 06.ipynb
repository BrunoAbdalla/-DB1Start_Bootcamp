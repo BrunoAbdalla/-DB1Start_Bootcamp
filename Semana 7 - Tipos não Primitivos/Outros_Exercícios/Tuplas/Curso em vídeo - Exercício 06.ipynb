{
 "cells": [
  {
   "cell_type": "code",
   "execution_count": 15,
   "id": "9b7fc4b2",
   "metadata": {},
   "outputs": [
    {
     "name": "stdout",
     "output_type": "stream",
     "text": [
      "\n",
      "-=-=-=-=-=-=-=-=-=-=-=-=-=-=-=-=-=-=-=-=-=-=-=-=-=-=-=-=-=-=\n",
      "Na palavra aprender temos as volgais: a e \n",
      "-=-=-=-=-=-=-=-=-=-=-=-=-=-=-=-=-=-=-=-=-=-=-=-=-=-=-=-=-=-=\n",
      "Na palavra programar temos as volgais: a o \n",
      "-=-=-=-=-=-=-=-=-=-=-=-=-=-=-=-=-=-=-=-=-=-=-=-=-=-=-=-=-=-=\n",
      "Na palavra linguagem temos as volgais: a e i u \n",
      "-=-=-=-=-=-=-=-=-=-=-=-=-=-=-=-=-=-=-=-=-=-=-=-=-=-=-=-=-=-=\n",
      "Na palavra python temos as volgais: o \n",
      "-=-=-=-=-=-=-=-=-=-=-=-=-=-=-=-=-=-=-=-=-=-=-=-=-=-=-=-=-=-=\n",
      "Na palavra curso temos as volgais: o u \n",
      "-=-=-=-=-=-=-=-=-=-=-=-=-=-=-=-=-=-=-=-=-=-=-=-=-=-=-=-=-=-=\n",
      "Na palavra gratis temos as volgais: a i \n",
      "-=-=-=-=-=-=-=-=-=-=-=-=-=-=-=-=-=-=-=-=-=-=-=-=-=-=-=-=-=-=\n",
      "Na palavra estudar temos as volgais: a e u \n",
      "-=-=-=-=-=-=-=-=-=-=-=-=-=-=-=-=-=-=-=-=-=-=-=-=-=-=-=-=-=-=\n",
      "Na palavra praticar temos as volgais: a i \n",
      "-=-=-=-=-=-=-=-=-=-=-=-=-=-=-=-=-=-=-=-=-=-=-=-=-=-=-=-=-=-=\n",
      "Na palavra trabalhar temos as volgais: a \n",
      "-=-=-=-=-=-=-=-=-=-=-=-=-=-=-=-=-=-=-=-=-=-=-=-=-=-=-=-=-=-=\n",
      "Na palavra mercado temos as volgais: a e o \n",
      "-=-=-=-=-=-=-=-=-=-=-=-=-=-=-=-=-=-=-=-=-=-=-=-=-=-=-=-=-=-=\n",
      "Na palavra programador temos as volgais: a o \n",
      "-=-=-=-=-=-=-=-=-=-=-=-=-=-=-=-=-=-=-=-=-=-=-=-=-=-=-=-=-=-=\n",
      "Na palavra futuro temos as volgais: o u "
     ]
    }
   ],
   "source": [
    "#6) Criar um programa que tenha uma tupla com várias palavras e depois disso você deve mostrar para cada palavra quais são as\n",
    "#   vogais presentes em cada das palavras\n",
    "\n",
    "#Tupla com as palavras:\n",
    "palavras = ('aprender', 'programar', 'linguagem', 'python', 'curso', 'gratis', 'estudar', 'praticar', 'trabalhar', 'mercado',\n",
    "           'programador', 'futuro')\n",
    "\n",
    "#Tupla com as vogais\n",
    "vogais = ('a', 'e', 'i', 'o', 'u')\n",
    "\n",
    "#Verificando se são vogais e retornar ao usuário\n",
    "for p in palavras:\n",
    "    print('\\n' + '-=' * 30)\n",
    "    print(f'Na palavra {p} temos as volgais: ', end = '')\n",
    "    for v in vogais:\n",
    "        if v.lower() in (p):\n",
    "            print(v, end = ' ')\n",
    "\n",
    "        "
   ]
  },
  {
   "cell_type": "code",
   "execution_count": null,
   "id": "a949cb3d",
   "metadata": {},
   "outputs": [],
   "source": []
  }
 ],
 "metadata": {
  "kernelspec": {
   "display_name": "Python 3 (ipykernel)",
   "language": "python",
   "name": "python3"
  },
  "language_info": {
   "codemirror_mode": {
    "name": "ipython",
    "version": 3
   },
   "file_extension": ".py",
   "mimetype": "text/x-python",
   "name": "python",
   "nbconvert_exporter": "python",
   "pygments_lexer": "ipython3",
   "version": "3.9.7"
  }
 },
 "nbformat": 4,
 "nbformat_minor": 5
}
