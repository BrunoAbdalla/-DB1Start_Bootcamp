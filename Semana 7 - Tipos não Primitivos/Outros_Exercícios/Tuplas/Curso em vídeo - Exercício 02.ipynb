{
 "cells": [
  {
   "cell_type": "code",
   "execution_count": 34,
   "id": "a5355234",
   "metadata": {},
   "outputs": [
    {
     "name": "stdout",
     "output_type": "stream",
     "text": [
      "Digite a opção do que você deseja ver: \n",
      "A - Os 5 primeiros colocados \n",
      "B - Os 4 últimos times \n",
      "C - Os times em ordem alfabética \n",
      "D - Em que posição está o Santos \n",
      "Opção desejada: d\n",
      "O Santos está em 5º lugar no campeonato brasileiro.\n"
     ]
    }
   ],
   "source": [
    "#2) Crie uma tupla preenchida com os 20 primeiros times do campeonato brasileiro de futebol na ordem de colocação e mostre:\n",
    "#   A - Apenas os 5 primeiros times;\n",
    "#   B - Os 4 últimos colocados da tabela;\n",
    "#   C - Lista com os times em ordem alfabética;\n",
    "#   D - Em que posição da tabela está a Chapecoense (trocando por Santos, pois a Chapecoense está na série B)\n",
    "\n",
    "#Cadastrando a classificação do campeonato brasileiro:\n",
    "\n",
    "brasileiro = ('Corinhians', 'Atlético-Mg', 'São Paulo', 'Botafogo', 'Santos', 'Coritiba', 'Avaí', 'América-MG', 'Palmeiras',\n",
    "             'Bragantino', 'Internacional', 'Fluminense', 'Goiás', 'Cuiabá', 'Athlético-PR', 'Flamengo', 'Juventude', 'Ceará',\n",
    "             'Atlético-GO', 'Fortaleza')\n",
    "\n",
    "#Solicitação do desejo do usuário:\n",
    "opção = (str(input(\"Digite a opção do que você deseja ver: \\nA - Os 5 primeiros colocados \\nB - Os 4 últimos times \\nC - Os times em ordem alfabética \\nD - Em que posição está o Santos \\nOpção desejada: \")))\n",
    "\n",
    "#Verificação se a opção desejada está dentro do esperado:\n",
    "while opção not in 'AaBbCcDd':\n",
    "    opção = (str(input('Opção inválida!\\nA - Os 5 primeiros colocados \\nB - Os 4 últimos times \\nC - Os times em ordem alfabética \\nD - Em que posição está o Santos \\nO que você quer ver? [A/B/C/D] ')))\n",
    "\n",
    "#Opções possíveis:\n",
    "if opção in 'Aa':\n",
    "    print('\\nOs cinco primeiros colocados do campeonato brasileiro são:')\n",
    "    print(f'1º {brasileiro[0]} \\n2º {brasileiro[1]} \\n3º {brasileiro[2]} \\n4º {brasileiro[3]} \\n5º {brasileiro[4]}')\n",
    "    \n",
    "elif opção in 'Bb':\n",
    "    print('\\nOs quatro últimos colocados do campeonato brasileiro são:')\n",
    "    print(f'17º {brasileiro[16]} \\n18º {brasileiro[17]} \\n19º {brasileiro[18]} \\n20º {brasileiro[19]}')\n",
    "    \n",
    "elif opção in 'Cc':\n",
    "    print(sorted(brasileiro))\n",
    "    \n",
    "else:\n",
    "    posição_santos = int(brasileiro.index('Santos')) + 1\n",
    "    print(f'O Santos está em {posição_santos}º lugar no campeonato brasileiro.')"
   ]
  },
  {
   "cell_type": "code",
   "execution_count": null,
   "id": "1660810a",
   "metadata": {},
   "outputs": [],
   "source": []
  }
 ],
 "metadata": {
  "kernelspec": {
   "display_name": "Python 3 (ipykernel)",
   "language": "python",
   "name": "python3"
  },
  "language_info": {
   "codemirror_mode": {
    "name": "ipython",
    "version": 3
   },
   "file_extension": ".py",
   "mimetype": "text/x-python",
   "name": "python",
   "nbconvert_exporter": "python",
   "pygments_lexer": "ipython3",
   "version": "3.9.7"
  }
 },
 "nbformat": 4,
 "nbformat_minor": 5
}
