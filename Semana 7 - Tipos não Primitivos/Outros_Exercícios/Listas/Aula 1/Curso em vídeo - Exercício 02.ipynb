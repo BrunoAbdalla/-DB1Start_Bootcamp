{
 "cells": [
  {
   "cell_type": "code",
   "execution_count": 5,
   "id": "eb20a222",
   "metadata": {},
   "outputs": [
    {
     "name": "stdout",
     "output_type": "stream",
     "text": [
      "Por favor, informe um número para a lista: 2\n",
      "Deseja inserir mais um número [S/N]? s\n",
      "Por favor, informe um número para a lista: 9\n",
      "Deseja inserir mais um número [S/N]? s\n",
      "Por favor, informe um número para a lista: 2\n",
      "Número não adicionado pois ele já faz parte da lista!\n",
      "Deseja inserir mais um número [S/N]? s\n",
      "Por favor, informe um número para a lista: 6\n",
      "Deseja inserir mais um número [S/N]? s\n",
      "Por favor, informe um número para a lista: 49\n",
      "Deseja inserir mais um número [S/N]? s\n",
      "Por favor, informe um número para a lista: 25\n",
      "Deseja inserir mais um número [S/N]? s\n",
      "Por favor, informe um número para a lista: 36\n",
      "Deseja inserir mais um número [S/N]? n\n",
      "A lista informada (em ordem crescente foi: [2, 6, 9, 25, 36, 49])\n"
     ]
    }
   ],
   "source": [
    "#2) Crie um programa onde o usuário pode informar vários valores numéricos que serão cadastrados em uma lista, caso o número \n",
    "#   informado já estaja na lista ele não será adicionado novamente, no final serão mostrados todos os números informados em \n",
    "#   ordem crescente. (Perguntar ao usuário após cada adição se ele quer continuar)\n",
    "\n",
    "#Lista vazia\n",
    "lista = []\n",
    "continuar = ''\n",
    "num_informado = 0\n",
    "\n",
    "#Adição da condição para adicionar novos números e adição de novos valores\n",
    "while continuar in 'Ss':\n",
    "    num_informado = int(input('Por favor, informe um número para a lista: '))\n",
    "    \n",
    "#Verificando se o número informado já não faz parte da lista\n",
    "    if num_informado not in lista:\n",
    "        lista.append(num_informado)\n",
    "    else:\n",
    "        print('Número não adicionado pois ele já faz parte da lista!')\n",
    "\n",
    "#Definição da condição de continuidade do looping com confirmação de opções válidas\n",
    "    continuar = str(input('Deseja inserir mais um número [S/N]? '))\n",
    "    while continuar not in \"SsNn\":\n",
    "        continuar = str(input('Opção inválida! Deseja inseerir mais um número [S/N]? '))\n",
    "\n",
    "#Ordenando os valores da lista e retornando ao usuário:\n",
    "lista.sort()\n",
    "print(f'A lista informada (em ordem crescente foi: {lista})')\n"
   ]
  },
  {
   "cell_type": "code",
   "execution_count": null,
   "id": "d4179cdc",
   "metadata": {},
   "outputs": [],
   "source": []
  }
 ],
 "metadata": {
  "kernelspec": {
   "display_name": "Python 3 (ipykernel)",
   "language": "python",
   "name": "python3"
  },
  "language_info": {
   "codemirror_mode": {
    "name": "ipython",
    "version": 3
   },
   "file_extension": ".py",
   "mimetype": "text/x-python",
   "name": "python",
   "nbconvert_exporter": "python",
   "pygments_lexer": "ipython3",
   "version": "3.9.7"
  }
 },
 "nbformat": 4,
 "nbformat_minor": 5
}
