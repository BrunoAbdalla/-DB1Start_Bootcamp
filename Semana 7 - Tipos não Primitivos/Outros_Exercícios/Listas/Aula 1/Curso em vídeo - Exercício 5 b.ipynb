{
 "cells": [
  {
   "cell_type": "code",
   "execution_count": 6,
   "id": "0431888c",
   "metadata": {},
   "outputs": [
    {
     "name": "stdout",
     "output_type": "stream",
     "text": [
      "Digite um número: 3\n",
      "Deseja continuar [S/N]? s\n",
      "Digite um número: 2\n",
      "Deseja continuar [S/N]? s\n",
      "Digite um número: 6\n",
      "Deseja continuar [S/N]? s\n",
      "Digite um número: 8\n",
      "Deseja continuar [S/N]? s\n",
      "Digite um número: 7\n",
      "Deseja continuar [S/N]? s\n",
      "Digite um número: 1\n",
      "Deseja continuar [S/N]? s\n",
      "Digite um número: 0\n",
      "Deseja continuar [S/N]? s\n",
      "Digite um número: 1\n",
      "Deseja continuar [S/N]? n\n",
      "------------------------------------------------------------\n",
      "A lista geral ficou: [3, 2, 6, 8, 7, 1, 0, 1]\n",
      "------------------------------------------------------------\n",
      "A lista só com os números pares ficou: [2, 6, 8, 0]\n",
      "A lista só com os números ímpares ficou: [3, 7, 1, 1]\n"
     ]
    }
   ],
   "source": [
    "#5) Crie um programa que leia vários números e coloque em uma lista, depois crie duas listas separadas, um apenas com os números\n",
    "#   pares e outra só com os números ímpares:\n",
    "\n",
    "#Criando listas vazias:\n",
    "geral = []\n",
    "par = []\n",
    "impar = []\n",
    "continua = ''\n",
    "\n",
    "#Adicionando os valores para a lista geral e definindo os parâmetros de repetição\n",
    "while True:\n",
    "    geral.append(int(input('Digite um número: ')))\n",
    "    continua = str(input('Deseja continuar [S/N]? '))\n",
    "    while continua not in 'SsNn':\n",
    "        continua = str(input('Opção inválida! Deseja continuar [S/N]? '))\n",
    "    if continua in 'Nn':\n",
    "        break\n",
    "    else:\n",
    "        pass\n",
    "\n",
    "for n in geral:\n",
    "    if n % 2 == 0:\n",
    "        par.append(n)\n",
    "    else:\n",
    "        impar.append(n)\n",
    "\n",
    "print('-' * 60)\n",
    "print(f'A lista geral ficou: {geral}')\n",
    "print('-' * 60)\n",
    "print(f'A lista só com os números pares ficou: {par}')\n",
    "print(f'A lista só com os números ímpares ficou: {impar}')\n"
   ]
  },
  {
   "cell_type": "code",
   "execution_count": null,
   "id": "02ae7352",
   "metadata": {},
   "outputs": [],
   "source": []
  }
 ],
 "metadata": {
  "kernelspec": {
   "display_name": "Python 3 (ipykernel)",
   "language": "python",
   "name": "python3"
  },
  "language_info": {
   "codemirror_mode": {
    "name": "ipython",
    "version": 3
   },
   "file_extension": ".py",
   "mimetype": "text/x-python",
   "name": "python",
   "nbconvert_exporter": "python",
   "pygments_lexer": "ipython3",
   "version": "3.9.7"
  }
 },
 "nbformat": 4,
 "nbformat_minor": 5
}
