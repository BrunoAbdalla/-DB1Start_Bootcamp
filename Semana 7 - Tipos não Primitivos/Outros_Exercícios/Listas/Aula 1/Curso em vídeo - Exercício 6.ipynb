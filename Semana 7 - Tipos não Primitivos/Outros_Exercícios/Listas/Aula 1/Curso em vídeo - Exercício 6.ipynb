{
 "cells": [
  {
   "cell_type": "code",
   "execution_count": 32,
   "id": "db672566",
   "metadata": {
    "scrolled": true
   },
   "outputs": [
    {
     "name": "stdout",
     "output_type": "stream",
     "text": [
      "Por favor, insira a expressão a ser analisada: (a+b\n",
      "Sua expressão não é valida!\n",
      "1\n",
      "0\n"
     ]
    }
   ],
   "source": [
    "#6) Fazer um programa que leia uma expressão que contenha parênteses informada pelo usuário e responda se a expressão é válida \n",
    "#   ou não baseando-se na abertura e fechamento de parênteses.\n",
    "#   - Exemplo de expressão: (a+b)-c+(d-2)\n",
    "\n",
    "#Abrindo a lista que armazenará os dados do usuário e as variáveis de controle:\n",
    "expressão = ''\n",
    "abriu = 0\n",
    "fechou = 0\n",
    "\n",
    "#Solicitanto ao usuário que informe uma expressão para ver se ela é valida ou não.\n",
    "expressão = (str(input('Por favor, insira a expressão a ser analisada: ')))\n",
    "\n",
    "for c in expressão:\n",
    "    if c == '(':\n",
    "        abriu = abriu + 1\n",
    "\n",
    "    else:\n",
    "        pass\n",
    "    \n",
    "    if c == ')':\n",
    "        fechou = fechou + 1\n",
    "        \n",
    "    else:\n",
    "        pass\n",
    "\n",
    "if abriu == fechou:\n",
    "    print('Sua expressão é válida!')\n",
    "else:\n",
    "    print('Sua expressão não é valida!')\n"
   ]
  }
 ],
 "metadata": {
  "kernelspec": {
   "display_name": "Python 3 (ipykernel)",
   "language": "python",
   "name": "python3"
  },
  "language_info": {
   "codemirror_mode": {
    "name": "ipython",
    "version": 3
   },
   "file_extension": ".py",
   "mimetype": "text/x-python",
   "name": "python",
   "nbconvert_exporter": "python",
   "pygments_lexer": "ipython3",
   "version": "3.9.7"
  }
 },
 "nbformat": 4,
 "nbformat_minor": 5
}
