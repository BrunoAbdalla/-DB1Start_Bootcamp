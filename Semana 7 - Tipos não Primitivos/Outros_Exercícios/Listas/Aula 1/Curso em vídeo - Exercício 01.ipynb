{
 "cells": [
  {
   "cell_type": "code",
   "execution_count": 30,
   "id": "f0ddb623",
   "metadata": {},
   "outputs": [
    {
     "name": "stdout",
     "output_type": "stream",
     "text": [
      "Digite um número: 2\n",
      "Digite mais um número: 2\n",
      "Digite outro número: 5\n",
      "Digite mais um número: 9\n",
      "Digite o último número: 36\n",
      "-=-=-=-=-=-=-=-=-=-=-=-=-=-=-=-=-=-=-=-=\n",
      "A lista informada foi: 2 2 5 9 36 \n",
      "-=-=-=-=-=-=-=-=-=-=-=-=-=-=-=-=-=-=-=-=\n",
      "O maior número encontrado foi o 36, que estava na 5ª posição.\n",
      "O menor número encontrado foi o 2, que estava na 1ª posição.\n"
     ]
    }
   ],
   "source": [
    "#1) Faça um programa que leia 5 valores numéricos e guarde-os em uma lista. No final mostre qual foi o maior e o menor número\n",
    "#   digitados,  a sua posição na lista.\n",
    "\n",
    "lista = [int(input('Digite um número: ')),\n",
    "        int(input('Digite mais um número: ')),\n",
    "        int(input('Digite outro número: ')),\n",
    "        int(input('Digite mais um número: ')),\n",
    "        int(input('Digite o último número: '))]\n",
    "\n",
    "#Retornando a lista para o usuário:\n",
    "print('-=' * 20)\n",
    "print(f'A lista informada foi: ', end='')\n",
    "for n in lista:\n",
    "    print(f'{n} ', end = '')\n",
    "print('\\n'+'-=' * 20)\n",
    "\n",
    "#Retornando o maior e o menor número:\n",
    "print(f'O maior número encontrado foi o {max(lista)}, que estava na {lista.index(max(lista))+1}ª posição.')\n",
    "print(f'O menor número encontrado foi o {min(lista)}, que estava na {lista.index(min(lista))+1}ª posição.')"
   ]
  },
  {
   "cell_type": "code",
   "execution_count": null,
   "id": "d84c9dc2",
   "metadata": {},
   "outputs": [],
   "source": []
  }
 ],
 "metadata": {
  "kernelspec": {
   "display_name": "Python 3 (ipykernel)",
   "language": "python",
   "name": "python3"
  },
  "language_info": {
   "codemirror_mode": {
    "name": "ipython",
    "version": 3
   },
   "file_extension": ".py",
   "mimetype": "text/x-python",
   "name": "python",
   "nbconvert_exporter": "python",
   "pygments_lexer": "ipython3",
   "version": "3.9.7"
  }
 },
 "nbformat": 4,
 "nbformat_minor": 5
}
