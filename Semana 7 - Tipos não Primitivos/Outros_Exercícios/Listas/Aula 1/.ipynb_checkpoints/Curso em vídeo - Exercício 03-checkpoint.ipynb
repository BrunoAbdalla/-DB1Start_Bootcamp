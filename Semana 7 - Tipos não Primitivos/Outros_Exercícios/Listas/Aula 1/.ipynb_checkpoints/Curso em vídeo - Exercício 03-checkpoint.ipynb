{
 "cells": [
  {
   "cell_type": "code",
   "execution_count": 29,
   "id": "78f39313",
   "metadata": {},
   "outputs": [
    {
     "name": "stdout",
     "output_type": "stream",
     "text": [
      "Por favor, informe o 1º valor da lista: 152\n",
      "Por favor, informe o 2º valor da lista: 1500\n",
      "Por favor, informe o 3º valor da lista: 2\n",
      "Por favor, informe o 4º valor da lista: 1\n",
      "Por favor, informe o 5º valor da lista: 25\n",
      "-=-=-=-=-=-=-=-=-=-=-=-=-=-=-=-=-=-=-=-=-=-=-=-=-=-=-=-=-=-=\n",
      "A lista informada foi: [1, 2, 25, 152, 1500]\n"
     ]
    }
   ],
   "source": [
    "#3) Crie um programa onde o usuário possa digitar 5 valores numéricos e coloque em uma lista já na posição correta (sem usar o\n",
    "#    Sort), no final mostre a lista\n",
    "\n",
    "#Definição da lista vazia e variável de controle\n",
    "lista = []\n",
    "num = 0\n",
    "\n",
    "#Determinação do intervalo de repetições e solicitação dos números para o usuário\n",
    "for n in range(0, 5):\n",
    "    num = int(input(f'Por favor, informe o {n+1}º valor da lista: '))\n",
    "\n",
    "#Verificando se é o 1º valor informado ou o maior até então e adicionando na lista\n",
    "    if n == 0 or num > lista[len(lista)-1]:\n",
    "        lista.append(num)\n",
    "\n",
    "#Cobrindo outras possibilidades e adicionando o valor na posição correta\n",
    "    else:\n",
    "        pos = 0\n",
    "        while pos < len(lista):\n",
    "            if num <= lista[pos]:\n",
    "                lista.insert(pos, num)\n",
    "                break\n",
    "            else:\n",
    "                pass\n",
    "            \n",
    "            pos = pos + 1\n",
    "            \n",
    "#Retornando a informação para o usuário:\n",
    "print('-=' * 30)\n",
    "print(f'A lista informada foi: {lista}')"
   ]
  },
  {
   "cell_type": "code",
   "execution_count": null,
   "id": "0384a791",
   "metadata": {},
   "outputs": [],
   "source": []
  },
  {
   "cell_type": "code",
   "execution_count": null,
   "id": "ca2d2b94",
   "metadata": {},
   "outputs": [],
   "source": []
  }
 ],
 "metadata": {
  "kernelspec": {
   "display_name": "Python 3 (ipykernel)",
   "language": "python",
   "name": "python3"
  },
  "language_info": {
   "codemirror_mode": {
    "name": "ipython",
    "version": 3
   },
   "file_extension": ".py",
   "mimetype": "text/x-python",
   "name": "python",
   "nbconvert_exporter": "python",
   "pygments_lexer": "ipython3",
   "version": "3.9.7"
  }
 },
 "nbformat": 4,
 "nbformat_minor": 5
}
