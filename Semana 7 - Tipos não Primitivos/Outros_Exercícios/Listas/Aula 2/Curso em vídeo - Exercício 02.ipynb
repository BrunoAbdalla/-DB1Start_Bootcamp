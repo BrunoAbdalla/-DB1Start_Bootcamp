{
 "cells": [
  {
   "cell_type": "code",
   "execution_count": null,
   "id": "c8dc0f8a",
   "metadata": {},
   "outputs": [],
   "source": [
    "#2) Crie um programa que leia 7 números dados pelo usuário e que mantendo esses números separados em números pares e números\n",
    "#   ímpares:"
   ]
  },
  {
   "cell_type": "code",
   "execution_count": 9,
   "id": "688e0940",
   "metadata": {},
   "outputs": [
    {
     "name": "stdout",
     "output_type": "stream",
     "text": [
      "Digite o 1º número: 1\n",
      "Digite o 2º número: 7\n",
      "Digite o 3º número: 8\n",
      "Digite o 4º número: 9\n",
      "Digite o 5º número: 45\n",
      "Digite o 6º número: 5\n",
      "Digite o 7º número: 6\n",
      "Os números pares informados foram: [1, 5, 7, 9, 45]\n",
      "Os números ímpares informados foram: [6, 8]\n"
     ]
    }
   ],
   "source": [
    "#Abrindo as listas\n",
    "geral = []\n",
    "pares = []\n",
    "ímpares = []\n",
    "\n",
    "#Variável temporária\n",
    "temp = 0\n",
    "\n",
    "#Adicionando as duas listas na lista geral:\n",
    "geral.append(pares)\n",
    "geral.append(ímpares)\n",
    "\n",
    "#Adicionando os números nas listas:\n",
    "for n in range(0,7):\n",
    "    temp = int(input(f'Digite o {n+1}º número: '))\n",
    "    if temp % 2 == 0:\n",
    "        pares.append(temp)\n",
    "    else:\n",
    "        ímpares.append(temp)\n",
    "    temp = 0\n",
    "\n",
    "#Colocando em ordem crescente:\n",
    "geral[1].sort()\n",
    "geral[0].sort()\n",
    "\n",
    "#Retorno ao usuário:\n",
    "print(f'Os números pares informados foram: {geral[1]}')\n",
    "print(f'Os números ímpares informados foram: {geral[0]}')"
   ]
  },
  {
   "cell_type": "code",
   "execution_count": null,
   "id": "19bdeb9a",
   "metadata": {},
   "outputs": [],
   "source": []
  }
 ],
 "metadata": {
  "kernelspec": {
   "display_name": "Python 3 (ipykernel)",
   "language": "python",
   "name": "python3"
  },
  "language_info": {
   "codemirror_mode": {
    "name": "ipython",
    "version": 3
   },
   "file_extension": ".py",
   "mimetype": "text/x-python",
   "name": "python",
   "nbconvert_exporter": "python",
   "pygments_lexer": "ipython3",
   "version": "3.9.7"
  }
 },
 "nbformat": 4,
 "nbformat_minor": 5
}
