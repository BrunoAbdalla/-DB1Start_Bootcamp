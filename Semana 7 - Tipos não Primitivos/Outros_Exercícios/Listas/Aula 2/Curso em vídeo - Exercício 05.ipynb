{
 "cells": [
  {
   "cell_type": "code",
   "execution_count": 21,
   "id": "1dd6fe52",
   "metadata": {},
   "outputs": [
    {
     "name": "stdout",
     "output_type": "stream",
     "text": [
      "Quantos jogos você quer que eu sorteie? 10\n",
      "Os jogos sorteados foram:\n",
      "O 1º jogo foi: [10, 15, 27, 30, 37, 46]\n",
      "O 2º jogo foi: [19, 31, 45, 49, 50, 56]\n",
      "O 3º jogo foi: [4, 16, 31, 55, 56, 60]\n",
      "O 4º jogo foi: [2, 3, 13, 31, 47, 50]\n",
      "O 5º jogo foi: [7, 11, 19, 32, 46, 59]\n",
      "O 6º jogo foi: [25, 29, 30, 38, 41, 59]\n",
      "O 7º jogo foi: [12, 18, 21, 33, 43, 52]\n",
      "O 8º jogo foi: [2, 29, 31, 36, 55, 56]\n",
      "O 9º jogo foi: [23, 30, 41, 51, 57, 58]\n",
      "O 10º jogo foi: [9, 18, 19, 26, 35, 60]\n"
     ]
    }
   ],
   "source": [
    "#5) Faça um programa que ajude o jogador da mega-sena a criar palpites. O programa irá perguntar quantos jogos serão gerados e\n",
    "#   e sorteará 6 números para cada jogo e armazenará tudo em uma lista composta\n",
    "\n",
    "#Importanto a função de randomizar um número:\n",
    "import random\n",
    "\n",
    "#Iniciando a lista inicial\n",
    "jogos = []\n",
    "num = sortnum = 0\n",
    "\n",
    "\n",
    "#Solicitar o número de jogos e criar as sub-listas que representam cada jogo:\n",
    "num = int(input('Quantos jogos você quer que eu sorteie? '))\n",
    "\n",
    "for n in range(0, num):\n",
    "    jogos.append([0])\n",
    "\n",
    "for n in range(0, num):\n",
    "    for b in range(0,6):\n",
    "        sortnum = random.randint(1,60)\n",
    "        while sortnum in jogos[n]:\n",
    "            sortnum = random.randint(1,60)\n",
    "        jogos[n].insert(b, sortnum)\n",
    "    del(jogos[n][6])\n",
    "    jogos[n].sort()\n",
    "    \n",
    "#Retorno ao usuário:\n",
    "print('Os jogos sorteados foram:')\n",
    "for n in range (0,num):\n",
    "    print(f'O {n+1}º jogo foi: {jogos[n]}')"
   ]
  },
  {
   "cell_type": "code",
   "execution_count": null,
   "id": "4ee54f30",
   "metadata": {},
   "outputs": [],
   "source": []
  }
 ],
 "metadata": {
  "kernelspec": {
   "display_name": "Python 3 (ipykernel)",
   "language": "python",
   "name": "python3"
  },
  "language_info": {
   "codemirror_mode": {
    "name": "ipython",
    "version": 3
   },
   "file_extension": ".py",
   "mimetype": "text/x-python",
   "name": "python",
   "nbconvert_exporter": "python",
   "pygments_lexer": "ipython3",
   "version": "3.9.7"
  }
 },
 "nbformat": 4,
 "nbformat_minor": 5
}
