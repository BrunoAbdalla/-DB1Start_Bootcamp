{
 "cells": [
  {
   "cell_type": "code",
   "execution_count": 37,
   "id": "e72ec1d5",
   "metadata": {},
   "outputs": [
    {
     "name": "stdout",
     "output_type": "stream",
     "text": [
      "Digite o nome do aluno: Bruno\n",
      "Digite a média de Bruno: 9.5\n",
      "Nome é igual a Bruno\n",
      "Média é igual a 9.5\n",
      "Situação é igual a Aprovado\n"
     ]
    }
   ],
   "source": [
    "#1) Faça um programa leia o nome e a média de um aluno e \n",
    "#   Média < 7: Rerovado | Média >= 7 Aprovado\n",
    "\n",
    "aluno = {}\n",
    "aluno['Nome'] = str(input('Digite o nome do aluno: '))\n",
    "aluno['Média'] = float(input(f'Digite a média de {aluno[\"Nome\"]}: '))\n",
    "if aluno['Média'] >= 7:\n",
    "    aluno['Situação'] = 'Aprovado'\n",
    "else:\n",
    "    aluno['Situação'] = 'Reprovado'\n",
    "\n",
    "for k, v in aluno.items():\n",
    "    print(f'{k} é igual a {v}')"
   ]
  },
  {
   "cell_type": "code",
   "execution_count": null,
   "id": "46d2fdb5",
   "metadata": {},
   "outputs": [],
   "source": []
  }
 ],
 "metadata": {
  "kernelspec": {
   "display_name": "Python 3 (ipykernel)",
   "language": "python",
   "name": "python3"
  },
  "language_info": {
   "codemirror_mode": {
    "name": "ipython",
    "version": 3
   },
   "file_extension": ".py",
   "mimetype": "text/x-python",
   "name": "python",
   "nbconvert_exporter": "python",
   "pygments_lexer": "ipython3",
   "version": "3.9.7"
  }
 },
 "nbformat": 4,
 "nbformat_minor": 5
}
