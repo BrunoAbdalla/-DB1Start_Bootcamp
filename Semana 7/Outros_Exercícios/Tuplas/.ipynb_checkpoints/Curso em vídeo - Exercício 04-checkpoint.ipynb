{
 "cells": [
  {
   "cell_type": "code",
   "execution_count": 17,
   "id": "e614bfc4",
   "metadata": {},
   "outputs": [
    {
     "name": "stdout",
     "output_type": "stream",
     "text": [
      "Digite um número: 2\n",
      "Digite outro número número: 4\n",
      "Digite mais um número: 6\n",
      "Digite o último número: 8\n",
      "-=-=-=-=-=-=-=-=-=-=-=-=-=-=-=-=-=-=-=-=\n",
      "O número 9 apareceu 0 vez(es)!\n",
      "O número 3 não foi digitado nenhuma vez!\n",
      "Os números pares digitados foram: 2 4 6 8 \n"
     ]
    }
   ],
   "source": [
    "#4) Crie um programa que leia 4 números pelo teclado, guardeos numa tupla e depois diga:\n",
    "#   - Quantas vezes apareceu o número 9;\n",
    "#   - Em que posição foi digitado o número 3;\n",
    "#   - Quais números digitados são pares.\n",
    "\n",
    "#Inicializado o contador de noves\n",
    "cont_9 = 0\n",
    "pos_3 = 0\n",
    "cont_3 = 0\n",
    "pares = ('')\n",
    "\n",
    "# Criando a tupla:\n",
    "numeros = (int(input('Digite um número: ')), int(input('Digite outro número número: ')), int(input('Digite mais um número: ')),\n",
    "          int(input('Digite o último número: ')))\n",
    "\n",
    "for n in numeros:\n",
    "    if n == 9:\n",
    "        cont_9 = cont_9 + 1\n",
    "    else:\n",
    "        pass\n",
    "    \n",
    "    if n == 3:\n",
    "        pos_3 = numeros.index(n)\n",
    "        cont_3 = cont_3 + 1\n",
    "    else:\n",
    "        pass\n",
    "    \n",
    "    if n % 2 == 0:\n",
    "        pares = pares + str(n) + str(' ')\n",
    "    else:\n",
    "        pass\n",
    "    \n",
    "\n",
    "print ('-=' * 20)\n",
    "print(f'O número 9 apareceu {cont_9} vez(es)!')\n",
    "if cont_3 == 0:\n",
    "    print('O número 3 não foi digitado nenhuma vez!')\n",
    "else:\n",
    "    print(f'O número 3 foi o {pos_3 + 1}º número digitado!')\n",
    "print(f'Os números pares digitados foram: {pares}')"
   ]
  },
  {
   "cell_type": "code",
   "execution_count": null,
   "id": "56681ce8",
   "metadata": {},
   "outputs": [],
   "source": []
  }
 ],
 "metadata": {
  "kernelspec": {
   "display_name": "Python 3 (ipykernel)",
   "language": "python",
   "name": "python3"
  },
  "language_info": {
   "codemirror_mode": {
    "name": "ipython",
    "version": 3
   },
   "file_extension": ".py",
   "mimetype": "text/x-python",
   "name": "python",
   "nbconvert_exporter": "python",
   "pygments_lexer": "ipython3",
   "version": "3.9.7"
  }
 },
 "nbformat": 4,
 "nbformat_minor": 5
}
