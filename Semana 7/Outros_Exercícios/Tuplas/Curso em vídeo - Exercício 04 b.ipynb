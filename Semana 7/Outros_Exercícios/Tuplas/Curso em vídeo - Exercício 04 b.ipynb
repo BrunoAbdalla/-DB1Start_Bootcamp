{
 "cells": [
  {
   "cell_type": "code",
   "execution_count": 2,
   "id": "a089bcb9",
   "metadata": {},
   "outputs": [
    {
     "name": "stdout",
     "output_type": "stream",
     "text": [
      "Digite um número: 2\n",
      "Digite outro número número: 6\n",
      "Digite mais um número: 9\n",
      "Digite o último número: 1\n",
      "O número 9 apareceu 1 vezes.\n",
      "O número 3 não apareceu nenhuma vez.\n",
      "Os valors pares digitados foram: 2 6 "
     ]
    }
   ],
   "source": [
    "#4) Crie um programa que leia 4 números pelo teclado, guardeos numa tupla e depois diga:\n",
    "#   - Quantas vezes apareceu o número 9;\n",
    "#   - Em que posição foi digitado o número 3;\n",
    "#   - Quais números digitados são pares.\n",
    "\n",
    "# Criando a tupla:\n",
    "numeros = (int(input('Digite um número: ')), int(input('Digite outro número número: ')), int(input('Digite mais um número: ')),\n",
    "          int(input('Digite o último número: ')))\n",
    "\n",
    "#Quantas vezes o número 9 apareceu:\n",
    "print(f'O número 9 apareceu {numeros.count(9)} vezes.')\n",
    "\n",
    "#Em que posição o número 3 apareceu:\n",
    "if 3 in numeros:\n",
    "    print(f'O número 3 apareceu pela primeira vez na prosição {numeros.index(3)+1}ª vez.')\n",
    "else:\n",
    "    print('O número 3 não apareceu nenhuma vez.')\n",
    "\n",
    "#Quais números são pares:\n",
    "print('Os valors pares digitados foram: ', end='')\n",
    "for n in numeros:\n",
    "    if n % 2 == 0:\n",
    "        print(n, end=' ')"
   ]
  },
  {
   "cell_type": "code",
   "execution_count": null,
   "id": "8f18691f",
   "metadata": {},
   "outputs": [],
   "source": []
  }
 ],
 "metadata": {
  "kernelspec": {
   "display_name": "Python 3 (ipykernel)",
   "language": "python",
   "name": "python3"
  },
  "language_info": {
   "codemirror_mode": {
    "name": "ipython",
    "version": 3
   },
   "file_extension": ".py",
   "mimetype": "text/x-python",
   "name": "python",
   "nbconvert_exporter": "python",
   "pygments_lexer": "ipython3",
   "version": "3.9.7"
  }
 },
 "nbformat": 4,
 "nbformat_minor": 5
}
