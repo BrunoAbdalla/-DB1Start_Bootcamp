{
 "cells": [
  {
   "cell_type": "code",
   "execution_count": 13,
   "id": "a63008d7",
   "metadata": {},
   "outputs": [
    {
     "name": "stdout",
     "output_type": "stream",
     "text": [
      "\n",
      "Os valores sorteados foram: 5 1 1 2 1 \n",
      "-=-=-=-=-=-=-=-=-=-=-=-=-=-=-=-=-=-=-=-=\n",
      "O maior número sorteado foi o 5.\n",
      "-=-=-=-=-=-=-=-=-=-=-=-=-=-=-=-=-=-=-=-=\n",
      "O menor número sorteado foi o 1.\n",
      "-=-=-=-=-=-=-=-=-=-=-=-=-=-=-=-=-=-=-=-=\n"
     ]
    }
   ],
   "source": [
    "#3) Crie um programa que vai gerar 5 números aleatórios e colocar em uma tupla e mostre:\n",
    "#   - A listagem de números;\n",
    "#   - O maior número;\n",
    "#   - O menor número.\n",
    "\n",
    "#Importando a função para randomizar\n",
    "import random\n",
    "\n",
    "#Criando a tupla com os valores randomizados\n",
    "sorteados = (random.randint(1,10), random.randint(1,10), random.randint(1,10), random.randint(1,10), random.randint(1,10))\n",
    "\n",
    "#Restorno da tupla ao usuário (Sem o formato de tupla no caso sem parênteses e a vírgula)\n",
    "print()\n",
    "print('Os valores sorteados foram: ' , end='')\n",
    "for n in sorteados:\n",
    "    print(f'{n} ', end='')\n",
    "\n",
    "#Retorno ao usuário do maior e do menor valor:\n",
    "print('\\n' + ('-=' * 20))\n",
    "print(f'O maior número sorteado foi o {max(sorteados)}.')\n",
    "print('-=' * 20)\n",
    "print(f'O menor número sorteado foi o {min(sorteados)}.')\n",
    "print('-=' * 20)"
   ]
  },
  {
   "cell_type": "code",
   "execution_count": null,
   "id": "1d17ef61",
   "metadata": {},
   "outputs": [],
   "source": []
  }
 ],
 "metadata": {
  "kernelspec": {
   "display_name": "Python 3 (ipykernel)",
   "language": "python",
   "name": "python3"
  },
  "language_info": {
   "codemirror_mode": {
    "name": "ipython",
    "version": 3
   },
   "file_extension": ".py",
   "mimetype": "text/x-python",
   "name": "python",
   "nbconvert_exporter": "python",
   "pygments_lexer": "ipython3",
   "version": "3.9.7"
  }
 },
 "nbformat": 4,
 "nbformat_minor": 5
}
