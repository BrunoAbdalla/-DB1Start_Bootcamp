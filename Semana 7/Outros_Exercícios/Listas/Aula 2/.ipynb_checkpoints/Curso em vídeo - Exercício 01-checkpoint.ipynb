{
 "cells": [
  {
   "cell_type": "code",
   "execution_count": 17,
   "id": "5499b0e7",
   "metadata": {},
   "outputs": [
    {
     "name": "stdout",
     "output_type": "stream",
     "text": [
      "Nome: Bruno\n",
      "Idade: 33\n",
      "Nome: Ana\n",
      "Idade: 32\n",
      "Nome: Vinicius\n",
      "Idade: 29\n",
      "[['Bruno', 33], ['Ana', 32], ['Vinicius', 29]]\n"
     ]
    }
   ],
   "source": [
    "#1) Faça um programa que capture o nome e o peso de várias pessoas e no final mostre:\n",
    "#   - Quantas pessoas foram cadastradas;\n",
    "#   - Uma listagem com as pessoas mais pesadas;\n",
    "#   - Uma listagem com as pessoas mais leves."
   ]
  },
  {
   "cell_type": "code",
   "execution_count": 30,
   "id": "93e7caf7",
   "metadata": {},
   "outputs": [
    {
     "name": "stdout",
     "output_type": "stream",
     "text": [
      "Digite o nome da pessoa cadastrada: Jorge\n",
      "Digite o peso da pessoa cadastrada: 45\n",
      "Deseja cadastrar mais alguém [S/N]? S\n",
      "Digite o nome da pessoa cadastrada: Bruno\n",
      "Digite o peso da pessoa cadastrada: 120\n",
      "Deseja cadastrar mais alguém [S/N]? S\n",
      "Digite o nome da pessoa cadastrada: Ana\n",
      "Digite o peso da pessoa cadastrada: 50\n",
      "Deseja cadastrar mais alguém [S/N]? S\n",
      "Digite o nome da pessoa cadastrada: Maria\n",
      "Digite o peso da pessoa cadastrada: 50\n",
      "Deseja cadastrar mais alguém [S/N]? S\n",
      "Digite o nome da pessoa cadastrada: Leonardo\n",
      "Digite o peso da pessoa cadastrada: 120\n",
      "Deseja cadastrar mais alguém [S/N]? S\n",
      "Digite o nome da pessoa cadastrada: Ivan\n",
      "Digite o peso da pessoa cadastrada: 50\n",
      "Deseja cadastrar mais alguém [S/N]? N\n",
      "-=-=-=-=-=-=-=-=-=-=-=-=-=-=-=-=-=-=-=-=-=-=-=-=-=-=-=-=-=-=\n",
      "Foram cadastradas: 6 pessoas.\n",
      "As pessoas que foram cadastradas com o menor peso (45.0 kg) foram: Jorge \n",
      "As pessoas que foram cadastradas com o maior peso (120.0 kg) foram: Bruno Leonardo "
     ]
    }
   ],
   "source": [
    "#Abrir as listas vazias:\n",
    "cadastro = []\n",
    "banco = []\n",
    "\n",
    "#Iniciar variaveis de controle:\n",
    "continua = ''\n",
    "cont = pesado = leve = 0\n",
    "\n",
    "#Definição das condições de looping:\n",
    "while continua in 'Ss':\n",
    "    \n",
    "#Solicitar os dados e adicionar ao banco de dados (banco):\n",
    "    cadastro.append(str(input('Digite o nome da pessoa cadastrada: ')))\n",
    "    cadastro.append(float(input('Digite o peso da pessoa cadastrada: ')))\n",
    "    banco.append(cadastro[:])\n",
    "    \n",
    "#Verificando se é o mais pesado ou o mais leve e reservando o valor:\n",
    "    if cont == 0:\n",
    "        leve = pesado = cadastro[1]\n",
    "    else:\n",
    "        if cadastro[1] > pesado:\n",
    "            pesado = cadastro[1]\n",
    "        else: \n",
    "            if cadastro[1] < leve:\n",
    "                leve = cadastro [1]\n",
    "            else:\n",
    "                pass\n",
    "    cont += 1\n",
    "    cadastro.clear()\n",
    "\n",
    "#Definição da variavel de repetição:\n",
    "    continua = str(input('Deseja cadastrar mais alguém [S/N]? '))\n",
    "    while continua not in 'SsNn':\n",
    "        continua = str(input('Opção! Inválida! Deseja cadastrar mais alguém [S/N]? '))\n",
    "        \n",
    "#Retorno ao usuário:\n",
    "print('-=' * 30)\n",
    "print(f'Foram cadastradas: {cont} pessoas.')\n",
    "\n",
    "#Pessoas mais leves:\n",
    "print(f'As pessoas que foram cadastradas com o menor peso ({leve} kg) foram: ', end='')\n",
    "for c in banco:\n",
    "    if c[1] == leve:\n",
    "        print(c[0], end=' ')\n",
    "    else:\n",
    "        pass\n",
    "#Pessoas mais pesadas:\n",
    "print(f'\\nAs pessoas que foram cadastradas com o maior peso ({pesado} kg) foram: ', end='')\n",
    "for c in banco:\n",
    "    if c[1] == pesado:\n",
    "        print(c[0], end=' ')\n",
    "    else:\n",
    "        pass\n"
   ]
  },
  {
   "cell_type": "code",
   "execution_count": null,
   "id": "98c88e14",
   "metadata": {},
   "outputs": [],
   "source": []
  }
 ],
 "metadata": {
  "kernelspec": {
   "display_name": "Python 3 (ipykernel)",
   "language": "python",
   "name": "python3"
  },
  "language_info": {
   "codemirror_mode": {
    "name": "ipython",
    "version": 3
   },
   "file_extension": ".py",
   "mimetype": "text/x-python",
   "name": "python",
   "nbconvert_exporter": "python",
   "pygments_lexer": "ipython3",
   "version": "3.9.7"
  }
 },
 "nbformat": 4,
 "nbformat_minor": 5
}
