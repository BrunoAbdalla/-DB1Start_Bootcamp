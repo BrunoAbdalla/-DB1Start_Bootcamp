{
 "cells": [
  {
   "cell_type": "code",
   "execution_count": 7,
   "id": "18add7e7",
   "metadata": {},
   "outputs": [
    {
     "name": "stdout",
     "output_type": "stream",
     "text": [
      "Por favor digite o valor da posição [0,0] na matriz: -1\n",
      "Por favor digite o valor da posição [0,1] na matriz: -2\n",
      "Por favor digite o valor da posição [0,2] na matriz: -3\n",
      "Por favor digite o valor da posição [1,0] na matriz: 4\n",
      "Por favor digite o valor da posição [1,1] na matriz: 5\n",
      "Por favor digite o valor da posição [1,2] na matriz: 6\n",
      "Por favor digite o valor da posição [2,0] na matriz: 7\n",
      "Por favor digite o valor da posição [2,1] na matriz: 8\n",
      "Por favor digite o valor da posição [2,2] na matriz: 9\n",
      "----------------------------------------\n",
      "[ -1  ][ -2  ][ -3  ]\n",
      "[  4  ][  5  ][  6  ]\n",
      "[  7  ][  8  ][  9  ]\n",
      "----------------------------------------\n",
      "A soma dos valores pares digitados é: 16\n",
      "A soma dos valores da terceira coluna é: 12\n",
      "O maior valor na segunda linha é: 6\n"
     ]
    }
   ],
   "source": [
    "#4) Crie um programa que leia 9 valores e os coloque em uma estrutura, uma matriz 3x3 e no final imprima essa matriz, além disso:\n",
    "# - Mostre a soma dos valores pares digitados;\n",
    "# - A soma dos valores da terceira coluna;\n",
    "# - O maior valor da segunda linha\n",
    "\n",
    "#Iniciar matriz e as variáveis de controle:\n",
    "matriz = [[0, 0, 0], [0, 0, 0], [0, 0, 0]]\n",
    "somapar = soma3 = maior2 = 0\n",
    "\n",
    "#Iniciando a repetição para cada linha (l) e cada coluna (c):\n",
    "for l in range(0,3):\n",
    "    for c in range(0,3):\n",
    "        matriz[l][c] = int(input(f'Por favor digite o valor da posição [{l},{c}] na matriz: '))\n",
    "        \n",
    "#Soma dos pares:\n",
    "        if matriz[l][c] % 2 == 0:\n",
    "            somapar = somapar + matriz[l][c]\n",
    "        else:\n",
    "            pass\n",
    "        \n",
    "#Soma dos valores da terceira coluna:\n",
    "        if c == 2:\n",
    "            soma3 = soma3 + matriz[l][c]\n",
    "        else:\n",
    "            pass\n",
    "        \n",
    "#O maior valor da segundal linha:\n",
    "        if l == 1:\n",
    "            if c == 0:\n",
    "                maior2 = matriz[l][c]\n",
    "            else:\n",
    "                if matriz[l][c] > maior2:\n",
    "                    maior2 = matriz[l][c]\n",
    "                else:\n",
    "                    pass\n",
    "        else:\n",
    "            pass        \n",
    "        \n",
    "#Retorno ao usuário:\n",
    "print('-' * 40)\n",
    "for l in range(0, 3):\n",
    "    for c in range(0,3):\n",
    "        print(f'[{matriz[l][c]:^5}]', end='')\n",
    "    print()\n",
    "print('-' * 40)\n",
    "print(f'A soma dos valores pares digitados é: {somapar}')\n",
    "print(f'A soma dos valores da terceira coluna é: {soma3}')\n",
    "print(f'O maior valor na segunda linha é: {maior2}')"
   ]
  },
  {
   "cell_type": "code",
   "execution_count": null,
   "id": "ce634148",
   "metadata": {},
   "outputs": [],
   "source": []
  }
 ],
 "metadata": {
  "kernelspec": {
   "display_name": "Python 3 (ipykernel)",
   "language": "python",
   "name": "python3"
  },
  "language_info": {
   "codemirror_mode": {
    "name": "ipython",
    "version": 3
   },
   "file_extension": ".py",
   "mimetype": "text/x-python",
   "name": "python",
   "nbconvert_exporter": "python",
   "pygments_lexer": "ipython3",
   "version": "3.9.7"
  }
 },
 "nbformat": 4,
 "nbformat_minor": 5
}
