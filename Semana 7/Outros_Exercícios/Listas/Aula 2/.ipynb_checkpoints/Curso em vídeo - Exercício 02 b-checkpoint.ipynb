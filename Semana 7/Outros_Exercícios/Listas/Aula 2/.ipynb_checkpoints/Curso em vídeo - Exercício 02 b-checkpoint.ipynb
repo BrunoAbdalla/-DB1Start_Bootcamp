{
 "cells": [
  {
   "cell_type": "code",
   "execution_count": null,
   "id": "ec869a85",
   "metadata": {},
   "outputs": [],
   "source": [
    "#2) Crie um programa que leia 7 números dados pelo usuário e que mantendo esses números separados em números pares e números\n",
    "#   ímpares:"
   ]
  },
  {
   "cell_type": "code",
   "execution_count": 1,
   "id": "29e24290",
   "metadata": {},
   "outputs": [
    {
     "name": "stdout",
     "output_type": "stream",
     "text": [
      "Digite o 1º número: 7\n",
      "Digite o 2º número: 8\n",
      "Digite o 3º número: 952\n",
      "Digite o 4º número: 15\n",
      "Digite o 5º número: 87\n",
      "Digite o 6º número: 2\n",
      "Digite o 7º número: 5\n",
      "Os números pares informados foram: [2, 8, 952]\n",
      "Os números ímpares informados foram: [5, 7, 15, 87]\n"
     ]
    }
   ],
   "source": [
    "#Abrindo a lista\n",
    "lista = [[],[]]\n",
    "\n",
    "#Variável temporária\n",
    "temp = 0\n",
    "\n",
    "#Adicionando os números nas listas:\n",
    "for n in range(0,7):\n",
    "    temp = int(input(f'Digite o {n+1}º número: '))\n",
    "    if temp % 2 == 0:\n",
    "        lista[0].append(temp)\n",
    "    else:\n",
    "        lista[1].append(temp)\n",
    "    temp = 0\n",
    "\n",
    "#Colocando em ordem crescente:\n",
    "lista[0].sort()\n",
    "lista[1].sort()\n",
    "\n",
    "#Retorno ao usuário:\n",
    "print(f'Os números pares informados foram: {lista[0]}')\n",
    "print(f'Os números ímpares informados foram: {lista[1]}')"
   ]
  },
  {
   "cell_type": "code",
   "execution_count": null,
   "id": "dba95760",
   "metadata": {},
   "outputs": [],
   "source": []
  }
 ],
 "metadata": {
  "kernelspec": {
   "display_name": "Python 3 (ipykernel)",
   "language": "python",
   "name": "python3"
  },
  "language_info": {
   "codemirror_mode": {
    "name": "ipython",
    "version": 3
   },
   "file_extension": ".py",
   "mimetype": "text/x-python",
   "name": "python",
   "nbconvert_exporter": "python",
   "pygments_lexer": "ipython3",
   "version": "3.9.7"
  }
 },
 "nbformat": 4,
 "nbformat_minor": 5
}
