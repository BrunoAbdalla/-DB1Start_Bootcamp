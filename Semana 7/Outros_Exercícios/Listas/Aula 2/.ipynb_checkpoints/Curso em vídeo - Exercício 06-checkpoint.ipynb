{
 "cells": [
  {
   "cell_type": "code",
   "execution_count": 20,
   "id": "65f05802",
   "metadata": {},
   "outputs": [
    {
     "name": "stdout",
     "output_type": "stream",
     "text": [
      "Por favor informe o nome do aluno: Bruno\n",
      "Por favor, informe a 1ª nota do aluno: 10\n",
      "Por favor, informe a 2ª nota do aluno: 10\n",
      "Deseja inserir mais algum aluno [S/N]? 9\n",
      "Opção inválida! Deseja inserir mais algum aluno [S/N]? N\n",
      "-=-=-=-=-=-=-=-=-=-=-=-=-=-=-=-=-=-=-=-=-=-=-=-=-=-=-=-=-=-=\n",
      "                      BOLETIM DA TURMA                      \n",
      "-=-=-=-=-=-=-=-=-=-=-=-=-=-=-=-=-=-=-=-=-=-=-=-=-=-=-=-=-=-=\n",
      "Nº  Aluno        Média\n",
      "0   Bruno         10.0\n",
      "Deseja ver as notas de algum aluno? Digite o Nº respectivo, ou um número negativo para encerrar: 0\n",
      "O aluno Bruno teve as notas [10.0, 10.0]\n",
      "Deseja ver as notas de algum aluno? Digite o Nº respectivo, ou um número negativo para encerrar: -1\n",
      "Obrigado! Volte sempre!\n"
     ]
    }
   ],
   "source": [
    "#6) Crie um programa que leio o nome e duas notas de vários alunos e guarde tudo em uma lsita composta. No final mostre um\n",
    "#   boletim com todas as médias dos alunos e permita que o usuário possa verificar as notas individuais de cada aluno\n",
    "#   individualmente\n",
    "\n",
    "\n",
    "#Listas necessárias para guardar as informações       \n",
    "escola = []\n",
    "aluno = []\n",
    "notas = []\n",
    "média = num = 0\n",
    "continua = ''\n",
    "\n",
    "#Solicitar os dados de um único aluno:\n",
    "while continua in 'Ss':\n",
    "    aluno.append(str(input('Por favor informe o nome do aluno: ')))\n",
    "    notas.append(float(input('Por favor, informe a 1ª nota do aluno: ')))\n",
    "    notas.append(float(input('Por favor, informe a 2ª nota do aluno: ')))\n",
    "    aluno.append(notas[:])\n",
    "    média = (notas[0] + notas[1]) / 2\n",
    "    aluno.append(média)\n",
    "    escola.append(aluno[:])\n",
    "    notas.clear()\n",
    "    aluno.clear()\n",
    "    continua = str(input('Deseja inserir mais algum aluno [S/N]? '))\n",
    "    while continua not in 'SsNn':\n",
    "        continua = str(input('Opção inválida! Deseja inserir mais algum aluno [S/N]? '))\n",
    "\n",
    "#Retorno ao usuário:\n",
    "print('-=' * 30)\n",
    "print(f'{\"BOLETIM DA TURMA\":^60}')\n",
    "print('-=' * 30)\n",
    "print(f'{\"Nº\":<4}{\"Aluno\":<10}{\"Média\":>8}')\n",
    "for n in range(0, len(escola)):\n",
    "    print(f'{n:<4}', end = '')\n",
    "    print(f'{escola[n][0]:<10}', end = '')\n",
    "    print(f'{escola[n][2]:>8}')\n",
    "\n",
    "#Verificar se o usuário quer ver as notas de algum aluno:\n",
    "while num >= 0:\n",
    "    num = int(input('Deseja ver as notas de algum aluno? Digite o Nº respectivo, ou um número negativo para encerrar: '))\n",
    "    if num < 0:\n",
    "        print('Obrigado! Volte sempre!')\n",
    "    else:\n",
    "        print(f'O aluno {escola[num][0]} teve as notas {escola[num][1]}')"
   ]
  },
  {
   "cell_type": "code",
   "execution_count": null,
   "id": "05f4087c",
   "metadata": {},
   "outputs": [],
   "source": []
  }
 ],
 "metadata": {
  "kernelspec": {
   "display_name": "Python 3 (ipykernel)",
   "language": "python",
   "name": "python3"
  },
  "language_info": {
   "codemirror_mode": {
    "name": "ipython",
    "version": 3
   },
   "file_extension": ".py",
   "mimetype": "text/x-python",
   "name": "python",
   "nbconvert_exporter": "python",
   "pygments_lexer": "ipython3",
   "version": "3.9.7"
  }
 },
 "nbformat": 4,
 "nbformat_minor": 5
}
