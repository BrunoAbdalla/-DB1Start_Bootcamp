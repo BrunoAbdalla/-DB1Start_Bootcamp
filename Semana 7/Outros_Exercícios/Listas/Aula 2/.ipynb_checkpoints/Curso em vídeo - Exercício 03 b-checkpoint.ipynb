{
 "cells": [
  {
   "cell_type": "code",
   "execution_count": 5,
   "id": "336c6e9c",
   "metadata": {},
   "outputs": [
    {
     "name": "stdout",
     "output_type": "stream",
     "text": [
      "Por favor digite o número da posição [0,0] da matriz: 1\n",
      "Por favor digite o número da posição [1,0] da matriz: 2\n",
      "Por favor digite o número da posição [2,0] da matriz: 3\n",
      "Por favor digite o número da posição [0,1] da matriz: 4\n",
      "Por favor digite o número da posição [1,1] da matriz: 5\n",
      "Por favor digite o número da posição [2,1] da matriz: 6\n",
      "Por favor digite o número da posição [0,2] da matriz: 7\n",
      "Por favor digite o número da posição [1,2] da matriz: 8\n",
      "Por favor digite o número da posição [2,2] da matriz: 9\n",
      "------------------------------\n",
      "MATRIZ INFORMADA\n",
      "------------------------------\n",
      "[  1  ][  2  ][  3  ]\n",
      "[  4  ][  5  ][  6  ]\n",
      "[  7  ][  8  ][  9  ]\n"
     ]
    }
   ],
   "source": [
    "#3) Crie um programa que leia 9 valores e os coloque em uma estrutura, uma matriz 3x3 e no final imprima essa matriz:\n",
    "\n",
    "#Iniciando a matriz solicitada:\n",
    "matriz = [[0, 0, 0], [0, 0, 0], [0, 0, 0]]\n",
    "\n",
    "#Crianda as repetições para cada linha (l) e cada coluna (c)\n",
    "for l in range(0,3):\n",
    "    for c in range(0, 3):\n",
    "        matriz[l][c] = int(input(f'Por favor digite o número da posição [{c},{l}] da matriz: '))\n",
    "\n",
    "#Resultado ao usuário:\n",
    "print('-' * 30)\n",
    "print('MATRIZ INFORMADA')\n",
    "print('-' * 30)\n",
    "for l in range(0,3):\n",
    "    for c in range(0,3):\n",
    "        print(f'[{matriz[l][c]:^5}]', end='')\n",
    "    print()"
   ]
  },
  {
   "cell_type": "code",
   "execution_count": null,
   "id": "45b07a6f",
   "metadata": {},
   "outputs": [],
   "source": []
  }
 ],
 "metadata": {
  "kernelspec": {
   "display_name": "Python 3 (ipykernel)",
   "language": "python",
   "name": "python3"
  },
  "language_info": {
   "codemirror_mode": {
    "name": "ipython",
    "version": 3
   },
   "file_extension": ".py",
   "mimetype": "text/x-python",
   "name": "python",
   "nbconvert_exporter": "python",
   "pygments_lexer": "ipython3",
   "version": "3.9.7"
  }
 },
 "nbformat": 4,
 "nbformat_minor": 5
}
