{
 "cells": [
  {
   "cell_type": "code",
   "execution_count": 11,
   "id": "a313bfc7",
   "metadata": {},
   "outputs": [
    {
     "name": "stdout",
     "output_type": "stream",
     "text": [
      "Digite um número: 2\n",
      "Deseja inserir um novo valor [S/N]? s\n",
      "Digite um número: 5\n",
      "Deseja inserir um novo valor [S/N]? s\n",
      "Digite um número: 8\n",
      "Deseja inserir um novo valor [S/N]? s\n",
      "Digite um número: 15\n",
      "Deseja inserir um novo valor [S/N]? s\n",
      "Digite um número: 2\n",
      "Deseja inserir um novo valor [S/N]? s\n",
      "Digite um número: 0\n",
      "Deseja inserir um novo valor [S/N]? n\n",
      "-=-=-=-=-=-=-=-=-=-=-=-=-=-=-=-=-=-=-=-=-=-=-=-=-=-=-=-=-=-=\n",
      "* Foram digitados 6 valores.\n",
      "* A lista em ordem decrescente ficou: [15, 8, 5, 2, 2, 0]\n",
      "* O número 5 faz parte da lista!\n"
     ]
    }
   ],
   "source": [
    "# 4) Faça um programa que leia vários números e coloque-os em uma lista, sempre perguntando entre um valor e outro se o usuário\n",
    "#    quer inserir mais um número, no final mostre:\n",
    "#    - Total de números digitados\n",
    "#    - A lista em ordem descrescente\n",
    "#    - Se o 5 faz parte da lista\n",
    "\n",
    "#Definição da lista vazia e a variável de entrada\n",
    "lista = []\n",
    "continua = ''\n",
    "\n",
    "#Criação das condições de repetição e solicitação do valor para o usuário:\n",
    "while continua in 'Ss':\n",
    "    \n",
    "    lista.append(int(input('Digite um número: ')))\n",
    "    continua = str(input('Deseja inserir um novo valor [S/N]? '))\n",
    "    \n",
    "#Confirmação se a opção selecionada é válida:\n",
    "    while continua not in 'SsNn':\n",
    "        continua = str(input('Opção inválida! Deseja inserir um novo número [S/N]? '))\n",
    "\n",
    "#Organizando a lista em valores decrescentes\n",
    "lista.sort(reverse = True)\n",
    "        \n",
    "#Retorno ao usuário:\n",
    "print('-=' * 30)\n",
    "print(f'* Foram digitados {len(lista)} valores.')\n",
    "print(f'* A lista em ordem decrescente ficou: {lista}')\n",
    "if 5 in lista:\n",
    "    print('* O número 5 faz parte da lista!')\n",
    "else:\n",
    "    print('* O número 5 não faz parte da lista!')\n"
   ]
  },
  {
   "cell_type": "code",
   "execution_count": null,
   "id": "62441e73",
   "metadata": {},
   "outputs": [],
   "source": []
  },
  {
   "cell_type": "code",
   "execution_count": null,
   "id": "94943648",
   "metadata": {},
   "outputs": [],
   "source": []
  }
 ],
 "metadata": {
  "kernelspec": {
   "display_name": "Python 3 (ipykernel)",
   "language": "python",
   "name": "python3"
  },
  "language_info": {
   "codemirror_mode": {
    "name": "ipython",
    "version": 3
   },
   "file_extension": ".py",
   "mimetype": "text/x-python",
   "name": "python",
   "nbconvert_exporter": "python",
   "pygments_lexer": "ipython3",
   "version": "3.9.7"
  }
 },
 "nbformat": 4,
 "nbformat_minor": 5
}
