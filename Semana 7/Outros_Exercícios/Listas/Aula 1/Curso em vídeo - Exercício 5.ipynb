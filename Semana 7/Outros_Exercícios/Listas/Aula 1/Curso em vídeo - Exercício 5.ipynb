{
 "cells": [
  {
   "cell_type": "code",
   "execution_count": 6,
   "id": "a7562f69",
   "metadata": {},
   "outputs": [
    {
     "name": "stdout",
     "output_type": "stream",
     "text": [
      "Por favor, digite um número para a sequência: 6\n",
      "Deseja continuar [S/N]? s\n",
      "Por favor, digite um número para a sequência: 1\n",
      "Deseja continuar [S/N]? s\n",
      "Por favor, digite um número para a sequência: 2\n",
      "Deseja continuar [S/N]? s8\n",
      "Por favor, digite um número para a sequência: 8\n",
      "Deseja continuar [S/N]? s\n",
      "Por favor, digite um número para a sequência: 11\n",
      "Deseja continuar [S/N]? s\n",
      "Por favor, digite um número para a sequência: 15\n",
      "Deseja continuar [S/N]? ss\n",
      "Por favor, digite um número para a sequência: 18\n",
      "Deseja continuar [S/N]? s\n",
      "Por favor, digite um número para a sequência: 28\n",
      "Deseja continuar [S/N]? s\n",
      "Por favor, digite um número para a sequência: 102\n",
      "Deseja continuar [S/N]? n\n",
      "-=-=-=-=-=-=-=-=-=-=-=-=-=-=-=-=-=-=-=-=-=-=-=-=-=-=-=-=-=-=\n",
      "A lista geral ficou: [6, 1, 2, 8, 11, 15, 18, 28, 102]\n",
      "------------------------------------------------------------\n",
      "A lista só com os números pares ficou: [6, 2, 8, 18, 28, 102]\n",
      "A lista só com os números ímpares ficou: [1, 11, 15]\n"
     ]
    }
   ],
   "source": [
    "#5) Crie um programa que leia vários números e coloque em uma lista, depois crie duas listas separadas, um apenas com os números\n",
    "#   pares e outra só com os números ímpares:\n",
    "\n",
    "#Iniciando as três listas vazias e a variáveis de controle de repetição e inserção:\n",
    "geral = []\n",
    "pares = []\n",
    "ímpares = []\n",
    "continuar = 0\n",
    "num = 0\n",
    "\n",
    "#Solicitando os números ao usuário e definindo parâmetros de repetição\n",
    "while True:\n",
    "    num = int(input('Por favor, digite um número para a sequência: '))\n",
    "#Adicionando o valor digitado nas listas geral + pares ou ímpares:\n",
    "    geral.append(num)\n",
    "    if num % 2 == 0:\n",
    "        pares.append(num)\n",
    "    else:\n",
    "        ímpares.append(num)\n",
    "    continuar = str(input('Deseja continuar [S/N]? '))\n",
    "    if continuar in 'Nn':\n",
    "        break\n",
    "    else:\n",
    "        pass\n",
    "print('-' * 60)   \n",
    "print(f'A lista geral ficou: {geral}')\n",
    "print('-' * 60)\n",
    "print(f'A lista só com os números pares ficou: {pares}')\n",
    "print(f'A lista só com os números ímpares ficou: {ímpares}')\n"
   ]
  },
  {
   "cell_type": "code",
   "execution_count": null,
   "id": "f7bbd7c8",
   "metadata": {},
   "outputs": [],
   "source": []
  }
 ],
 "metadata": {
  "kernelspec": {
   "display_name": "Python 3 (ipykernel)",
   "language": "python",
   "name": "python3"
  },
  "language_info": {
   "codemirror_mode": {
    "name": "ipython",
    "version": 3
   },
   "file_extension": ".py",
   "mimetype": "text/x-python",
   "name": "python",
   "nbconvert_exporter": "python",
   "pygments_lexer": "ipython3",
   "version": "3.9.7"
  }
 },
 "nbformat": 4,
 "nbformat_minor": 5
}
