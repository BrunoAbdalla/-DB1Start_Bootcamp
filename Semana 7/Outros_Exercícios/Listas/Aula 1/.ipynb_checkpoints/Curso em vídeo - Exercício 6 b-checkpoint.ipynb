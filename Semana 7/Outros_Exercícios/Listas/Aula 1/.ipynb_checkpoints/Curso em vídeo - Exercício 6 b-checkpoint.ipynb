{
 "cells": [
  {
   "cell_type": "code",
   "execution_count": 3,
   "id": "2bb5a6fb",
   "metadata": {},
   "outputs": [
    {
     "name": "stdout",
     "output_type": "stream",
     "text": [
      "Por favor digite a expressão a ser analisada: )a+b*(c-d)\n",
      "Sua expressão não é válida!\n"
     ]
    }
   ],
   "source": [
    "#6) Fazer um programa que leia uma expressão que contenha parênteses informada pelo usuário e responda se a expressão é válida \n",
    "#   ou não baseando-se na abertura e fechamento de parênteses.\n",
    "#   - Exemplo de expressão: (a+b)-c+(d-2)\n",
    "\n",
    "#Definindo a lista onde serão armazenados dos parênteses sem par:\n",
    "lista = []\n",
    "\n",
    "#Solicitar a expressão para o usuário:\n",
    "exp = str(input('Por favor digite a expressão a ser analisada: '))\n",
    "\n",
    "for c in exp:\n",
    "    if c == '(':\n",
    "        lista.append(c)\n",
    "    elif c == ')':\n",
    "        if len(lista) > 0:\n",
    "            lista.pop()\n",
    "        else:\n",
    "            lista.append(c)\n",
    "            break\n",
    "    else:\n",
    "        pass\n",
    "    \n",
    "if len(lista) == 0:\n",
    "    print('Sua expressão é válida!')\n",
    "else:\n",
    "    print('Sua expressão não é válida!')"
   ]
  },
  {
   "cell_type": "code",
   "execution_count": null,
   "id": "c010c6de",
   "metadata": {},
   "outputs": [],
   "source": []
  }
 ],
 "metadata": {
  "kernelspec": {
   "display_name": "Python 3 (ipykernel)",
   "language": "python",
   "name": "python3"
  },
  "language_info": {
   "codemirror_mode": {
    "name": "ipython",
    "version": 3
   },
   "file_extension": ".py",
   "mimetype": "text/x-python",
   "name": "python",
   "nbconvert_exporter": "python",
   "pygments_lexer": "ipython3",
   "version": "3.9.7"
  }
 },
 "nbformat": 4,
 "nbformat_minor": 5
}
