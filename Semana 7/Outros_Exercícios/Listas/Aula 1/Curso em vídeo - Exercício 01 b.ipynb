{
 "cells": [
  {
   "cell_type": "code",
   "execution_count": 12,
   "id": "73800eb2",
   "metadata": {},
   "outputs": [
    {
     "name": "stdout",
     "output_type": "stream",
     "text": [
      "Por favor, digite o valor para a 0ª posição: 3\n",
      "Por favor, digite o valor para a 1ª posição: 6\n",
      "Por favor, digite o valor para a 2ª posição: 5\n",
      "Por favor, digite o valor para a 3ª posição: 9\n",
      "Por favor, digite o valor para a 4ª posição: 1\n",
      "-=-=-=-=-=-=-=-=-=-=-=-=-=-=-=-=-=-=-=-=-=-=-=-=-=-=-=-=-=-=\n",
      "A lista informada foi: [3, 6, 5, 9, 1]\n",
      "-=-=-=-=-=-=-=-=-=-=-=-=-=-=-=-=-=-=-=-=-=-=-=-=-=-=-=-=-=-=\n",
      "O maior número informado foi o 9 e estava na(s) posição(ões): 3 | \n",
      "O menor número informado foi o 1 e estava na(s) posição(ões): 4 | "
     ]
    }
   ],
   "source": [
    "#1) Faça um programa que leia 5 valores numéricos e guarde-os em uma lista. No final mostre qual foi o maior e o menor número\n",
    "#   digitados,  a sua posição na lista.\n",
    "\n",
    "#Abrinda a lista em branco e as variáveis de controle:\n",
    "lista = []\n",
    "maior = 0\n",
    "menor = 0\n",
    "\n",
    "#Atribuição de valores aos elementos da lista\n",
    "for n in range(0,5):\n",
    "    lista.append(int(input(f'Por favor, digite o valor para a {n}ª posição: ')))\n",
    "    \n",
    "#Verificação se é o número maior ou menor:       \n",
    "    if n == 0:\n",
    "        maior = menor = lista[n]     \n",
    "    else:\n",
    "        \n",
    "        if lista[n] > maior:\n",
    "            maior = lista[n]\n",
    "        else:\n",
    "            pass\n",
    "        \n",
    "        if lista[n] < menor:\n",
    "            menor = lista[n]\n",
    "        else:\n",
    "            pass\n",
    "\n",
    "#Retorno ao usuário\n",
    "print('-=' * 30)\n",
    "print(f'A lista informada foi: {lista}')\n",
    "print('-=' * 30)\n",
    "\n",
    "print(f'O maior número informado foi o {maior} e estava na(s) posição(ões): ', end ='')\n",
    "\n",
    "#Verificação da posição do maior número:\n",
    "for c, v in enumerate(lista):\n",
    "    if v == maior:\n",
    "        print(f'{c} |', end =' ')\n",
    "    else:\n",
    "        pass\n",
    "print()\n",
    "print(f'O menor número informado foi o {menor} e estava na(s) posição(ões): ', end = '')\n",
    "\n",
    "#Verificação da posição do maior número:\n",
    "for c, v in enumerate(lista):\n",
    "    if v == menor:\n",
    "        print(f'{c} |', end = ' ')\n",
    "    else:\n",
    "        pass"
   ]
  },
  {
   "cell_type": "code",
   "execution_count": null,
   "id": "e9989075",
   "metadata": {},
   "outputs": [],
   "source": []
  },
  {
   "cell_type": "code",
   "execution_count": null,
   "id": "63764757",
   "metadata": {},
   "outputs": [],
   "source": []
  }
 ],
 "metadata": {
  "kernelspec": {
   "display_name": "Python 3 (ipykernel)",
   "language": "python",
   "name": "python3"
  },
  "language_info": {
   "codemirror_mode": {
    "name": "ipython",
    "version": 3
   },
   "file_extension": ".py",
   "mimetype": "text/x-python",
   "name": "python",
   "nbconvert_exporter": "python",
   "pygments_lexer": "ipython3",
   "version": "3.9.7"
  }
 },
 "nbformat": 4,
 "nbformat_minor": 5
}
