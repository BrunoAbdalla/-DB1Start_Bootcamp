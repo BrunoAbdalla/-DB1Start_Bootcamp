{
 "cells": [
  {
   "cell_type": "code",
   "execution_count": null,
   "id": "2ba6f0c6",
   "metadata": {},
   "outputs": [],
   "source": [
    "#   3) Desenvolver um algoritmo que leia um número não determinado de valores e calcule e escreva a média aritmética dos valores\n",
    "#   lidos, a quantidade de valores positivos, a quantidade de valores negativos e o percentual de valores negativos e positivos."
   ]
  },
  {
   "cell_type": "code",
   "execution_count": 18,
   "id": "bcc95182",
   "metadata": {},
   "outputs": [
    {
     "name": "stdout",
     "output_type": "stream",
     "text": [
      "Por favor insira um número: 20\n",
      "Por favor insira outro número: -10\n",
      "Deseja inserir outro número [S/N]? n\n",
      "- Foram digitados 2 valores, que tem média aritmética de 5.00.\n",
      "- Foram digitados 1 valores positivos, que representam 50.00% do total de números digitados.\n",
      "- Foram digitados 1 valores negativos, que representam 50.00% do total de números digitados.\n"
     ]
    }
   ],
   "source": [
    "#Variável de controle\n",
    "cont_pos = cont = cont_neg = 0\n",
    "continuar = \"\"\n",
    "\n",
    "#Solicitar o primeiro número número:\n",
    "num = float(input(\"Por favor insira um número: \"))\n",
    "cont = cont + 1\n",
    "soma = num\n",
    "\n",
    "#Verificação se é positivo ou negativo:\n",
    "if num > 0:\n",
    "    cont_pos = cont_pos + 1\n",
    "elif num < 0:\n",
    "    cont_neg = cont_neg + 1\n",
    "else:\n",
    "    pass\n",
    "\n",
    "#Estrutura de repetição:\n",
    "while continuar in \"Ss\":\n",
    "    \n",
    "#Solicitar os próximnos números:\n",
    "    num2 = float(input(\"Por favor insira outro número: \"))\n",
    "    cont = cont + 1\n",
    "    soma = soma + num2\n",
    "#Verificação se é positivo ou negativa:\n",
    "    if num2 > 0:\n",
    "        cont_pos = cont_pos + 1\n",
    "    elif num2 < 0:\n",
    "        cont_neg = cont_neg + 1\n",
    "    else:\n",
    "        pass\n",
    "  \n",
    "#Condição de parada \n",
    "    continuar = str(input(\"Deseja inserir outro número [S/N]? \"))\n",
    "    while continuar not in \"SsNn\":\n",
    "        continuar = str(input(\"Opção inválida! Deseja inserir outro número [S/N]? \"))\n",
    "\n",
    "#Cálculos necessários\n",
    "media = soma / cont\n",
    "porc_pos = (cont_pos / cont) * 100\n",
    "porc_neg = (cont_neg / cont) * 100\n",
    "\n",
    "#Retorno ao usuário        \n",
    "print(f\"- Foram digitados {cont} valores, que tem média aritmética de {media:.2f}.\")\n",
    "print(f\"- Foram digitados {cont_pos} valores positivos, que representam {porc_pos:.2f}% do total de números digitados.\")\n",
    "print(f\"- Foram digitados {cont_neg} valores negativos, que representam {porc_neg:.2f}% do total de números digitados.\")\n"
   ]
  },
  {
   "cell_type": "code",
   "execution_count": null,
   "id": "36e94b98",
   "metadata": {},
   "outputs": [],
   "source": []
  }
 ],
 "metadata": {
  "kernelspec": {
   "display_name": "Python 3 (ipykernel)",
   "language": "python",
   "name": "python3"
  },
  "language_info": {
   "codemirror_mode": {
    "name": "ipython",
    "version": 3
   },
   "file_extension": ".py",
   "mimetype": "text/x-python",
   "name": "python",
   "nbconvert_exporter": "python",
   "pygments_lexer": "ipython3",
   "version": "3.9.7"
  }
 },
 "nbformat": 4,
 "nbformat_minor": 5
}
