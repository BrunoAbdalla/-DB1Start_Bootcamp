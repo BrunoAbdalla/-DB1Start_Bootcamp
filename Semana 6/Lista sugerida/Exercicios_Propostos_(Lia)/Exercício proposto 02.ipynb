{
 "cells": [
  {
   "cell_type": "code",
   "execution_count": null,
   "id": "b52c006d",
   "metadata": {},
   "outputs": [],
   "source": [
    "# 2) Desenvolver um algoritmo que leia a altura de 15 pessoas. Este programa deverá calcular e mostrar : \n",
    "#    a. A menor altura do grupo; \n",
    "#    b. A maior altura do grupo;"
   ]
  },
  {
   "cell_type": "code",
   "execution_count": 7,
   "id": "08aec070",
   "metadata": {},
   "outputs": [
    {
     "name": "stdout",
     "output_type": "stream",
     "text": [
      "Informe a altura de 15 pessoas: \n",
      "Por favor informe a altura da 1º pessoa: 1.5\n",
      "Por favor informe a altura da 2º pessoa: 2\n",
      "Por favor informe a altura da 3º pessoa: 2\n",
      "Por favor informe a altura da 4º pessoa: 2\n",
      "Por favor informe a altura da 5º pessoa: 2\n",
      "Por favor informe a altura da 6º pessoa: 2.5\n",
      "Por favor informe a altura da 7º pessoa: 2\n",
      "Por favor informe a altura da 8º pessoa: 1.8\n",
      "Por favor informe a altura da 9º pessoa: 1.5\n",
      "Por favor informe a altura da 10º pessoa: 1\n",
      "Por favor informe a altura da 11º pessoa: 1\n",
      "Por favor informe a altura da 12º pessoa: 1\n",
      "Por favor informe a altura da 13º pessoa: 1.2\n",
      "Por favor informe a altura da 14º pessoa: 1.5\n",
      "Por favor informe a altura da 15º pessoa: 1.8\n",
      "A pessoa com a maior altura informada possui 2.50 m e a menor possui 1.00 m.\n"
     ]
    }
   ],
   "source": [
    "#Inicializando variáveis de controle\n",
    "maior = menor = 0\n",
    "cont = 1\n",
    "\n",
    "# Solicitar a altura das pessoas para o usuário:\n",
    "print(\"Informe a altura de 15 pessoas: \")\n",
    "for n in range (1, 16):\n",
    "    altura = float(input(f\"Por favor informe a altura da {cont}º pessoa: \"))\n",
    "    cont = cont + 1\n",
    "    if altura > maior:\n",
    "        maior = altura\n",
    "    else:\n",
    "        pass\n",
    "\n",
    "    if altura < menor or menor == 0:\n",
    "        menor = altura\n",
    "    else:\n",
    "        pass\n",
    "print(f\"A pessoa com a maior altura informada possui {maior:.2f} m e a menor possui {menor:.2f} m.\")"
   ]
  },
  {
   "cell_type": "code",
   "execution_count": null,
   "id": "9f43c934",
   "metadata": {},
   "outputs": [],
   "source": []
  }
 ],
 "metadata": {
  "kernelspec": {
   "display_name": "Python 3 (ipykernel)",
   "language": "python",
   "name": "python3"
  },
  "language_info": {
   "codemirror_mode": {
    "name": "ipython",
    "version": 3
   },
   "file_extension": ".py",
   "mimetype": "text/x-python",
   "name": "python",
   "nbconvert_exporter": "python",
   "pygments_lexer": "ipython3",
   "version": "3.9.7"
  }
 },
 "nbformat": 4,
 "nbformat_minor": 5
}
