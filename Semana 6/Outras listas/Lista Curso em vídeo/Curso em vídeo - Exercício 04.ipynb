{
 "cells": [
  {
   "cell_type": "code",
   "execution_count": 4,
   "id": "f49b4e72",
   "metadata": {},
   "outputs": [
    {
     "name": "stdout",
     "output_type": "stream",
     "text": [
      "Qual tabuada você deseja que seja feito o cálculo? 7\n",
      "1 X 7 = 7\n",
      "2 X 7 = 14\n",
      "3 X 7 = 21\n",
      "4 X 7 = 28\n",
      "5 X 7 = 35\n",
      "6 X 7 = 42\n",
      "7 X 7 = 49\n",
      "8 X 7 = 56\n",
      "9 X 7 = 63\n",
      "10 X 7 = 70\n"
     ]
    }
   ],
   "source": [
    "#4) Faça um programa que exiba a qualque tabuada utilizando laços de repetição:\n",
    "\n",
    "#Definindo o contador e o resultado\n",
    "cont = 0\n",
    "resultado = 0\n",
    "\n",
    "#Solicir qual tabuada deseja-se fazer\n",
    "tabuada = int(input(\"Qual tabuada você deseja que seja feito o cálculo? \"))\n",
    "\n",
    "#Definindo o intervalo de repetição\n",
    "for c in range(1, 11):\n",
    "\n",
    "#Fazendo os cálculos do contador e da tabuada\n",
    "    cont = cont + 1\n",
    "    resultado = cont * tabuada\n",
    "\n",
    "#Devolvendo a resposta ao usuário\n",
    "    print(f\"{cont} X {tabuada} = {resultado}\")\n",
    "    \n",
    "    "
   ]
  },
  {
   "cell_type": "code",
   "execution_count": null,
   "id": "20f95c32",
   "metadata": {},
   "outputs": [],
   "source": []
  }
 ],
 "metadata": {
  "kernelspec": {
   "display_name": "Python 3 (ipykernel)",
   "language": "python",
   "name": "python3"
  },
  "language_info": {
   "codemirror_mode": {
    "name": "ipython",
    "version": 3
   },
   "file_extension": ".py",
   "mimetype": "text/x-python",
   "name": "python",
   "nbconvert_exporter": "python",
   "pygments_lexer": "ipython3",
   "version": "3.9.7"
  }
 },
 "nbformat": 4,
 "nbformat_minor": 5
}
