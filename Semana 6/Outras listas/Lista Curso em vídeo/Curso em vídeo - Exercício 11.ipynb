{
 "cells": [
  {
   "cell_type": "code",
   "execution_count": null,
   "id": "294878d3",
   "metadata": {},
   "outputs": [],
   "source": [
    "#11) Desenvolva um programa que leia o nome, a idade e o sexo de 4 pessoas e nos retorne:\n",
    "#    - 1) A média de idades do grupo;\n",
    "#    - 2) O nome do homem mais velho;\n",
    "#    - 3) O número de mulheres com menos de 20 anos."
   ]
  },
  {
   "cell_type": "code",
   "execution_count": 15,
   "id": "59d4b972",
   "metadata": {},
   "outputs": [
    {
     "name": "stdout",
     "output_type": "stream",
     "text": [
      "Digite o nome da 1ª pessoa: jcua\n",
      "Digite a idade da 1ª pessoa: 30\n",
      "Digite a idade da 1ª pessoa (M/F): M\n",
      "Digite o nome da 2ª pessoa: renato\n",
      "Digite a idade da 2ª pessoa: 44\n",
      "Digite a idade da 2ª pessoa (M/F): m\n",
      "Digite o nome da 3ª pessoa: Nina\n",
      "Digite a idade da 3ª pessoa: 15\n",
      "Digite a idade da 3ª pessoa (M/F): f\n",
      "Digite o nome da 4ª pessoa: Julia\n",
      "Digite a idade da 4ª pessoa: 12\n",
      "Digite a idade da 4ª pessoa (M/F): F\n",
      "A média de idade do grupo informado é de: 25.25.\n",
      "O homem mais velho é o renato com 44 anos.\n",
      "O número de mulheres com menos de 20 anos é 2.\n"
     ]
    }
   ],
   "source": [
    "#Decalaração das variáveis de controle\n",
    "somaidade = 0\n",
    "resultado_1 = 0\n",
    "resultado_2 = \"\"\n",
    "maisvelho = 0\n",
    "resultado_3 = 0\n",
    "\n",
    "#Pedir os dados das pessoas 4 vezes\n",
    "for c in range(1,5):\n",
    "    nome = str(input(f\"Digite o nome da {c}ª pessoa: \"))\n",
    "    idade = int(input(f\"Digite a idade da {c}ª pessoa: \"))\n",
    "    sexo = str(input(f\"Digite a idade da {c}ª pessoa (M/F): \"))\n",
    "    \n",
    "#Cálculo da média de idade\n",
    "    somaidade = somaidade + idade\n",
    "    resultado_1 = float(somaidade / 4)\n",
    "    \n",
    "#Verifica se o homem é o mais velho\n",
    "    if sexo in \"Mm\":\n",
    "        if c == 1:\n",
    "            resultado_2 = nome\n",
    "            maisvelho = idade\n",
    "            \n",
    "        elif idade > maisvelho:\n",
    "            maisvelho = idade\n",
    "            resultado_2 = nome\n",
    "        else:\n",
    "            pass\n",
    "    else:\n",
    "        pass\n",
    "    \n",
    "#Contar o número de mulheres com menos de 20 anos de idade\n",
    "    if sexo in \"Ff\" and idade < 20:\n",
    "        resultado_3 = resultado_3 + 1\n",
    "    \n",
    "    else:\n",
    "        pass\n",
    "\n",
    "#Retorno ao usuário\n",
    "print (f\"A média de idade do grupo informado é de: {resultado_1}.\")\n",
    "print (f\"O homem mais velho é o {resultado_2} com {maisvelho} anos.\")\n",
    "print (f\"O número de mulheres com menos de 20 anos é {resultado_3}.\")\n",
    "    "
   ]
  },
  {
   "cell_type": "code",
   "execution_count": null,
   "id": "e40b7fdc",
   "metadata": {},
   "outputs": [],
   "source": []
  },
  {
   "cell_type": "code",
   "execution_count": null,
   "id": "2f841901",
   "metadata": {},
   "outputs": [],
   "source": []
  }
 ],
 "metadata": {
  "kernelspec": {
   "display_name": "Python 3 (ipykernel)",
   "language": "python",
   "name": "python3"
  },
  "language_info": {
   "codemirror_mode": {
    "name": "ipython",
    "version": 3
   },
   "file_extension": ".py",
   "mimetype": "text/x-python",
   "name": "python",
   "nbconvert_exporter": "python",
   "pygments_lexer": "ipython3",
   "version": "3.9.7"
  }
 },
 "nbformat": 4,
 "nbformat_minor": 5
}
