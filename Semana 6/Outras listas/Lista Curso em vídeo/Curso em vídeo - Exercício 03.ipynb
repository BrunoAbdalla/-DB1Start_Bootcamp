{
 "cells": [
  {
   "cell_type": "code",
   "execution_count": 6,
   "id": "8de1f79b",
   "metadata": {},
   "outputs": [
    {
     "name": "stdout",
     "output_type": "stream",
     "text": [
      "Foram encontrados 83 valores ímpares e divisíveis por 3 entre 1 e 500, que somados resulta em 20667.\n"
     ]
    }
   ],
   "source": [
    "#3) Faça a soma de todos os números ímpares, múltiplos de 3, que se encontrem entre 1 e 500  diga quantos números foram somados\n",
    "\n",
    "#Declaração das variáveis\n",
    "soma = 0\n",
    "cont = 0\n",
    "\n",
    "#Configuração da contagem\n",
    "for c in range(1, 501, 2):\n",
    "\n",
    "#Verificação se o número é divisível por 3\n",
    "    if c % 3 == 0:\n",
    "\n",
    "#Cálculo da soma e do número de valores encontrado\n",
    "        soma = soma + c\n",
    "        cont = cont + 1\n",
    "\n",
    "#Retorno ao usuário\n",
    "print(f\"Foram encontrados {cont} valores ímpares e divisíveis por 3 entre 1 e 500, que somados resulta em {soma}.\")"
   ]
  },
  {
   "cell_type": "code",
   "execution_count": null,
   "id": "ada4ee16",
   "metadata": {},
   "outputs": [],
   "source": []
  }
 ],
 "metadata": {
  "kernelspec": {
   "display_name": "Python 3 (ipykernel)",
   "language": "python",
   "name": "python3"
  },
  "language_info": {
   "codemirror_mode": {
    "name": "ipython",
    "version": 3
   },
   "file_extension": ".py",
   "mimetype": "text/x-python",
   "name": "python",
   "nbconvert_exporter": "python",
   "pygments_lexer": "ipython3",
   "version": "3.9.7"
  }
 },
 "nbformat": 4,
 "nbformat_minor": 5
}
