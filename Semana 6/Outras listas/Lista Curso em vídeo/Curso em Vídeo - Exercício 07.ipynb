{
 "cells": [
  {
   "cell_type": "code",
   "execution_count": 17,
   "id": "ec5bd0dd",
   "metadata": {},
   "outputs": [
    {
     "name": "stdout",
     "output_type": "stream",
     "text": [
      "Por favor, entre com o número que deseja-se saber se é um número primo ou não: 11\n",
      "O númro 11 é um número primo!\n"
     ]
    }
   ],
   "source": [
    "#7) Faça um programa que leia qualquer número e diga se ele é um número primo ou não:\n",
    "\n",
    "num = int(input(\"Por favor, entre com o número que deseja-se saber se é um número primo ou não: \"))\n",
    "\n",
    "#Definição de um contador:\n",
    "cont = 0\n",
    "\n",
    "#Definição do intervalo de estudo do intervalo:\n",
    "\n",
    "for c in range(1, num+1):\n",
    "    if num % c == 0:\n",
    "        cont = cont +1\n",
    "    else:\n",
    "        pass\n",
    "    \n",
    "if cont != 2:\n",
    "    print(f\"O número {num} não é um número primo!\")\n",
    "    \n",
    "else:\n",
    "    print(f\"O númro {num} é um número primo!\")\n",
    "    \n",
    "    "
   ]
  },
  {
   "cell_type": "code",
   "execution_count": null,
   "id": "02edac35",
   "metadata": {},
   "outputs": [],
   "source": []
  },
  {
   "cell_type": "code",
   "execution_count": null,
   "id": "7889ea47",
   "metadata": {},
   "outputs": [],
   "source": []
  }
 ],
 "metadata": {
  "kernelspec": {
   "display_name": "Python 3 (ipykernel)",
   "language": "python",
   "name": "python3"
  },
  "language_info": {
   "codemirror_mode": {
    "name": "ipython",
    "version": 3
   },
   "file_extension": ".py",
   "mimetype": "text/x-python",
   "name": "python",
   "nbconvert_exporter": "python",
   "pygments_lexer": "ipython3",
   "version": "3.9.7"
  }
 },
 "nbformat": 4,
 "nbformat_minor": 5
}
