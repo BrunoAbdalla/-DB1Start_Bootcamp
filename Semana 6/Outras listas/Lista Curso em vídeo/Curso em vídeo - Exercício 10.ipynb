{
 "cells": [
  {
   "cell_type": "code",
   "execution_count": 12,
   "id": "4efd39a5",
   "metadata": {},
   "outputs": [
    {
     "name": "stdout",
     "output_type": "stream",
     "text": [
      "Por favor, entre com o peso da primeira pessoa: 10\n",
      "Por favor, entre com o peso da primeira pessoa: 20\n",
      "Por favor, entre com o peso da primeira pessoa: 30\n",
      "Por favor, entre com o peso da primeira pessoa: 40\n",
      "Por favor, entre com o peso da primeira pessoa: 50\n",
      "Dentre os pesos informados, o maior é o 50.0 e o menor é o 10.0.\n"
     ]
    }
   ],
   "source": [
    "#10) Faça um programa que leia o peso de 5 pessoas e diga qual é o maior e qual é o menor\n",
    "\n",
    "#Variaveis de controle:\n",
    "maior = 0\n",
    "menor = 0\n",
    "\n",
    "#Definir o intervalo e pedir o peso das pessoas\n",
    "for c in range(1,6):\n",
    "    peso_teste = float(input(\"Por favor, entre com o peso da primeira pessoa: \"))\n",
    "\n",
    "#Teste se o peso é o maior ou o maior:\n",
    "    if peso_teste > maior:\n",
    "        maior = peso_teste\n",
    "        \n",
    "    if menor == 0 or peso_teste < menor:\n",
    "        menor = peso_teste\n",
    "    \n",
    "    else:\n",
    "        pass\n",
    "    \n",
    "#Retorno ao usuário:\n",
    "print(f\"Dentre os pesos informados, o maior é o {maior} e o menor é o {menor}.\")"
   ]
  },
  {
   "cell_type": "code",
   "execution_count": null,
   "id": "404650a3",
   "metadata": {},
   "outputs": [],
   "source": []
  }
 ],
 "metadata": {
  "kernelspec": {
   "display_name": "Python 3 (ipykernel)",
   "language": "python",
   "name": "python3"
  },
  "language_info": {
   "codemirror_mode": {
    "name": "ipython",
    "version": 3
   },
   "file_extension": ".py",
   "mimetype": "text/x-python",
   "name": "python",
   "nbconvert_exporter": "python",
   "pygments_lexer": "ipython3",
   "version": "3.9.7"
  }
 },
 "nbformat": 4,
 "nbformat_minor": 5
}
