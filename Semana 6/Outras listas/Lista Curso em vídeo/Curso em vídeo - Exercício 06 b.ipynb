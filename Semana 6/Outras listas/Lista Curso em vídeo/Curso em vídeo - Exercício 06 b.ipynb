{
 "cells": [
  {
   "cell_type": "code",
   "execution_count": 3,
   "id": "c3a9ab74",
   "metadata": {},
   "outputs": [
    {
     "name": "stdout",
     "output_type": "stream",
     "text": [
      "Entre com o primeiro termo da PA: 2\n",
      "Entre com a razão da PA2\n",
      "2 -> 4 -> 6 -> 8 -> 10 -> 12 -> 14 -> 16 -> 18 -> 20 -> ACABOU\n"
     ]
    }
   ],
   "source": [
    "#Modo alternativo do Exercício 6\n",
    "\n",
    "#Solicitar as informações da PA\n",
    "a_1 = int(input(\"Entre com o primeiro termo da PA: \"))\n",
    "r = int(input(\"Entre com a razão da PA\"))\n",
    "\n",
    "#Cálculo do décimo termo\n",
    "a_10 = a_1 + (9 * r)\n",
    "\n",
    "#Configuração para imprimir a matriz\n",
    "\n",
    "for c in range(a_1, a_10 + r, r):\n",
    "    print(c, end = \" -> \")\n",
    "print (\"ACABOU\")"
   ]
  },
  {
   "cell_type": "code",
   "execution_count": null,
   "id": "5a734e75",
   "metadata": {},
   "outputs": [],
   "source": []
  }
 ],
 "metadata": {
  "kernelspec": {
   "display_name": "Python 3 (ipykernel)",
   "language": "python",
   "name": "python3"
  },
  "language_info": {
   "codemirror_mode": {
    "name": "ipython",
    "version": 3
   },
   "file_extension": ".py",
   "mimetype": "text/x-python",
   "name": "python",
   "nbconvert_exporter": "python",
   "pygments_lexer": "ipython3",
   "version": "3.9.7"
  }
 },
 "nbformat": 4,
 "nbformat_minor": 5
}
