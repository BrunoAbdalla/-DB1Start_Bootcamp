{
 "cells": [
  {
   "cell_type": "code",
   "execution_count": 8,
   "id": "97c89f88",
   "metadata": {},
   "outputs": [
    {
     "name": "stdout",
     "output_type": "stream",
     "text": [
      "Por favor, informe o primeiro termo da PA desejada: 2\n",
      "Por favor, informe a razão da PA desejada: 2\n",
      "2.0 , 4.0 , 6.0 , 8.0 , 10.0 , 12.0 , 14.0 , 16.0 , 18.0 , 20.0 ... "
     ]
    }
   ],
   "source": [
    "#6) Crie um programa que leia o primeiro termo e a razão de uma PA (Progressão aritmética) e retorne os 10 primneiros termos\n",
    "\n",
    "#Definição do termo:\n",
    "a_n = 0\n",
    "\n",
    "#Solicitação dos dados de entrada:\n",
    "a_1 = float(input(\"Por favor, informe o primeiro termo da PA desejada: \"))\n",
    "r = float(input(\"Por favor, informe a razão da PA desejada: \"))\n",
    "\n",
    "#Definição do intervalo utilizado\n",
    "for c in range (1, 11):\n",
    "    if c == 1:\n",
    "        a_n = a_1\n",
    "        print(a_n , end= \" , \")\n",
    "        \n",
    "    elif c > 1 and c < 10:\n",
    "        a_n = a_n + r\n",
    "        print(a_n , end= \" , \")\n",
    "        \n",
    "    else:\n",
    "        a_n = a_n + r\n",
    "        print(a_n , end= \" ... \")\n",
    "    "
   ]
  },
  {
   "cell_type": "code",
   "execution_count": null,
   "id": "4c82d661",
   "metadata": {},
   "outputs": [],
   "source": []
  }
 ],
 "metadata": {
  "kernelspec": {
   "display_name": "Python 3 (ipykernel)",
   "language": "python",
   "name": "python3"
  },
  "language_info": {
   "codemirror_mode": {
    "name": "ipython",
    "version": 3
   },
   "file_extension": ".py",
   "mimetype": "text/x-python",
   "name": "python",
   "nbconvert_exporter": "python",
   "pygments_lexer": "ipython3",
   "version": "3.9.7"
  }
 },
 "nbformat": 4,
 "nbformat_minor": 5
}
