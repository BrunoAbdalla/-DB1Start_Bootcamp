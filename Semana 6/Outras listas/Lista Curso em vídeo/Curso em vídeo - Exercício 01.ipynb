{
 "cells": [
  {
   "cell_type": "code",
   "execution_count": 20,
   "id": "1eda35a6",
   "metadata": {},
   "outputs": [],
   "source": [
    "#1) Fazer uma programa com contagem regressiva para a contagem de fogos:"
   ]
  },
  {
   "cell_type": "code",
   "execution_count": 21,
   "id": "8f23c0ff",
   "metadata": {},
   "outputs": [
    {
     "name": "stdout",
     "output_type": "stream",
     "text": [
      "10\n",
      "9\n",
      "8\n",
      "7\n",
      "6\n",
      "5\n",
      "4\n",
      "3\n",
      "2\n",
      "1\n",
      "Feliz ano novo\n"
     ]
    }
   ],
   "source": [
    "#importar a função tempo\n",
    "import time\n",
    "\n",
    "for c in range(10, 0, -1):\n",
    "    print(c)\n",
    "    time.sleep(1)\n",
    "print(\"Feliz ano novo\")"
   ]
  },
  {
   "cell_type": "code",
   "execution_count": null,
   "id": "28d4e017",
   "metadata": {},
   "outputs": [],
   "source": []
  }
 ],
 "metadata": {
  "kernelspec": {
   "display_name": "Python 3 (ipykernel)",
   "language": "python",
   "name": "python3"
  },
  "language_info": {
   "codemirror_mode": {
    "name": "ipython",
    "version": 3
   },
   "file_extension": ".py",
   "mimetype": "text/x-python",
   "name": "python",
   "nbconvert_exporter": "python",
   "pygments_lexer": "ipython3",
   "version": "3.9.7"
  }
 },
 "nbformat": 4,
 "nbformat_minor": 5
}
