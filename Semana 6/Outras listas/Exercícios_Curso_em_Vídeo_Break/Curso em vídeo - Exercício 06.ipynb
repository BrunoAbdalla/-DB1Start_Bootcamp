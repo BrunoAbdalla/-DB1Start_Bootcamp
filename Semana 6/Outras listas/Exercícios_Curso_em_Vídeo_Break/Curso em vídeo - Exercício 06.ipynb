{
 "cells": [
  {
   "cell_type": "code",
   "execution_count": null,
   "id": "e7d60a77",
   "metadata": {},
   "outputs": [],
   "source": [
    "#6) Crie um programa que simule o funcionamento de um caixa eletrônico, primeiro perguta ao usuário o valor a ser sacado e o\n",
    "#   programa deve informar quais cédulas devem ser entregues dependendo do valor (Notas de 50, 20, 10, 1)"
   ]
  },
  {
   "cell_type": "code",
   "execution_count": 6,
   "id": "236b3950",
   "metadata": {},
   "outputs": [
    {
     "name": "stdout",
     "output_type": "stream",
     "text": [
      "Qual valor você deseja sacar?25\n",
      "O valor selecionado foi: R$25.00\n",
      "Será(ão) entregue(s) 1 notas de R$20,00\n",
      "Será(ão) entregue(s) 5 notas de R$1,00\n"
     ]
    }
   ],
   "source": [
    "qtd1 = qtd10 = qtd20 = qtd50 = 0\n",
    "\n",
    "#Solicitar o valor para o usuário\n",
    "valor = int(input(\"Qual valor você deseja sacar?\"))\n",
    "\n",
    "qtd50 = valor // 50\n",
    "qtd20 = (valor - (qtd50*50)) // 20\n",
    "qtd10 = (valor - (qtd50*50) - (qtd20*20)) // 10\n",
    "qtd1 = (valor - (qtd50*50) - (qtd20*20) - (qtd10*10))\n",
    "\n",
    "print(f\"O valor selecionado foi: R${valor:.2f}\")\n",
    "if qtd50 > 0:\n",
    "    print(f\"Será(ão) entregue(s) {qtd50} notas de R$50,00\")\n",
    "if qtd20 > 0:\n",
    "    print(f\"Será(ão) entregue(s) {qtd20} notas de R$20,00\")\n",
    "if qtd10 > 0:\n",
    "    print(f\"Será(ão) entregue(s) {qtd10} notas de R$10,00\")\n",
    "if qtd1 > 0:\n",
    "    print(f\"Será(ão) entregue(s) {qtd1} notas de R$1,00\")"
   ]
  },
  {
   "cell_type": "code",
   "execution_count": null,
   "id": "b4580786",
   "metadata": {},
   "outputs": [],
   "source": []
  },
  {
   "cell_type": "code",
   "execution_count": null,
   "id": "21420d31",
   "metadata": {},
   "outputs": [],
   "source": []
  }
 ],
 "metadata": {
  "kernelspec": {
   "display_name": "Python 3 (ipykernel)",
   "language": "python",
   "name": "python3"
  },
  "language_info": {
   "codemirror_mode": {
    "name": "ipython",
    "version": 3
   },
   "file_extension": ".py",
   "mimetype": "text/x-python",
   "name": "python",
   "nbconvert_exporter": "python",
   "pygments_lexer": "ipython3",
   "version": "3.9.7"
  }
 },
 "nbformat": 4,
 "nbformat_minor": 5
}
