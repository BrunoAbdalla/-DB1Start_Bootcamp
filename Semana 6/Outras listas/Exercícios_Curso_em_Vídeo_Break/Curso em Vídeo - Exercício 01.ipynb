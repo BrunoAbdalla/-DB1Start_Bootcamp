{
 "cells": [
  {
   "cell_type": "code",
   "execution_count": 6,
   "id": "cc5b34e2",
   "metadata": {},
   "outputs": [
    {
     "name": "stdout",
     "output_type": "stream",
     "text": [
      "Por favor, digite um número inteiro (Ou 999 para encerrar o programa): 999\n",
      "Foram digitados 0 valores que somados resulta em 0.\n"
     ]
    }
   ],
   "source": [
    "#1) Crie um programa que leia vários números inteiros e só pare quando o usuário digitar 999 e no final ele mostre quantos foram\n",
    "#   os números digitados e a soma desses valores. (Desconsiderando o flag)\n",
    "\n",
    "#Iniciando as variáveis de controle\n",
    "s = cont = 0\n",
    "\n",
    "#Estrutura de repetição \"Infinita\"\n",
    "while True:\n",
    "    \n",
    "#Solicitação dos valores ao usuário\n",
    "    n = int(input(\"Por favor, digite um número inteiro (Ou 999 para encerrar o programa): \"))\n",
    "\n",
    "#Condição de continuidade e parada da repetição\n",
    "    if n != 999:\n",
    "        s = s+n\n",
    "        cont = cont + 1\n",
    "    else:\n",
    "        break\n",
    "\n",
    "#Retorno ao usuário\n",
    "print (f\"Foram digitados {cont} valores que somados resulta em {s}.\")\n"
   ]
  },
  {
   "cell_type": "code",
   "execution_count": null,
   "id": "84dd8035",
   "metadata": {},
   "outputs": [],
   "source": []
  },
  {
   "cell_type": "code",
   "execution_count": null,
   "id": "9de3a21b",
   "metadata": {},
   "outputs": [],
   "source": []
  }
 ],
 "metadata": {
  "kernelspec": {
   "display_name": "Python 3 (ipykernel)",
   "language": "python",
   "name": "python3"
  },
  "language_info": {
   "codemirror_mode": {
    "name": "ipython",
    "version": 3
   },
   "file_extension": ".py",
   "mimetype": "text/x-python",
   "name": "python",
   "nbconvert_exporter": "python",
   "pygments_lexer": "ipython3",
   "version": "3.9.7"
  }
 },
 "nbformat": 4,
 "nbformat_minor": 5
}
