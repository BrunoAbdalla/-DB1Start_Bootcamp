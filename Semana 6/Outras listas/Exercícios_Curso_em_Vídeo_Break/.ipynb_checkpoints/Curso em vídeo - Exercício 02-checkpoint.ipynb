{
 "cells": [
  {
   "cell_type": "code",
   "execution_count": 10,
   "id": "aff685f7",
   "metadata": {},
   "outputs": [
    {
     "name": "stdout",
     "output_type": "stream",
     "text": [
      "\n",
      "---------------------------------------\n",
      "\n",
      "De qual número você quer ver a tabuada? 2\n",
      "\n",
      "1 X 2 = 2\n",
      "2 X 2 = 4\n",
      "3 X 2 = 6\n",
      "4 X 2 = 8\n",
      "5 X 2 = 10\n",
      "6 X 2 = 12\n",
      "7 X 2 = 14\n",
      "8 X 2 = 16\n",
      "9 X 2 = 18\n",
      "10 X 2 = 20\n",
      "\n",
      "---------------------------------------\n",
      "\n",
      "De qual número você quer ver a tabuada? -1\n",
      "\n",
      "Programa de tabuadas encerrado, volte sempre!\n"
     ]
    }
   ],
   "source": [
    "#2) Faça uma tabuada que calcule a tabuada de vários números para cada valor informado pelo usuário. O programa será interrompido\n",
    "#   quando o valor informado for negativo\n",
    "\n",
    "#Estrutura de repetição de encerramento do programa\n",
    "while True:\n",
    "\n",
    "#Inicialização das variáveis\n",
    "    numus = cont = tabuada = 0\n",
    "    \n",
    "#Divisória (Estética)\n",
    "    print(\"\\n---------------------------------------\\n\")\n",
    "    \n",
    "#Pedir valores para o usuário:\n",
    "    numus = int(input(\"De qual número você quer ver a tabuada? \"))\n",
    "    print()\n",
    "\n",
    "#Condição de encerramento do programa:\n",
    "    if numus > 0:\n",
    "        \n",
    "#Estrutura de repetição para a criação da tabuada:\n",
    "        for cont in range(1, 11):\n",
    "            tabuada = cont * numus\n",
    "            print(f\"{cont} X {numus} = {tabuada}\")\n",
    "    else:\n",
    "        break\n",
    "        \n",
    "#Retorno ao usuário de encerramento do programa       \n",
    "print(\"Programa de tabuadas encerrado, volte sempre!\")\n",
    "    "
   ]
  },
  {
   "cell_type": "code",
   "execution_count": null,
   "id": "8fcc5aff",
   "metadata": {},
   "outputs": [],
   "source": []
  }
 ],
 "metadata": {
  "kernelspec": {
   "display_name": "Python 3 (ipykernel)",
   "language": "python",
   "name": "python3"
  },
  "language_info": {
   "codemirror_mode": {
    "name": "ipython",
    "version": 3
   },
   "file_extension": ".py",
   "mimetype": "text/x-python",
   "name": "python",
   "nbconvert_exporter": "python",
   "pygments_lexer": "ipython3",
   "version": "3.9.7"
  }
 },
 "nbformat": 4,
 "nbformat_minor": 5
}
