{
 "cells": [
  {
   "cell_type": "code",
   "execution_count": null,
   "id": "24bd42f0",
   "metadata": {},
   "outputs": [],
   "source": [
    "#4) Faça um programa que leia a idade e o sexo de várias pessoas, a cada pessoa cadastrada o programa deve perguntar se o \n",
    "#   usuário quer continuar ou não. Depois de encerrado ele mostra:\n",
    "#   - Quantas pessoas tem mais de 18 anos\n",
    "#   - Quantos homens foram cadastrados\n",
    "#   - Quantas mulheres que tem menos de 20 anos foram cadastradas"
   ]
  },
  {
   "cell_type": "code",
   "execution_count": 9,
   "id": "4a68b1f6",
   "metadata": {},
   "outputs": [
    {
     "name": "stdout",
     "output_type": "stream",
     "text": [
      "\n",
      "_________NOVO CADASTRO_________\n",
      "\n",
      "Por favor digite o nome do cadastrado: Marcia\n",
      "Informe a idade do cadastrado: 12\n",
      "Por favor, informe o sexo do cadastrado [M/F]: F\n",
      "Deseja cadastrar mais alguma pessoa [S/N]? N\n",
      "\n",
      "Foram cadastrados:\n",
      " * 0 Pessoas com mais de 18 anos;\n",
      " * 0 Pessoas do sexo masculino;\n",
      " * 0 Pessoas do sexo feminino com mais de 20 anos.\n"
     ]
    }
   ],
   "source": [
    "#Inicializando as variáveis de controle\n",
    "mais18 = homem = mulher20 = 0\n",
    "\n",
    "#Criação do laço de repetição \"infinito\"\n",
    "while True:\n",
    "    \n",
    "#Coleta das informações:\n",
    "    print(\"\\n_________NOVO CADASTRO_________\\n\")\n",
    "    nome = str(input(\"Por favor digite o nome do cadastrado: \"))\n",
    "    idade = int(input(\"Informe a idade do cadastrado: \"))\n",
    "\n",
    "#Contar mais de 18 anos\n",
    "    if idade > 18:\n",
    "        mais18 = mais18 + 1\n",
    "    else:\n",
    "        pass\n",
    "\n",
    "    sexo = str(input(\"Por favor, informe o sexo do cadastrado [M/F]: \"))\n",
    "\n",
    "#Verificar se a opção informada é válida\n",
    "    while sexo not in \"MmFf\":\n",
    "        sexo = str(input(\"Opção inválida! Por favor, informe o sexo do cadastrado [M/F]: \"))\n",
    "\n",
    "#Verificar se é mulher e tem mais de 20 anos\n",
    "    if sexo in \"Ff\" and idade > 20:\n",
    "        mulher20 = mulher20 + 1\n",
    "\n",
    "#Verificar se é homem    \n",
    "    elif sexo in \"Mm\":\n",
    "        homem = homem + 1\n",
    "\n",
    "    else:\n",
    "        pass\n",
    "\n",
    "#Verificar se o usuário quer cadastrar mais alguém\n",
    "    continua = str(input(\"Deseja cadastrar mais alguma pessoa [S/N]? \"))\n",
    "    while continua not in \"SsNn\":\n",
    "        continua = str(input(\"Opção inválida! Deseja cadastrar mais alguma pessoa [S/N]? \"))\n",
    "\n",
    "#Decisão de quebrar o laço de repetição\n",
    "    if continua in \"Nn\":\n",
    "        break\n",
    "    else:\n",
    "        pass\n",
    "\n",
    "#Retorno ao usário\n",
    "print(f\"\\nForam cadastrados:\\n * {mais18} Pessoas com mais de 18 anos;\\n * {homem} Pessoas do sexo masculino;\\n * {mulher20} Pessoas do sexo feminino com mais de 20 anos.\")"
   ]
  },
  {
   "cell_type": "code",
   "execution_count": null,
   "id": "5a2512f0",
   "metadata": {},
   "outputs": [],
   "source": []
  }
 ],
 "metadata": {
  "kernelspec": {
   "display_name": "Python 3 (ipykernel)",
   "language": "python",
   "name": "python3"
  },
  "language_info": {
   "codemirror_mode": {
    "name": "ipython",
    "version": 3
   },
   "file_extension": ".py",
   "mimetype": "text/x-python",
   "name": "python",
   "nbconvert_exporter": "python",
   "pygments_lexer": "ipython3",
   "version": "3.9.7"
  }
 },
 "nbformat": 4,
 "nbformat_minor": 5
}
