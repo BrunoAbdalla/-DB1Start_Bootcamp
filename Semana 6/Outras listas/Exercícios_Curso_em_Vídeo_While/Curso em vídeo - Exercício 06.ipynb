{
 "cells": [
  {
   "cell_type": "code",
   "execution_count": 5,
   "id": "4a4e5aea",
   "metadata": {},
   "outputs": [
    {
     "name": "stdout",
     "output_type": "stream",
     "text": [
      "Favor informar o primeiro termo da PA: 2\n",
      "Favor informar a razão da PA: 2\n",
      "2-> 4-> 6-> 8-> 10-> 12-> 14-> 16-> 18-> 20-> E agora?\n",
      "Quantos termos mais você gostaria de ver?2\n",
      "22-> 24-> E agora?\n",
      "\n",
      "Quantos termos mais você gostaria de ver?2\n",
      "26-> 28-> E agora?\n",
      "\n",
      "Quantos termos mais você gostaria de ver?2\n",
      "30-> 32-> E agora?\n",
      "\n",
      "Quantos termos mais você gostaria de ver?2\n",
      "34-> 36-> E agora?\n",
      "\n",
      "Quantos termos mais você gostaria de ver?10\n",
      "38-> 40-> 42-> 44-> 46-> 48-> 50-> 52-> 54-> 56-> E agora?\n",
      "\n",
      "Quantos termos mais você gostaria de ver?0\n",
      "Programa encerrado!\n"
     ]
    }
   ],
   "source": [
    "#6) Faça um programa que peça o primeiro termo e a razão de uma PA e devolva os 10 primeiros termos dessa PA, depois mostre\n",
    "#   quantos termos mais o usuário queira ver, até que ele digite 0 e o programa encerra.\n",
    "\n",
    "#Pedir o primeiro termo e a razação da PA\n",
    "a_1 = int(input(\"Favor informar o primeiro termo da PA: \"))\n",
    "r = int(input(\"Favor informar a razão da PA: \"))\n",
    "a_n = 0\n",
    "cont2 = 0\n",
    "cont = 0\n",
    "opc = 1\n",
    "\n",
    "while cont < 10:\n",
    "    \n",
    "    a_n = a_1 + (r*cont)\n",
    "    cont = cont + 1\n",
    "    print(a_n, end=\"-> \")\n",
    "    \n",
    "print(\"E agora?\")\n",
    "\n",
    "opc = int(input(\"Quantos termos mais você gostaria de ver?\"))\n",
    "\n",
    "while opc != 0:\n",
    "    \n",
    "    while cont2 < opc:\n",
    "        a_n = a_1 + (r*cont)\n",
    "        cont = cont + 1\n",
    "        cont2 = cont2 + 1\n",
    "        print(a_n, end=\"-> \")\n",
    "    \n",
    "    cont2 = 0 \n",
    "    print(\"E agora?\\n\")\n",
    "    opc = int(input(\"Quantos termos mais você gostaria de ver?\"))\n",
    "    \n",
    "print(\"Programa encerrado!\")\n",
    "    "
   ]
  },
  {
   "cell_type": "code",
   "execution_count": null,
   "id": "2d2a56b6",
   "metadata": {},
   "outputs": [],
   "source": []
  }
 ],
 "metadata": {
  "kernelspec": {
   "display_name": "Python 3 (ipykernel)",
   "language": "python",
   "name": "python3"
  },
  "language_info": {
   "codemirror_mode": {
    "name": "ipython",
    "version": 3
   },
   "file_extension": ".py",
   "mimetype": "text/x-python",
   "name": "python",
   "nbconvert_exporter": "python",
   "pygments_lexer": "ipython3",
   "version": "3.9.7"
  }
 },
 "nbformat": 4,
 "nbformat_minor": 5
}
