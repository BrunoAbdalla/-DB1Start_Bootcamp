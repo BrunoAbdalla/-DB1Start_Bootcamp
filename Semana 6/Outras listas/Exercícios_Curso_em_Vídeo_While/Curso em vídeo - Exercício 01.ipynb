{
 "cells": [
  {
   "cell_type": "code",
   "execution_count": null,
   "id": "a2886ed4",
   "metadata": {},
   "outputs": [],
   "source": [
    "#1) Faça um programa que peça o sexo do usuário e só aceita M ou F como resposta e, em caso de respostas inválidas, ele\n",
    "#   continue pedindo uma outra resposta até que entre uma resposta válida."
   ]
  },
  {
   "cell_type": "code",
   "execution_count": 2,
   "id": "049c558e",
   "metadata": {},
   "outputs": [
    {
     "name": "stdout",
     "output_type": "stream",
     "text": [
      "Por favor digite seu sexo [M/F]: E\n",
      "Opção inválida! Por favor, digite um sexo válido, M para masculino ou F para feminino: Q\n",
      "Opção inválida! Por favor, digite um sexo válido, M para masculino ou F para feminino: m\n",
      "O sexo informado foi m - Masculino.\n"
     ]
    }
   ],
   "source": [
    "#Pedir o sexo do usuário\n",
    "sexo = str(input(\"Por favor digite seu sexo [M/F]: \"))\n",
    "\n",
    "#Verificar se é um sexo válido\n",
    "if sexo in \"MmFf\":\n",
    "    verificador = 1\n",
    "else:\n",
    "    verificador = 0\n",
    "    \n",
    "#Solicitação de um valor válido:\n",
    "    while verificador != 1:\n",
    "        sexo = str(input(\"Opção inválida! Por favor, digite um sexo válido, M para masculino ou F para feminino: \"))\n",
    "        if sexo in \"MmFf\":\n",
    "            verificador = 1\n",
    "        else:\n",
    "            pass\n",
    "        \n",
    "if sexo in \"Mm\":\n",
    "    print(f\"O sexo informado foi {sexo} - Masculino.\")\n",
    "\n",
    "else:\n",
    "    print(f\"O sexo informado foi o {sexo} - Feminino.\")"
   ]
  },
  {
   "cell_type": "code",
   "execution_count": null,
   "id": "49282194",
   "metadata": {},
   "outputs": [],
   "source": []
  }
 ],
 "metadata": {
  "kernelspec": {
   "display_name": "Python 3 (ipykernel)",
   "language": "python",
   "name": "python3"
  },
  "language_info": {
   "codemirror_mode": {
    "name": "ipython",
    "version": 3
   },
   "file_extension": ".py",
   "mimetype": "text/x-python",
   "name": "python",
   "nbconvert_exporter": "python",
   "pygments_lexer": "ipython3",
   "version": "3.9.7"
  }
 },
 "nbformat": 4,
 "nbformat_minor": 5
}
