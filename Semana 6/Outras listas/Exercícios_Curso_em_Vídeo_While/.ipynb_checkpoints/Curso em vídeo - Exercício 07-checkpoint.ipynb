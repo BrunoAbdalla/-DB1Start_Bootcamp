{
 "cells": [
  {
   "cell_type": "code",
   "execution_count": 15,
   "id": "605a5150",
   "metadata": {},
   "outputs": [
    {
     "name": "stdout",
     "output_type": "stream",
     "text": [
      "Por favor, digite o número de termos da sequência de Fibonacci que você deseja exibir: 10\n",
      "1 | 1 | 2 | 3 | 5 | 8 | 13 | 21 | 34 | 55 | "
     ]
    }
   ],
   "source": [
    "#7) Faça um programa que peça um número qualquer e que ele retorne os n primeiros termos de uma sequência de Fibonacci\n",
    "\n",
    "#Variáveis de controle\n",
    "num_1 = 1\n",
    "num_2 = 1\n",
    "num_3 = 0\n",
    "cont = 0\n",
    "\n",
    "#Pedir o número de termos da sequência de Fibonacci que se deseja mostrar:\n",
    "usunumb = int(input(\"Por favor, digite o número de termos da sequência de Fibonacci que você deseja exibir: \"))\n",
    "\n",
    "#Caso seja informado 0\n",
    "if usunumb == 0:\n",
    "    print(\"Encerrando o programa!\")\n",
    "\n",
    "#Caso seja informado 1\n",
    "elif usunumb == 1:\n",
    "    print (num_1)\n",
    "\n",
    "#Caso seja informado 2\n",
    "elif usunumb == 2:\n",
    "    print (num_1, end =\" | \")\n",
    "    print (num_2)\n",
    "\n",
    "#Caso sejam informados outros números\n",
    "else:\n",
    "    while cont < usunumb:\n",
    "        if cont == 0:\n",
    "            print(num_1, end = \" | \")\n",
    "            cont = cont + 1\n",
    "            \n",
    "        elif cont == 1:\n",
    "            print(num_2, end = \" | \")\n",
    "            cont = cont + 1\n",
    "        \n",
    "        else:\n",
    "            num_3 = num_1 + num_2\n",
    "            print(num_3, end = \" | \")\n",
    "            cont = cont + 1\n",
    "            num_1 = num_2\n",
    "            num_2 = num_3\n",
    "       \n",
    "        "
   ]
  },
  {
   "cell_type": "code",
   "execution_count": null,
   "id": "8773f5ae",
   "metadata": {},
   "outputs": [],
   "source": []
  }
 ],
 "metadata": {
  "kernelspec": {
   "display_name": "Python 3 (ipykernel)",
   "language": "python",
   "name": "python3"
  },
  "language_info": {
   "codemirror_mode": {
    "name": "ipython",
    "version": 3
   },
   "file_extension": ".py",
   "mimetype": "text/x-python",
   "name": "python",
   "nbconvert_exporter": "python",
   "pygments_lexer": "ipython3",
   "version": "3.9.7"
  }
 },
 "nbformat": 4,
 "nbformat_minor": 5
}
