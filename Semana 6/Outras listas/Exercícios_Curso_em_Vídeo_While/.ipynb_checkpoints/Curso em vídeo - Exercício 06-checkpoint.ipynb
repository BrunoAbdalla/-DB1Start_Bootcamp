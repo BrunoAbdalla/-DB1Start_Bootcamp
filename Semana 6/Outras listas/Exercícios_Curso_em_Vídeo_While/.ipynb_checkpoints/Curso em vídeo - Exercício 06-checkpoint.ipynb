{
 "cells": [
  {
   "cell_type": "code",
   "execution_count": 4,
   "id": "4a4e5aea",
   "metadata": {},
   "outputs": [
    {
     "name": "stdout",
     "output_type": "stream",
     "text": [
      "Favor informar o primeiro termo da PA: 2\n",
      "Favor informar a razão da PA: 2\n",
      "2-> 4-> 6-> 8-> 10-> 12-> 14-> 16-> 18-> 20-> Acabou\n"
     ]
    }
   ],
   "source": [
    "#5) Faça um programa que peça o primeiro termo e a razão de uma PA e devolva os 10 primeiros termos dessa PA\n",
    "\n",
    "#Pedir o primeiro termo e a razação da PA\n",
    "a_1 = int(input(\"Favor informar o primeiro termo da PA: \"))\n",
    "r = int(input(\"Favor informar a razão da PA: \"))\n",
    "a_n = 0\n",
    "cont = 0\n",
    "opc = 1\n",
    "\n",
    "while cont < 10:\n",
    "    a_n = a_1 + (r*cont)\n",
    "    cont = cont + 1\n",
    "    print(a_n, end=\"-> \")\n",
    "print(\"Quer ver mais quantos termos?\")\n",
    "\n",
    "while opc != 0:\n",
    "    opc = \n",
    "    "
   ]
  },
  {
   "cell_type": "code",
   "execution_count": null,
   "id": "2d2a56b6",
   "metadata": {},
   "outputs": [],
   "source": []
  }
 ],
 "metadata": {
  "kernelspec": {
   "display_name": "Python 3 (ipykernel)",
   "language": "python",
   "name": "python3"
  },
  "language_info": {
   "codemirror_mode": {
    "name": "ipython",
    "version": 3
   },
   "file_extension": ".py",
   "mimetype": "text/x-python",
   "name": "python",
   "nbconvert_exporter": "python",
   "pygments_lexer": "ipython3",
   "version": "3.9.7"
  }
 },
 "nbformat": 4,
 "nbformat_minor": 5
}
