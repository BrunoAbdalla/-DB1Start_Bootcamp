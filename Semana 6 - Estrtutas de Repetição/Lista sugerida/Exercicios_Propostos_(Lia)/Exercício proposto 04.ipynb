{
 "cells": [
  {
   "cell_type": "code",
   "execution_count": null,
   "id": "ee7a03f8",
   "metadata": {},
   "outputs": [],
   "source": [
    "#4) Escrever um algoritmo que leia uma quantidade desconhecida de números e conte quantos deles estão nos seguintes intervalos:\n",
    "#   [0-25], [26-50], [51-75] e [76-100]. A entrada de dados deve terminar quando for lido um número negativo."
   ]
  },
  {
   "cell_type": "code",
   "execution_count": 3,
   "id": "2e237c8e",
   "metadata": {},
   "outputs": [
    {
     "name": "stdout",
     "output_type": "stream",
     "text": [
      "Entre com o número desejado (números negativos encerram a aplicação): 1\n",
      "Entre com o número desejado (números negativos encerram a aplicação): 26\n",
      "Entre com o número desejado (números negativos encerram a aplicação): 51\n",
      "Entre com o número desejado (números negativos encerram a aplicação): 76\n",
      "Entre com o número desejado (números negativos encerram a aplicação): 150\n",
      "Entre com o número desejado (números negativos encerram a aplicação): -2\n",
      "\n",
      "Dentre os números encontrados, tivemos:\n",
      "- 1 valores contidos no intevalo [0-25]\n",
      "- 1 valores contidos no intevalo [26-50]\n",
      "- 1 valores contidos no intevalo [51 - 75]\n",
      "- 1 valores contidos no intevalo [76 - 100]\n",
      "- 2 valores que se encontram fora dos intervalos estabelecidos\n"
     ]
    }
   ],
   "source": [
    "#Variáveis de controle\n",
    "cont1 = cont2 = cont3 = cont4 = cont5 = numero = 0\n",
    "\n",
    "while numero >= 0:\n",
    "#Solicitar os números para o usuário\n",
    "    numero = int(input(\"Entre com o número desejado (números negativos encerram a aplicação): \"))\n",
    "\n",
    "# Verificar o intervalo\n",
    "    if numero >= 0 and numero <= 25:\n",
    "        cont1 = cont1 + 1\n",
    "    elif numero > 25 and numero <= 50:\n",
    "        cont2 = cont2 + 1\n",
    "    elif numero > 50 and numero <= 75:\n",
    "        cont3 = cont3 + 1\n",
    "    elif numero > 75 and numero <= 100:\n",
    "        cont4 = cont4 + 1\n",
    "    else:\n",
    "        cont5 = cont5 + 1\n",
    "\n",
    "#Retorno ao usuário:\n",
    "print(\"\\nDentre os números informados, tivemos:\")\n",
    "if cont1 > 0:\n",
    "    print(f\"- {cont1} valores contidos no intevalo [0-25]\")\n",
    "else:\n",
    "    pass\n",
    "if cont2 > 0:\n",
    "    print(f\"- {cont2} valores contidos no intevalo [26-50]\")\n",
    "else:\n",
    "    pass\n",
    "if cont3 > 0:\n",
    "    print(f\"- {cont3} valores contidos no intevalo [51 - 75]\")\n",
    "else:\n",
    "    pass\n",
    "if cont4 > 0:\n",
    "    print(f\"- {cont4} valores contidos no intevalo [76 - 100]\")\n",
    "else:\n",
    "    pass\n",
    "if cont5 > 0:\n",
    "    print(f\"- {cont5} valores que se encontram fora dos intervalos estabelecidos\")\n",
    "else:\n",
    "    pass"
   ]
  },
  {
   "cell_type": "code",
   "execution_count": null,
   "id": "ede259fc",
   "metadata": {},
   "outputs": [],
   "source": []
  }
 ],
 "metadata": {
  "kernelspec": {
   "display_name": "Python 3 (ipykernel)",
   "language": "python",
   "name": "python3"
  },
  "language_info": {
   "codemirror_mode": {
    "name": "ipython",
    "version": 3
   },
   "file_extension": ".py",
   "mimetype": "text/x-python",
   "name": "python",
   "nbconvert_exporter": "python",
   "pygments_lexer": "ipython3",
   "version": "3.9.7"
  }
 },
 "nbformat": 4,
 "nbformat_minor": 5
}
