{
 "cells": [
  {
   "cell_type": "code",
   "execution_count": 1,
   "id": "4f351eca",
   "metadata": {},
   "outputs": [
    {
     "name": "stdout",
     "output_type": "stream",
     "text": [
      "20667\n"
     ]
    }
   ],
   "source": [
    "#1) ) Desenvolver um algoritmo que efetue a soma de todos os números ímpares que são múltiplos de três e que se encontram no \n",
    "#     conjunto dos números de 1 até 500.\n",
    "\n",
    "#inicialização das variáveis de controle\n",
    "soma = 0\n",
    "\n",
    "#Definindo o intervalo\n",
    "for n in range (1,501):\n",
    "\n",
    "#Confirmação se o número é ímpar\n",
    "    if n % 2 != 0:\n",
    "        if n % 3 == 0:\n",
    "            soma = soma + n\n",
    "        else:\n",
    "            pass\n",
    "    else:\n",
    "        pass\n",
    "\n",
    "print(soma)\n",
    "        "
   ]
  },
  {
   "cell_type": "code",
   "execution_count": null,
   "id": "e8f5dd4d",
   "metadata": {},
   "outputs": [],
   "source": []
  }
 ],
 "metadata": {
  "kernelspec": {
   "display_name": "Python 3 (ipykernel)",
   "language": "python",
   "name": "python3"
  },
  "language_info": {
   "codemirror_mode": {
    "name": "ipython",
    "version": 3
   },
   "file_extension": ".py",
   "mimetype": "text/x-python",
   "name": "python",
   "nbconvert_exporter": "python",
   "pygments_lexer": "ipython3",
   "version": "3.9.7"
  }
 },
 "nbformat": 4,
 "nbformat_minor": 5
}
