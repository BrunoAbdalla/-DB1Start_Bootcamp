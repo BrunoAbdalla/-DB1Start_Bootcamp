{
 "cells": [
  {
   "cell_type": "code",
   "execution_count": 31,
   "id": "8207ea7f",
   "metadata": {},
   "outputs": [
    {
     "name": "stdout",
     "output_type": "stream",
     "text": [
      "Você quer ser par ou ímpar [P/I]? P\n",
      "Qual número entre 0 e 10 você quer usar? 2\n",
      "Eu coloquei 2 então você venceu!\n",
      "\n",
      "Você quer ser par ou ímpar [P/I]? P\n",
      "Qual número entre 0 e 10 você quer usar? 2\n",
      "Eu coloquei 9 então você perdeu! Antes disso você venceu 1 duelos consecutivos!\n",
      "\n"
     ]
    }
   ],
   "source": [
    "#3) Faça um programa que jogue par ou ímpar com o usuário e só encerre quando o jogador perder, e antes de encerrar mostre ao\n",
    "#   usuário o número de vitórias consecutivas.\n",
    "\n",
    "#Importanto a função random para gerar o número do computador\n",
    "import random\n",
    "\n",
    "#Iniciando as variáveis\n",
    "escolha =  \"\"\n",
    "numero = cont = npc = soma = 0\n",
    "\n",
    "while True:\n",
    "#Pedir ao usuário para informar se ele quer par ou ímpar\n",
    "    escolha = str(input(\"Você quer ser par ou ímpar [P/I]? \"))\n",
    "\n",
    "#Verificação se o valor é um valor válido\n",
    "    while escolha not in \"PpIi\":\n",
    "        escolha = str(input(\"Opção inváilda! Você quer ser par ou ímpar [P/I]? \"))\n",
    "\n",
    "#Pedir ao usuário o número\n",
    "    numero = int(input(\"Qual número entre 0 e 10 você quer usar? \"))\n",
    "\n",
    "#Número randomizado do npc\n",
    "    npc = random.randint(1,11)\n",
    "\n",
    "#Somar os números\n",
    "    soma = npc + numero\n",
    "\n",
    "#Verificar se é par ou ímpar\n",
    "    if soma % 2 == 0:\n",
    "        if escolha in \"Pp\":\n",
    "            print(f\"Eu coloquei {npc} então você venceu!\\n\")\n",
    "            cont = cont + 1\n",
    "            soma = numero = npc = 0\n",
    "\n",
    "        else:\n",
    "            print(f\"Eu coloquei {npc} então você perdeu! Antes disso você venceu {cont} duelos consecutivos!\\n\")\n",
    "            break\n",
    "    else:\n",
    "        if escolha in \"Ii\":\n",
    "            print(f\"Eu coloquei {npc} então você venceu!\\n\")\n",
    "            cont = cont + 1\n",
    "            soma = numero = npc = 0\n",
    "\n",
    "        else:\n",
    "            print(f\"Eu coloquei {npc} então você perdeu! Antes disso você venceu {cont} duelos consecutivos!\\n\")\n",
    "            break\n",
    "    "
   ]
  },
  {
   "cell_type": "code",
   "execution_count": null,
   "id": "639a0adb",
   "metadata": {},
   "outputs": [],
   "source": []
  }
 ],
 "metadata": {
  "kernelspec": {
   "display_name": "Python 3 (ipykernel)",
   "language": "python",
   "name": "python3"
  },
  "language_info": {
   "codemirror_mode": {
    "name": "ipython",
    "version": 3
   },
   "file_extension": ".py",
   "mimetype": "text/x-python",
   "name": "python",
   "nbconvert_exporter": "python",
   "pygments_lexer": "ipython3",
   "version": "3.9.7"
  }
 },
 "nbformat": 4,
 "nbformat_minor": 5
}
