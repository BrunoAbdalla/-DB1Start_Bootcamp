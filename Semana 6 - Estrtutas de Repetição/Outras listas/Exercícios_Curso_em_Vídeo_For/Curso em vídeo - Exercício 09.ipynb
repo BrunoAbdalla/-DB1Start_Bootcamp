{
 "cells": [
  {
   "cell_type": "code",
   "execution_count": 12,
   "id": "197b83c2",
   "metadata": {},
   "outputs": [
    {
     "name": "stdout",
     "output_type": "stream",
     "text": [
      "Por favor, digite o ano atual: 2022\n",
      "Quantos anos serão testados? 4\n",
      "Digite o 1º ano de nascimento a ser testado: 1999\n",
      "Digite o 2º ano de nascimento a ser testado: 2010\n",
      "Digite o 3º ano de nascimento a ser testado: 1996\n",
      "Digite o 4º ano de nascimento a ser testado: 2000\n",
      "Dentre o(s) 4 ano(s) informados tivemos 1 menor(es) de idade e 3 maior(es) de idade.\n"
     ]
    }
   ],
   "source": [
    "#9) Faça um programa que leia 7 anos de nascimento e diga quantas são maiores de idade e quantas são menores:\n",
    "\n",
    "#Variáveis de controle\n",
    "menor = 0\n",
    "maior = 0\n",
    "\n",
    "#Pedir o ano atual\n",
    "ano = int(input(\"Por favor, digite o ano atual: \"))\n",
    "\n",
    "#Pedir quantas datas serão testas:\n",
    "n = int(input(\"Quantos anos serão testados? \"))\n",
    "\n",
    "#Solicitar datas de nascimento\n",
    "for c in range(1,n+1):\n",
    "    data = int(input(f\"Digite o {c}º ano de nascimento a ser testado: \"))\n",
    "    \n",
    "    if ano - data < 18:\n",
    "        menor = menor + 1\n",
    "    else:\n",
    "        maior = maior + 1\n",
    "if maior == 0:\n",
    "    \n",
    "    print(f\"Dentre o(s) {n} ano(s) informados tivemos {menor} menor(es) de idade e nenhum maior de idade.\")\n",
    "\n",
    "elif menor == 0:\n",
    "    print(f\"Dentre o(s) {n} ano(s) informados tivemos {maior} maior(es) de idade e nenhum menor de idade.\")\n",
    "    \n",
    "else:\n",
    "    print(f\"Dentre o(s) {n} ano(s) informados tivemos {menor} menor(es) de idade e {maior} maior(es) de idade.\")\n",
    "    \n",
    "    "
   ]
  },
  {
   "cell_type": "code",
   "execution_count": null,
   "id": "1dd3ef5e",
   "metadata": {},
   "outputs": [],
   "source": []
  }
 ],
 "metadata": {
  "kernelspec": {
   "display_name": "Python 3 (ipykernel)",
   "language": "python",
   "name": "python3"
  },
  "language_info": {
   "codemirror_mode": {
    "name": "ipython",
    "version": 3
   },
   "file_extension": ".py",
   "mimetype": "text/x-python",
   "name": "python",
   "nbconvert_exporter": "python",
   "pygments_lexer": "ipython3",
   "version": "3.9.7"
  }
 },
 "nbformat": 4,
 "nbformat_minor": 5
}
