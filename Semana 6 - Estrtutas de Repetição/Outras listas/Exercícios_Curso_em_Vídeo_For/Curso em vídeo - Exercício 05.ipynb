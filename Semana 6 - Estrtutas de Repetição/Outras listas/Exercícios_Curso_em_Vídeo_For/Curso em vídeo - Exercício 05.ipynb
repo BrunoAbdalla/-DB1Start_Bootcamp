{
 "cells": [
  {
   "cell_type": "code",
   "execution_count": 3,
   "id": "fd608d18",
   "metadata": {},
   "outputs": [
    {
     "name": "stdout",
     "output_type": "stream",
     "text": [
      "Informe um número: 1\n",
      "Informe um número: 2\n",
      "Informe um número: 2\n",
      "Informe um número: 22\n",
      "Informe um número: 3\n",
      "Informe um número: 5\n",
      "Foram informados 3 números pares que somados resulta em 26.\n"
     ]
    }
   ],
   "source": [
    "#5) Fazer um programa que peça 6 valores ao usuário e informe a soma dos pares informados usando o laço for:\n",
    "\n",
    "#Definição da variável soma:\n",
    "soma = 0\n",
    "cont = 0\n",
    "\n",
    "#Solicitação dos números do usuário\n",
    "for c in range (1, 7):\n",
    "    num = int(input(\"Informe um número: \"))\n",
    "    \n",
    "# Verificação se o número é par e ajuste do contador:\n",
    "    if num %2 == 0:\n",
    "        cont = cont + 1\n",
    "        soma = soma + num\n",
    "    pass\n",
    "\n",
    "# Retorno ao usuário\n",
    "print(f\"Foram informados {cont} números pares que somados resulta em {soma}.\")\n",
    "        \n",
    "    "
   ]
  },
  {
   "cell_type": "code",
   "execution_count": null,
   "id": "39331d7f",
   "metadata": {},
   "outputs": [],
   "source": []
  }
 ],
 "metadata": {
  "kernelspec": {
   "display_name": "Python 3 (ipykernel)",
   "language": "python",
   "name": "python3"
  },
  "language_info": {
   "codemirror_mode": {
    "name": "ipython",
    "version": 3
   },
   "file_extension": ".py",
   "mimetype": "text/x-python",
   "name": "python",
   "nbconvert_exporter": "python",
   "pygments_lexer": "ipython3",
   "version": "3.9.7"
  }
 },
 "nbformat": 4,
 "nbformat_minor": 5
}
