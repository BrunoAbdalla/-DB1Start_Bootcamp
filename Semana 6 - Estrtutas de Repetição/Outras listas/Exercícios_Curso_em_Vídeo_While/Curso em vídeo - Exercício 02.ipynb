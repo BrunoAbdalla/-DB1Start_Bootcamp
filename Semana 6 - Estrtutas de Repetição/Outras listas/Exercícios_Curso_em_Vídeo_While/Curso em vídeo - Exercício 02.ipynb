{
 "cells": [
  {
   "cell_type": "code",
   "execution_count": null,
   "id": "a5bc4eed",
   "metadata": {},
   "outputs": [],
   "source": [
    "#2) Faça um jogo em que o computador pensa em um número de 0 a 10 e você tenta adivinhar, quando você acertar ele te mostra\n",
    "#   quantas tentativas foram precisas para você acertar"
   ]
  },
  {
   "cell_type": "code",
   "execution_count": 7,
   "id": "27331f74",
   "metadata": {},
   "outputs": [
    {
     "name": "stdout",
     "output_type": "stream",
     "text": [
      "10\n",
      "Tente adivinhar o número inteiro entre 0 e 10 em que eu pensei: 10\n",
      "Você é adivinho? Acertou de primeira, o número era 10!\n"
     ]
    }
   ],
   "source": [
    "import random\n",
    "\n",
    "cont = 0\n",
    "\n",
    "#Sorteio do número aleatório entre 0 e 10\n",
    "numrand = random.randint(0, 10)\n",
    "\n",
    "#Pedir o número do usuário até ele acertar\n",
    "\n",
    "numus = int(input(\"Tente adivinhar o número inteiro entre 0 e 10 em que eu pensei: \"))\n",
    "\n",
    "while numus != numrand:\n",
    "    numus = int(input(\"Erroooou! Tente outro: \"))\n",
    "    cont = cont + 1\n",
    "\n",
    "#Resposta ao usuário\n",
    "if cont == 0:\n",
    "    print(f\"Você é adivinho? Acertou de primeira, o número era {numrand}!\")\n",
    "\n",
    "else:\n",
    "    print(f\"Você certou! O número era {numrand}, e você precisou de {cont} tentativas para acertar!\")\n"
   ]
  },
  {
   "cell_type": "code",
   "execution_count": null,
   "id": "5bc0887c",
   "metadata": {},
   "outputs": [],
   "source": []
  }
 ],
 "metadata": {
  "kernelspec": {
   "display_name": "Python 3 (ipykernel)",
   "language": "python",
   "name": "python3"
  },
  "language_info": {
   "codemirror_mode": {
    "name": "ipython",
    "version": 3
   },
   "file_extension": ".py",
   "mimetype": "text/x-python",
   "name": "python",
   "nbconvert_exporter": "python",
   "pygments_lexer": "ipython3",
   "version": "3.9.7"
  }
 },
 "nbformat": 4,
 "nbformat_minor": 5
}
