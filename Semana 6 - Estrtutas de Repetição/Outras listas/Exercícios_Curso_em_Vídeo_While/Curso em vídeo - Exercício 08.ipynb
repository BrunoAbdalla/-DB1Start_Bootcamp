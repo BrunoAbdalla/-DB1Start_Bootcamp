{
 "cells": [
  {
   "cell_type": "code",
   "execution_count": 4,
   "id": "2c4954a4",
   "metadata": {},
   "outputs": [
    {
     "name": "stdout",
     "output_type": "stream",
     "text": [
      "Digite um número e ele será inserido ao banco de dados, no final retornaremos quantos números foram digitados e sua soma\n",
      "Para solicitar o resultado digite o número 999\n",
      "Por favor digite o 1º número: 2\n",
      "Por favor digite o 2º número: 2\n",
      "Por favor digite o 3º número: 2\n",
      "Por favor digite o 4º número: 2\n",
      "Por favor digite o 5º número: 2\n",
      "Por favor digite o 6º número: 2\n",
      "Por favor digite o 7º número: 2\n",
      "Por favor digite o 8º número: 2\n",
      "Por favor digite o 9º número: 999\n",
      "Foram digitados 8 números que somados resultam em 16.\n"
     ]
    }
   ],
   "source": [
    "#8) Faça um programa que aceita infinitos números do teclado e só para quando o usuário digita 999 e retorna quantos números\n",
    "#   foram digitados e qual a soma deles\n",
    "\n",
    "#Variáveis de controle\n",
    "soma = 0\n",
    "quantidade = 0\n",
    "numero = 0\n",
    "\n",
    "#Solicitação ao usuário\n",
    "print(\"Digite um número e ele será inserido ao banco de dados, no final retornaremos quantos números foram digitados e sua soma\")\n",
    "print(\"Para solicitar o resultado digite o número 999\")\n",
    "\n",
    "while numero != 999:\n",
    "    numero = int(input(f\"Por favor digite o {quantidade + 1}º número: \"))\n",
    "    quantidade = quantidade + 1\n",
    "    soma = soma + numero\n",
    "\n",
    "print(f\"Foram digitados {quantidade - 1} números que somados resultam em {soma - 999}.\")"
   ]
  },
  {
   "cell_type": "code",
   "execution_count": null,
   "id": "2be5d539",
   "metadata": {},
   "outputs": [],
   "source": []
  }
 ],
 "metadata": {
  "kernelspec": {
   "display_name": "Python 3 (ipykernel)",
   "language": "python",
   "name": "python3"
  },
  "language_info": {
   "codemirror_mode": {
    "name": "ipython",
    "version": 3
   },
   "file_extension": ".py",
   "mimetype": "text/x-python",
   "name": "python",
   "nbconvert_exporter": "python",
   "pygments_lexer": "ipython3",
   "version": "3.9.7"
  }
 },
 "nbformat": 4,
 "nbformat_minor": 5
}
