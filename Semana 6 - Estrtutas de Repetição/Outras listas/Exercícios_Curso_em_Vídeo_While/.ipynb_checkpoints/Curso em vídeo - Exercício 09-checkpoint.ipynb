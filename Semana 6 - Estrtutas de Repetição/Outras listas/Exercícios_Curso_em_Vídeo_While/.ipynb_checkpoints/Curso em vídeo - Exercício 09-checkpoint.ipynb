{
 "cells": [
  {
   "cell_type": "code",
   "execution_count": 7,
   "id": "7b5a2c45",
   "metadata": {},
   "outputs": [
    {
     "name": "stdout",
     "output_type": "stream",
     "text": [
      "Por favor, digite o 1º número: 20\n",
      "Deseja continuar? [S/N]s\n",
      "Por favor, digite o 2º número: 50\n",
      "Deseja continuar? [S/N]d\n",
      "Opção inválida! Deseja continuar? [S/N]d\n",
      "Opção inválida! Deseja continuar? [S/N]n\n",
      "Foram digitados: 2 \n",
      "O maior número digitado foi 50 e o menor foi 20 \n",
      "A média de todos os números foi 35.0 \n"
     ]
    }
   ],
   "source": [
    "#9) Faça um programa que leia quantos números o usuário quiser, sempre pergutando entre um e outro se ele quer continuar.\n",
    "#   Ao encerrar o programa, ele deve retornar a média dos valores digitados, além do maior e do menor valor digitado.\n",
    "\n",
    "#Variáveis de controle\n",
    "maior = 0\n",
    "menor = 0\n",
    "cont = 0\n",
    "soma = 0\n",
    "media = 0\n",
    "continuar = \"\"\n",
    "\n",
    "#Solicitar ao usuário os números enquanto o usuário quiser continuar\n",
    "while continuar in \"Ss\":\n",
    "    numero = int(input(f\"Por favor, digite o {cont +1}º número: \"))\n",
    "    \n",
    "#Conta quantos números foram digitados\n",
    "    cont = cont + 1\n",
    "    \n",
    "#Soma dos números para o cálculo da média\n",
    "    soma = soma + numero\n",
    "    \n",
    "#Verifica se é o maior número\n",
    "    if cont == 1:\n",
    "        maior = numero\n",
    "        menor = numero\n",
    "        \n",
    "    elif numero > maior:\n",
    "        maior = numero\n",
    "    elif numero < menor:\n",
    "        menor = numero\n",
    "    else:\n",
    "        pass\n",
    "        \n",
    "\n",
    "#Verifica com o usuário se ele quer continuar\n",
    "    continuar = str(input(\"Deseja continuar? [S/N]\"))\n",
    "    while continuar not in \"SsNn\":\n",
    "        continuar = str(input(\"Opção inválida! Deseja continuar? [S/N]\"))\n",
    "        \n",
    "#Retorno ao usuário\n",
    "media = soma / cont\n",
    "print(f\"Foram digitados: {cont} \\nO maior número digitado foi {maior} e o menor foi {menor} \\nA média de todos os números foi {media} \")"
   ]
  },
  {
   "cell_type": "code",
   "execution_count": null,
   "id": "5b948e90",
   "metadata": {},
   "outputs": [],
   "source": []
  }
 ],
 "metadata": {
  "kernelspec": {
   "display_name": "Python 3 (ipykernel)",
   "language": "python",
   "name": "python3"
  },
  "language_info": {
   "codemirror_mode": {
    "name": "ipython",
    "version": 3
   },
   "file_extension": ".py",
   "mimetype": "text/x-python",
   "name": "python",
   "nbconvert_exporter": "python",
   "pygments_lexer": "ipython3",
   "version": "3.9.7"
  }
 },
 "nbformat": 4,
 "nbformat_minor": 5
}
