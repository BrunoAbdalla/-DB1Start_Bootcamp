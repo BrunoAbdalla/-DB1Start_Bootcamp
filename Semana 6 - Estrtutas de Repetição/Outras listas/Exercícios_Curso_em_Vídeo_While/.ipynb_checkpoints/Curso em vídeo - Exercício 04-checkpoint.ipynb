{
 "cells": [
  {
   "cell_type": "code",
   "execution_count": 4,
   "id": "cc05e94c",
   "metadata": {},
   "outputs": [
    {
     "name": "stdout",
     "output_type": "stream",
     "text": [
      "Por favor informe o número que você deseja que seja calculado o fatorial: 5\n",
      "5! = 120\n"
     ]
    }
   ],
   "source": [
    "#4) Faça um programa que deixe você escolher um número qualquer e ele te retorne o seu fatorial:\n",
    "\n",
    "#Definição das variáveis de controle:\n",
    "cont = 0\n",
    "fat = 1\n",
    "\n",
    "#Pedir o número para o usuário:\n",
    "numi = int(input(\"Por favor informe o número que você deseja que seja calculado o fatorial: \"))\n",
    "numf = numi\n",
    "\n",
    "#Cálculo do fatorial\n",
    "\n",
    "while numf - 1 > 0:\n",
    "    fat = fat * numf\n",
    "    numf = numf - 1\n",
    "    \n",
    "#Retorno ao usuário\n",
    "print(f\"{numi}! = {fat}\")"
   ]
  },
  {
   "cell_type": "code",
   "execution_count": null,
   "id": "ba07da10",
   "metadata": {},
   "outputs": [],
   "source": []
  }
 ],
 "metadata": {
  "kernelspec": {
   "display_name": "Python 3 (ipykernel)",
   "language": "python",
   "name": "python3"
  },
  "language_info": {
   "codemirror_mode": {
    "name": "ipython",
    "version": 3
   },
   "file_extension": ".py",
   "mimetype": "text/x-python",
   "name": "python",
   "nbconvert_exporter": "python",
   "pygments_lexer": "ipython3",
   "version": "3.9.7"
  }
 },
 "nbformat": 4,
 "nbformat_minor": 5
}
