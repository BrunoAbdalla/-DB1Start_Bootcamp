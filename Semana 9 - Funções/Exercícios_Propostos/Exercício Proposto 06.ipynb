{
 "cells": [
  {
   "cell_type": "code",
   "execution_count": 21,
   "id": "296d12a6",
   "metadata": {},
   "outputs": [],
   "source": [
    "#6) Escreva um programa que execute uma função que conte o número de letras maiúsculas e minúsculas de um texto e \n",
    "#   que ao final, chame outra função para imprimir o resultado."
   ]
  },
  {
   "cell_type": "code",
   "execution_count": 22,
   "id": "c3a0a2f4",
   "metadata": {},
   "outputs": [],
   "source": [
    "#Função que imprime o resultado\n",
    "def impressão(ma, mi):\n",
    "    return f'A string informada possui {ma} letras maiúsculas e {mi} letras minúsculas'"
   ]
  },
  {
   "cell_type": "code",
   "execution_count": 23,
   "id": "c80841bb",
   "metadata": {},
   "outputs": [],
   "source": [
    "#Função que conta caractéres maiúsculos e minúsculos em uma string\n",
    "def contador(texto):\n",
    "    import re\n",
    "    maiusculas = re.findall(r'[A-Z]', texto)\n",
    "    minusculas = re.findall(r'[a-z]', texto)\n",
    "    ma = len(maiusculas)\n",
    "    mi = len(minusculas)\n",
    "    print(impressão(ma, mi))"
   ]
  },
  {
   "cell_type": "code",
   "execution_count": 24,
   "id": "eafafdb7",
   "metadata": {},
   "outputs": [
    {
     "name": "stdout",
     "output_type": "stream",
     "text": [
      "A string informada possui 10 letras maiúsculas e 4 letras minúsculas\n"
     ]
    }
   ],
   "source": [
    "#Inserindo o texto para teste e retornando o resultado ao usuário\n",
    "String = 'Eu sei PROGRAMAR'\n",
    "contador(String)"
   ]
  }
 ],
 "metadata": {
  "kernelspec": {
   "display_name": "Python 3 (ipykernel)",
   "language": "python",
   "name": "python3"
  },
  "language_info": {
   "codemirror_mode": {
    "name": "ipython",
    "version": 3
   },
   "file_extension": ".py",
   "mimetype": "text/x-python",
   "name": "python",
   "nbconvert_exporter": "python",
   "pygments_lexer": "ipython3",
   "version": "3.9.7"
  }
 },
 "nbformat": 4,
 "nbformat_minor": 5
}
