{
 "cells": [
  {
   "cell_type": "code",
   "execution_count": 4,
   "id": "a35d3e9a",
   "metadata": {},
   "outputs": [],
   "source": [
    "#7) Escreva um programa Python que execute uma string que contenha um código Python."
   ]
  },
  {
   "cell_type": "code",
   "execution_count": null,
   "id": "7e8fc7c4",
   "metadata": {},
   "outputs": [],
   "source": [
    "#Definindo a função capaz de ler o código em Phyton\n",
    "def leitorpy(texto):\n",
    "    exec(texto)"
   ]
  },
  {
   "cell_type": "code",
   "execution_count": 13,
   "id": "a67c0e28",
   "metadata": {},
   "outputs": [
    {
     "name": "stdout",
     "output_type": "stream",
     "text": [
      "------------------\n",
      " Eu sei programar\n",
      "------------------\n"
     ]
    }
   ],
   "source": [
    "# Definindo o texto com o código Python\n",
    "string = \"\"\"print(\"-\" * 18)\n",
    "print(\" Eu sei programar\")\n",
    "print(\"-\" * 18)\n",
    "\"\"\"\n",
    "\n",
    "exec(string)"
   ]
  },
  {
   "cell_type": "code",
   "execution_count": null,
   "id": "2ce06704",
   "metadata": {},
   "outputs": [],
   "source": []
  }
 ],
 "metadata": {
  "kernelspec": {
   "display_name": "Python 3 (ipykernel)",
   "language": "python",
   "name": "python3"
  },
  "language_info": {
   "codemirror_mode": {
    "name": "ipython",
    "version": 3
   },
   "file_extension": ".py",
   "mimetype": "text/x-python",
   "name": "python",
   "nbconvert_exporter": "python",
   "pygments_lexer": "ipython3",
   "version": "3.9.7"
  }
 },
 "nbformat": 4,
 "nbformat_minor": 5
}
