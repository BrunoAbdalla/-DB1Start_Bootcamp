{
 "cells": [
  {
   "cell_type": "code",
   "execution_count": 13,
   "id": "62477b26",
   "metadata": {},
   "outputs": [],
   "source": [
    "#8) Escreva um programa que execute uma função que receba um número informado no console como parâmetro e verifique se\n",
    "#   o número informado é primo ou não."
   ]
  },
  {
   "cell_type": "code",
   "execution_count": 14,
   "id": "ff364f4e",
   "metadata": {},
   "outputs": [],
   "source": [
    "#Criando funçaõ que verifica se um número é primo ou não:\n",
    "def primo(num):\n",
    "    cont = 0\n",
    "    for n in range(num, 0, -1):\n",
    "        if num % n == 0:\n",
    "            cont += 1\n",
    "    if cont != 2:\n",
    "        return f'O número {num} não é um número primo'\n",
    "    else:\n",
    "        return f'O númro {num} é um número primo'"
   ]
  },
  {
   "cell_type": "code",
   "execution_count": 15,
   "id": "054b162b",
   "metadata": {},
   "outputs": [
    {
     "name": "stdout",
     "output_type": "stream",
     "text": [
      "Digite um número para testar se é primo ou não: 1\n",
      "O número 1 não é um número primo\n"
     ]
    }
   ],
   "source": [
    "#Pedir o número que será testado ao usário:\n",
    "testar = int(input('Digite um número para testar se é primo ou não: '))\n",
    "print(primo(testar))"
   ]
  }
 ],
 "metadata": {
  "kernelspec": {
   "display_name": "Python 3 (ipykernel)",
   "language": "python",
   "name": "python3"
  },
  "language_info": {
   "codemirror_mode": {
    "name": "ipython",
    "version": 3
   },
   "file_extension": ".py",
   "mimetype": "text/x-python",
   "name": "python",
   "nbconvert_exporter": "python",
   "pygments_lexer": "ipython3",
   "version": "3.9.7"
  }
 },
 "nbformat": 4,
 "nbformat_minor": 5
}
