{
 "cells": [
  {
   "cell_type": "code",
   "execution_count": 10,
   "id": "56e688ee",
   "metadata": {},
   "outputs": [],
   "source": [
    "#2) Escreva um programa que execute uma função que some todos os itens de uma lista passada por parâmetro."
   ]
  },
  {
   "cell_type": "code",
   "execution_count": 11,
   "id": "2bf3be58",
   "metadata": {},
   "outputs": [],
   "source": [
    "#Definindo a função\n",
    "def soma(valores):\n",
    "    resultado = sum(valores)\n",
    "    return resultado"
   ]
  },
  {
   "cell_type": "code",
   "execution_count": 12,
   "id": "2c1478a3",
   "metadata": {},
   "outputs": [
    {
     "name": "stdout",
     "output_type": "stream",
     "text": [
      "A soma dos valores contidos na lista é: 42\n"
     ]
    }
   ],
   "source": [
    "#Inserindo a lista e retornando o resultado\n",
    "lista = [3, 8, 6, 9, 11, 5]\n",
    "print(f'A soma dos valores contidos na lista é: {soma(lista)}')"
   ]
  }
 ],
 "metadata": {
  "kernelspec": {
   "display_name": "Python 3 (ipykernel)",
   "language": "python",
   "name": "python3"
  },
  "language_info": {
   "codemirror_mode": {
    "name": "ipython",
    "version": 3
   },
   "file_extension": ".py",
   "mimetype": "text/x-python",
   "name": "python",
   "nbconvert_exporter": "python",
   "pygments_lexer": "ipython3",
   "version": "3.9.7"
  }
 },
 "nbformat": 4,
 "nbformat_minor": 5
}
