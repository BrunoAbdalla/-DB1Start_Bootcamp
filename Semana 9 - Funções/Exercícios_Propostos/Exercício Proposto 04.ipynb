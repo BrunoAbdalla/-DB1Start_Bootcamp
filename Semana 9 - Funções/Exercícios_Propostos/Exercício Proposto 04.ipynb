{
 "cells": [
  {
   "cell_type": "code",
   "execution_count": 1,
   "id": "755f128f",
   "metadata": {},
   "outputs": [],
   "source": [
    "#4) Escreva um programa que execute uma função que retorne o inverso de uma string passada por parâmetro."
   ]
  },
  {
   "cell_type": "code",
   "execution_count": 2,
   "id": "cecae026",
   "metadata": {},
   "outputs": [],
   "source": [
    "# Definindo a função que inverterá a string\n",
    "def invert(texto):\n",
    "    resultado = texto[::-1]\n",
    "    return resultado"
   ]
  },
  {
   "cell_type": "code",
   "execution_count": 3,
   "id": "068ef0d0",
   "metadata": {},
   "outputs": [
    {
     "name": "stdout",
     "output_type": "stream",
     "text": [
      "ramargorp ies áj uE\n"
     ]
    }
   ],
   "source": [
    "# Adiconando a string e retornando o resultado ao usuário\n",
    "string = 'Eu já sei programar'\n",
    "print(invert(string))"
   ]
  }
 ],
 "metadata": {
  "kernelspec": {
   "display_name": "Python 3 (ipykernel)",
   "language": "python",
   "name": "python3"
  },
  "language_info": {
   "codemirror_mode": {
    "name": "ipython",
    "version": 3
   },
   "file_extension": ".py",
   "mimetype": "text/x-python",
   "name": "python",
   "nbconvert_exporter": "python",
   "pygments_lexer": "ipython3",
   "version": "3.9.7"
  }
 },
 "nbformat": 4,
 "nbformat_minor": 5
}
