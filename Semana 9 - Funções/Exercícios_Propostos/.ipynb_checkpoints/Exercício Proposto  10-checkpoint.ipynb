{
 "cells": [
  {
   "cell_type": "code",
   "execution_count": 58,
   "id": "bb4ab06e",
   "metadata": {},
   "outputs": [],
   "source": [
    "#10) Escreva uma função que imprima as primeiras n linhas do triângulo de pascal. Triângulo de pascal é uma figura aritmética\n",
    "#    e geométrica imaginada por Blaise Pascal. Cada número é a soma dos dois números diretamente acima."
   ]
  },
  {
   "cell_type": "code",
   "execution_count": 59,
   "id": "09df23dd",
   "metadata": {},
   "outputs": [],
   "source": [
    "# Definições importantes sobre triângulo de Pascal:\n",
    "\n",
    "# Linha 1      1  \n",
    "# Linha 2     1 1            \n",
    "# Linha 3    1 2 1        \n",
    "# Linha 4   1 3 3 1  \n",
    "# Linha 5  1 4 6 4 1  \n",
    "\n",
    "# Um triangulo de Pascal é preenchido por números binomiais organizados em linhas e colunas.\n",
    "# Fórmula de números binomiais: Cnp = n! / p! * (n-p)!\n",
    "\n",
    "# Outra forma de represntar o triângulo de pascal é:\n",
    "\n",
    "# Linha 1             (0|0) --------------------> (0! / 0! * (0-0)!) = 1\n",
    "# Linha 2          (1|0) (1|1)\n",
    "# Linha 3       (2|0) (2|1) (2|2)\n",
    "# Linha 4    (3|0) (3|1) (3|2) (3|3)\n",
    "# Linha 5 (4|0) (4|1) (4|2) (4|3) (4|4)"
   ]
  },
  {
   "cell_type": "code",
   "execution_count": 60,
   "id": "a32650fb",
   "metadata": {},
   "outputs": [],
   "source": [
    "#Definindo a função para calcular os valores dos binômios:\n",
    "\n",
    "def triangulo_pascal(n):\n",
    "    \"\"\" Função que irá gerar e imprimir os termos do triângulo de Pascal\n",
    "    :param n: Número de linhas que teremos no triângulo\"\"\"\n",
    "    \n",
    "    from math import factorial\n",
    "    \n",
    "    for linha in range(0, n):\n",
    "        for coluna in range(0, linha+1): #Aqui utiliza (linha + 1) porque a variável linha iniciará em 0\n",
    "            valor = factorial(linha) / (factorial(coluna) * factorial(linha-coluna)) #Formula dos números binomiais\n",
    "            print(int(valor), end = ' ')\n",
    "        print()"
   ]
  },
  {
   "cell_type": "code",
   "execution_count": 61,
   "id": "b3cfd58a",
   "metadata": {},
   "outputs": [
    {
     "name": "stdout",
     "output_type": "stream",
     "text": [
      "Digite o número de linhas você deseja no triângulo de Pascal: 5\n",
      "\n",
      "1 \n",
      "1 1 \n",
      "1 2 1 \n",
      "1 3 3 1 \n",
      "1 4 6 4 1 \n"
     ]
    }
   ],
   "source": [
    "#Definindo o valor de entrada e chamando a função\n",
    "num = int(input('Digite o número de linhas você deseja no triângulo de Pascal: '))\n",
    "print()\n",
    "triangulo_pascal(num)"
   ]
  }
 ],
 "metadata": {
  "kernelspec": {
   "display_name": "Python 3 (ipykernel)",
   "language": "python",
   "name": "python3"
  },
  "language_info": {
   "codemirror_mode": {
    "name": "ipython",
    "version": 3
   },
   "file_extension": ".py",
   "mimetype": "text/x-python",
   "name": "python",
   "nbconvert_exporter": "python",
   "pygments_lexer": "ipython3",
   "version": "3.9.7"
  }
 },
 "nbformat": 4,
 "nbformat_minor": 5
}
