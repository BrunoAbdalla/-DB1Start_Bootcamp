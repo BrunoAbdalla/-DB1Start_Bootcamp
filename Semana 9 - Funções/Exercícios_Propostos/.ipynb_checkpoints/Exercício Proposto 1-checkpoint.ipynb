{
 "cells": [
  {
   "cell_type": "code",
   "execution_count": 7,
   "id": "b0d4c98d",
   "metadata": {},
   "outputs": [],
   "source": [
    "#1) Escreva um programa que execute uma função que encontre o maior número de uma lista passada por parâmetro."
   ]
  },
  {
   "cell_type": "code",
   "execution_count": 8,
   "id": "ce7aee9e",
   "metadata": {},
   "outputs": [],
   "source": [
    "#Definição da função\n",
    "def maior(valores):\n",
    "    resultado = max(valores)\n",
    "    return resultado"
   ]
  },
  {
   "cell_type": "code",
   "execution_count": 9,
   "id": "da2a3fed",
   "metadata": {},
   "outputs": [
    {
     "name": "stdout",
     "output_type": "stream",
     "text": [
      "O maior valor encontrado na lista foi: 34\n"
     ]
    }
   ],
   "source": [
    "#Definindo uma lista e imprimindo o resultado\n",
    "lista = [2, 5, 7, 7, 8, 9, 15, 3, 34]\n",
    "print(f'O maior valor encontrado na lista foi: {maior(lista)}')"
   ]
  }
 ],
 "metadata": {
  "kernelspec": {
   "display_name": "Python 3 (ipykernel)",
   "language": "python",
   "name": "python3"
  },
  "language_info": {
   "codemirror_mode": {
    "name": "ipython",
    "version": 3
   },
   "file_extension": ".py",
   "mimetype": "text/x-python",
   "name": "python",
   "nbconvert_exporter": "python",
   "pygments_lexer": "ipython3",
   "version": "3.9.7"
  }
 },
 "nbformat": 4,
 "nbformat_minor": 5
}
