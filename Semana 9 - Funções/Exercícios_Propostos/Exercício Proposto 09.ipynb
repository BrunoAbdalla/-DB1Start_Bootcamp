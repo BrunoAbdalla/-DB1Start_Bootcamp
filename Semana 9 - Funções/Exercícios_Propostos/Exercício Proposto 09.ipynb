{
 "cells": [
  {
   "cell_type": "code",
   "execution_count": 13,
   "id": "c3402855",
   "metadata": {},
   "outputs": [],
   "source": [
    "#9) Escreva um programa que execute uma função que valide se o número informado é um número perfeito ou não.\n",
    "\n",
    "# NUMERO PERFEITO: Um número perfeito é um número inteiro, positivo que seja igual à soma de todos os seus divisores positivos\n",
    "# excluindo o próprio número. Equivalente a isto, um número perfeito é a metade da soma de todos os seus divisores positivos, \n",
    "# incluindo o próprio número."
   ]
  },
  {
   "cell_type": "code",
   "execution_count": 14,
   "id": "7da84462",
   "metadata": {},
   "outputs": [],
   "source": [
    "# Criando a função que irá verificar se um número é perfeito ou não\n",
    "def perfeito(num):\n",
    "    somadiv = 0\n",
    "    for n in range (num, 0, -1):\n",
    "        if num % n == 0:\n",
    "            somadiv += n\n",
    "    if num > 0 and somadiv == 2 * num:\n",
    "        return f'O número {num} é um número perfeito'\n",
    "    else:\n",
    "        return f'O número {num} não é um número perfeito'"
   ]
  },
  {
   "cell_type": "code",
   "execution_count": 15,
   "id": "998b7c60",
   "metadata": {},
   "outputs": [
    {
     "name": "stdout",
     "output_type": "stream",
     "text": [
      "Digite um número para ver se é um número perfeito: 8128\n",
      "O número 8128 é um número perfeito\n"
     ]
    }
   ],
   "source": [
    "# Perdir o número a ser testado pelo usuário e retornar o resultado\n",
    "teste = int(input('Digite um número para ver se é um número perfeito: '))\n",
    "print(perfeito(teste))"
   ]
  }
 ],
 "metadata": {
  "kernelspec": {
   "display_name": "Python 3 (ipykernel)",
   "language": "python",
   "name": "python3"
  },
  "language_info": {
   "codemirror_mode": {
    "name": "ipython",
    "version": 3
   },
   "file_extension": ".py",
   "mimetype": "text/x-python",
   "name": "python",
   "nbconvert_exporter": "python",
   "pygments_lexer": "ipython3",
   "version": "3.9.7"
  }
 },
 "nbformat": 4,
 "nbformat_minor": 5
}
