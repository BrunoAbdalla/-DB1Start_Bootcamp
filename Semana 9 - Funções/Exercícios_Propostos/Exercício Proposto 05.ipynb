{
 "cells": [
  {
   "cell_type": "code",
   "execution_count": 28,
   "id": "2525d177",
   "metadata": {},
   "outputs": [],
   "source": [
    "#5) Escreva um programa que execute uma função que calcule o fatorial de um número passado por parâmetro."
   ]
  },
  {
   "cell_type": "code",
   "execution_count": 29,
   "id": "90a3b153",
   "metadata": {},
   "outputs": [],
   "source": [
    "#Criando a função que calculará o fatorial\n",
    "def fatorial(num):\n",
    "    fatorial = 1\n",
    "    for n in range(num, 0, -1):\n",
    "        fatorial = fatorial * n\n",
    "    return fatorial"
   ]
  },
  {
   "cell_type": "code",
   "execution_count": 30,
   "id": "3a2f5ca9",
   "metadata": {},
   "outputs": [
    {
     "name": "stdout",
     "output_type": "stream",
     "text": [
      "Calculando 5! temos 120\n"
     ]
    }
   ],
   "source": [
    "#Pegando o valor que se deseja calcular o fatorial e retornando ao usuário\n",
    "teste = 5\n",
    "print(f'Calculando {teste}! temos {fatorial(teste)}')"
   ]
  }
 ],
 "metadata": {
  "kernelspec": {
   "display_name": "Python 3 (ipykernel)",
   "language": "python",
   "name": "python3"
  },
  "language_info": {
   "codemirror_mode": {
    "name": "ipython",
    "version": 3
   },
   "file_extension": ".py",
   "mimetype": "text/x-python",
   "name": "python",
   "nbconvert_exporter": "python",
   "pygments_lexer": "ipython3",
   "version": "3.9.7"
  }
 },
 "nbformat": 4,
 "nbformat_minor": 5
}
