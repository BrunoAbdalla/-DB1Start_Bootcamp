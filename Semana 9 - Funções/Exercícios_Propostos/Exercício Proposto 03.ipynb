{
 "cells": [
  {
   "cell_type": "code",
   "execution_count": 1,
   "id": "d1d41285",
   "metadata": {},
   "outputs": [],
   "source": [
    "#3) Escreva um programa que execute uma função que multiplique todos os números de uma lista passada por parâmetro."
   ]
  },
  {
   "cell_type": "code",
   "execution_count": 2,
   "id": "f7fdf5ad",
   "metadata": {},
   "outputs": [],
   "source": [
    "#Definindo a função para o cálculo\n",
    "def mult(valores):\n",
    "    import numpy\n",
    "    resultado = numpy.prod(valores)\n",
    "    return resultado"
   ]
  },
  {
   "cell_type": "code",
   "execution_count": 3,
   "id": "c618d750",
   "metadata": {},
   "outputs": [
    {
     "name": "stdout",
     "output_type": "stream",
     "text": [
      "O produto dos números contidos na lista é: 120\n"
     ]
    }
   ],
   "source": [
    "#Inserindo lita de teste e retornando o resultado ao usuário\n",
    "lista = [2, 2, 5, 3, 2]\n",
    "print(f'O produto dos números contidos na lista é: {mult(lista)}')"
   ]
  }
 ],
 "metadata": {
  "kernelspec": {
   "display_name": "Python 3 (ipykernel)",
   "language": "python",
   "name": "python3"
  },
  "language_info": {
   "codemirror_mode": {
    "name": "ipython",
    "version": 3
   },
   "file_extension": ".py",
   "mimetype": "text/x-python",
   "name": "python",
   "nbconvert_exporter": "python",
   "pygments_lexer": "ipython3",
   "version": "3.9.7"
  }
 },
 "nbformat": 4,
 "nbformat_minor": 5
}
