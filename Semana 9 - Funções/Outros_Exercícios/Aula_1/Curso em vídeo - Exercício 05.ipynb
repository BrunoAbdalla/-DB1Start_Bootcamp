{
 "cells": [
  {
   "cell_type": "code",
   "execution_count": 37,
   "id": "0dad0caa",
   "metadata": {},
   "outputs": [],
   "source": [
    "#5) Faça um programa que tenha uma lista chamada números e duas funções, uma chamada sorteia, que sorteia cinco números e \n",
    "#   coloca dentro dessa lista, e a segunda função faz a soma dos números pares dentro dessa lista."
   ]
  },
  {
   "cell_type": "code",
   "execution_count": 38,
   "id": "0866f110",
   "metadata": {},
   "outputs": [],
   "source": [
    "#Importando a função random para ser utilizada na função de sorteio\n",
    "import random\n",
    "\n",
    "#Abrindo a lista vazia\n",
    "lista = []"
   ]
  },
  {
   "cell_type": "code",
   "execution_count": 39,
   "id": "66916372",
   "metadata": {},
   "outputs": [],
   "source": [
    "#Defininindo a função do sorteio\n",
    "def sorteio():\n",
    "    for n in range (0,5):\n",
    "        lista.append(random.randint(0, 100))\n",
    "        n += 1\n",
    "    print(f'Os números sorteados foram: {lista}')"
   ]
  },
  {
   "cell_type": "code",
   "execution_count": 40,
   "id": "57af9893",
   "metadata": {},
   "outputs": [],
   "source": [
    "#Definindo a função que faz o cálculo da soma dos números pares sorteados\n",
    "def somapar(list):\n",
    "    soma = 0\n",
    "    for v in list:\n",
    "        if v % 2 == 0:\n",
    "            soma = soma + v\n",
    "    print(f'A soma dos valores pares sorteados é: {soma}')"
   ]
  },
  {
   "cell_type": "code",
   "execution_count": 41,
   "id": "45d92ef6",
   "metadata": {},
   "outputs": [
    {
     "name": "stdout",
     "output_type": "stream",
     "text": [
      "Os números sorteados foram: [97, 43, 94, 94, 68]\n",
      "A soma dos valores pares sorteados é: 256\n"
     ]
    }
   ],
   "source": [
    "#Chamndo as funções\n",
    "sorteio()\n",
    "somapar(lista)"
   ]
  }
 ],
 "metadata": {
  "kernelspec": {
   "display_name": "Python 3 (ipykernel)",
   "language": "python",
   "name": "python3"
  },
  "language_info": {
   "codemirror_mode": {
    "name": "ipython",
    "version": 3
   },
   "file_extension": ".py",
   "mimetype": "text/x-python",
   "name": "python",
   "nbconvert_exporter": "python",
   "pygments_lexer": "ipython3",
   "version": "3.9.7"
  }
 },
 "nbformat": 4,
 "nbformat_minor": 5
}
