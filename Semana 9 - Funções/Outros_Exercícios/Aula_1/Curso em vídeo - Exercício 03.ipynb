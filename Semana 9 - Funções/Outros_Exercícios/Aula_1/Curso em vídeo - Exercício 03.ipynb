{
 "cells": [
  {
   "cell_type": "code",
   "execution_count": 1,
   "id": "f1fee8d6",
   "metadata": {},
   "outputs": [],
   "source": [
    "#3) Faça um programa que tenha uma função chamada contador, que receba sempre 3 parâmetros íncio, fim e passo. O programa \n",
    "#   precisa realizar 3 contagens:\n",
    "#   - De 1 a 10, pulando de 1 em 1;\n",
    "#   - De 10 a 0, pulando de 2 em 2;\n",
    "#   - Uma contagem personalizada.\n",
    "\n",
    "#Importando a função para o delay:\n",
    "import time\n",
    "\n",
    "#Definição da função contagem:\n",
    "def contagem(inicio, fim, passo):\n",
    "    n = atual = 0\n",
    "    print('-='*20)\n",
    "    print(f'Contando de {inicio} até {fim} de {passo} em {passo}:')\n",
    "    \n",
    "#Se o passo for 0 considerar 1:\n",
    "    if passo == 0:\n",
    "        passo = 1\n",
    "    else:\n",
    "        pass\n",
    "\n",
    "#Definição da situação onde o número de início é menor ou igual ao fim\n",
    "    if inicio <= fim and passo > 0:\n",
    "        atual = inicio\n",
    "        if passo == 0:\n",
    "            print('Como o valor do passo indicado foi 0, iremos considerar a contagem de 1 em 1!')\n",
    "        while atual <= (fim - passo):\n",
    "            atual = inicio + n * passo\n",
    "            n += 1\n",
    "            print(atual, end=' ')\n",
    "            time.sleep(0.5)\n",
    "        print('FIM!')\n",
    "        \n",
    "#Definição da situação onde o número de início é maior do que o fim\n",
    "    else:\n",
    "        atual = inicio\n",
    "        if passo == 0:\n",
    "            print('Como o valor do passo indicado foi 0, iremos considerar a contagem de 1 em 1!')\n",
    "        while atual > (fim):\n",
    "            atual = inicio - n * abs(passo)\n",
    "            n += 1\n",
    "            print(atual, end=' ')\n",
    "            time.sleep(0.5)\n",
    "        print('FIM!')"
   ]
  },
  {
   "cell_type": "code",
   "execution_count": 2,
   "id": "04fb33d3",
   "metadata": {},
   "outputs": [
    {
     "name": "stdout",
     "output_type": "stream",
     "text": [
      "-=-=-=-=-=-=-=-=-=-=-=-=-=-=-=-=-=-=-=-=\n",
      "Contando de 1 até 10 de 1 em 1:\n",
      "1 2 3 4 5 6 7 8 9 10 FIM!\n",
      "-=-=-=-=-=-=-=-=-=-=-=-=-=-=-=-=-=-=-=-=\n",
      "Contando de 10 até 0 de 2 em 2:\n",
      "10 8 6 4 2 0 FIM!\n",
      "-=-=-=-=-=-=-=-=-=-=-=-=-=-=-=-=-=-=-=-=\n",
      "Agora é a sua vez!\n",
      "Digite o valor do início da contagem: 1\n",
      "Digite o valor do final da contagem: 3\n",
      "Digite de quanto em quanto você deseja fazer a contagem: 5\n",
      "-=-=-=-=-=-=-=-=-=-=-=-=-=-=-=-=-=-=-=-=\n",
      "Contando de 1 até 3 de 5 em 5:\n",
      "FIM!\n"
     ]
    }
   ],
   "source": [
    "#Demonstração da função\n",
    "contagem(1, 10, 1)\n",
    "contagem(10, 0, 2)\n",
    "print('-='*20)\n",
    "print('Agora é a sua vez!')\n",
    "inicio = int(input('Digite o valor do início da contagem: '))\n",
    "fim = int(input('Digite o valor do final da contagem: '))\n",
    "passo = int(input('Digite de quanto em quanto você deseja fazer a contagem: '))\n",
    "contagem(inicio, fim, passo)"
   ]
  },
  {
   "cell_type": "code",
   "execution_count": null,
   "id": "ec65ca2b",
   "metadata": {},
   "outputs": [],
   "source": []
  }
 ],
 "metadata": {
  "kernelspec": {
   "display_name": "Python 3 (ipykernel)",
   "language": "python",
   "name": "python3"
  },
  "language_info": {
   "codemirror_mode": {
    "name": "ipython",
    "version": 3
   },
   "file_extension": ".py",
   "mimetype": "text/x-python",
   "name": "python",
   "nbconvert_exporter": "python",
   "pygments_lexer": "ipython3",
   "version": "3.9.7"
  }
 },
 "nbformat": 4,
 "nbformat_minor": 5
}
