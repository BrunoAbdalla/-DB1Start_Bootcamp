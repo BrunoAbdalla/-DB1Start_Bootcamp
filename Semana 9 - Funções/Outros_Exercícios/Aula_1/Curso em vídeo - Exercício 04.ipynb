{
 "cells": [
  {
   "cell_type": "code",
   "execution_count": 38,
   "id": "9458bdc1",
   "metadata": {},
   "outputs": [],
   "source": [
    "#4) Crie um programa que tenha uma função chamada maior que irá receber vários parâmetros com valores inteiros, e que retorne\n",
    "#   a quantidade de valores informados e qual o maior valor"
   ]
  },
  {
   "cell_type": "code",
   "execution_count": 39,
   "id": "cc9f294c",
   "metadata": {},
   "outputs": [],
   "source": [
    "#Definindo a função maior utilizando o desempacotamento para não limitar o número de valores informados.\n",
    "def maior(*num):\n",
    "    print('Parâmetros informados: ', end = '')\n",
    "    for v in num:\n",
    "        print(v, end=' ')\n",
    "    print()\n",
    "    print(f'Foram informados {len(num)} parametros e o maior deles é {max(num)}')"
   ]
  },
  {
   "cell_type": "code",
   "execution_count": 40,
   "id": "f25473d0",
   "metadata": {},
   "outputs": [
    {
     "name": "stdout",
     "output_type": "stream",
     "text": [
      "Parâmetros informados: 10 2 3 6 \n",
      "Foram informados 4 parametros e o maior deles é 10\n"
     ]
    }
   ],
   "source": [
    "#Entrada de parâmetros e chamada da função\n",
    "maior(10, 2, 3, 6)"
   ]
  },
  {
   "cell_type": "code",
   "execution_count": null,
   "id": "357c1e8d",
   "metadata": {},
   "outputs": [],
   "source": []
  }
 ],
 "metadata": {
  "kernelspec": {
   "display_name": "Python 3 (ipykernel)",
   "language": "python",
   "name": "python3"
  },
  "language_info": {
   "codemirror_mode": {
    "name": "ipython",
    "version": 3
   },
   "file_extension": ".py",
   "mimetype": "text/x-python",
   "name": "python",
   "nbconvert_exporter": "python",
   "pygments_lexer": "ipython3",
   "version": "3.9.7"
  }
 },
 "nbformat": 4,
 "nbformat_minor": 5
}
