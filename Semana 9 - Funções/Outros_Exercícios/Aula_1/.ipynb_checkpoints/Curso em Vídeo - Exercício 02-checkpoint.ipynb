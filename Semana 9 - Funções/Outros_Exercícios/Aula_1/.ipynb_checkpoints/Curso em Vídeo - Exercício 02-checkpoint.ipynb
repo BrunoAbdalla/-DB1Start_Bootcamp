{
 "cells": [
  {
   "cell_type": "code",
   "execution_count": 18,
   "id": "250903c0",
   "metadata": {},
   "outputs": [
    {
     "name": "stdout",
     "output_type": "stream",
     "text": [
      "Digite uma palavra: OLÁ MUNDO\n",
      "-------------\n",
      "  OLÁ MUNDO\n",
      "-------------\n"
     ]
    }
   ],
   "source": [
    "#2) Faça um programa que tenha uma função chama escreva, que receba um texto qualquer como parâmetro e mostre-a com as linhas de\n",
    "#   resultado de tamanho adaptável\n",
    "\n",
    "def escreva(palavra):\n",
    "    tamanho_linha = len(palavra) + 4\n",
    "    print(f'{\"-\" * tamanho_linha}')\n",
    "    print(f'  {palavra}')\n",
    "    print(f'{\"-\" * tamanho_linha}')\n",
    "    \n",
    "a = str(input('Digite uma palavra: ')).upper()\n",
    "\n",
    "escreva(a)\n",
    "    "
   ]
  },
  {
   "cell_type": "code",
   "execution_count": null,
   "id": "6fe6b5a7",
   "metadata": {},
   "outputs": [],
   "source": []
  }
 ],
 "metadata": {
  "kernelspec": {
   "display_name": "Python 3 (ipykernel)",
   "language": "python",
   "name": "python3"
  },
  "language_info": {
   "codemirror_mode": {
    "name": "ipython",
    "version": 3
   },
   "file_extension": ".py",
   "mimetype": "text/x-python",
   "name": "python",
   "nbconvert_exporter": "python",
   "pygments_lexer": "ipython3",
   "version": "3.9.7"
  }
 },
 "nbformat": 4,
 "nbformat_minor": 5
}
