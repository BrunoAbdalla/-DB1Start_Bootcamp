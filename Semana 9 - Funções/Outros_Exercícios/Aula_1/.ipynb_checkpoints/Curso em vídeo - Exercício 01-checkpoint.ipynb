{
 "cells": [
  {
   "cell_type": "code",
   "execution_count": 1,
   "id": "1570d9b6",
   "metadata": {},
   "outputs": [
    {
     "name": "stdout",
     "output_type": "stream",
     "text": [
      "Por favor, informe a dimensão frontal do terreno (em metros): 2\n",
      "Por favor, informe a dimensão da profundidade do terreno (em metros): 3\n",
      "A área do terreno é 6.0 m².\n"
     ]
    }
   ],
   "source": [
    "#1) Faça um programa que tenha uma função chamada área que receba as dimensões de um terreno retangular e mostre a área\n",
    "#   do terreno\n",
    "\n",
    "def area(d1, d2):\n",
    "    a = d1 * d2\n",
    "    print(f'A área do terreno é {a} m².')\n",
    "    \n",
    "lado1 = float(input('Por favor, informe a dimensão frontal do terreno (em metros): '))\n",
    "lado2 = float(input('Por favor, informe a dimensão da profundidade do terreno (em metros): '))\n",
    "\n",
    "area(lado1, lado2)"
   ]
  },
  {
   "cell_type": "code",
   "execution_count": null,
   "id": "ae49f744",
   "metadata": {},
   "outputs": [],
   "source": []
  }
 ],
 "metadata": {
  "kernelspec": {
   "display_name": "Python 3 (ipykernel)",
   "language": "python",
   "name": "python3"
  },
  "language_info": {
   "codemirror_mode": {
    "name": "ipython",
    "version": 3
   },
   "file_extension": ".py",
   "mimetype": "text/x-python",
   "name": "python",
   "nbconvert_exporter": "python",
   "pygments_lexer": "ipython3",
   "version": "3.9.7"
  }
 },
 "nbformat": 4,
 "nbformat_minor": 5
}
