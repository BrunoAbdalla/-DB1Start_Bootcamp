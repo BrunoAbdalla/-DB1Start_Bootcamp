{
 "cells": [
  {
   "cell_type": "code",
   "execution_count": 41,
   "id": "980c1da6",
   "metadata": {},
   "outputs": [],
   "source": [
    "#4) Crie um programa que tenha uma função chamada leiaint(), que vai funcionar de forma similar ao input() do Phyton, só que \n",
    "#   fazendo a validação para aceitar apenas números.\n",
    "#   Ex.: n = leiaint('Digite um número: ')"
   ]
  },
  {
   "cell_type": "code",
   "execution_count": 42,
   "id": "ae9fb1a3",
   "metadata": {},
   "outputs": [],
   "source": [
    "#Definindo a função\n",
    "def leiaInt(msg):\n",
    "    n = str(input(msg))\n",
    "    while True:\n",
    "        if n.isnumeric():\n",
    "            num = int(n)\n",
    "            return num\n",
    "            break\n",
    "        else:\n",
    "            print('Erro! Informe apenas números inteiros!')\n",
    "            n = str(input(msg))\n",
    "            "
   ]
  },
  {
   "cell_type": "code",
   "execution_count": 43,
   "id": "c1b1a379",
   "metadata": {},
   "outputs": [
    {
     "name": "stdout",
     "output_type": "stream",
     "text": [
      "Digite um número: f\n",
      "Erro! Informe apenas números inteiros!\n",
      "Digite um número: 2\n",
      "Você acabou de digitar o número 2\n"
     ]
    }
   ],
   "source": [
    "#Definindo o programa principal\n",
    "n = leiaInt('Digite um número: ')\n",
    "print(f'Você acabou de digitar o número {n}')"
   ]
  },
  {
   "cell_type": "code",
   "execution_count": null,
   "id": "54ca9d0c",
   "metadata": {},
   "outputs": [],
   "source": []
  }
 ],
 "metadata": {
  "kernelspec": {
   "display_name": "Python 3 (ipykernel)",
   "language": "python",
   "name": "python3"
  },
  "language_info": {
   "codemirror_mode": {
    "name": "ipython",
    "version": 3
   },
   "file_extension": ".py",
   "mimetype": "text/x-python",
   "name": "python",
   "nbconvert_exporter": "python",
   "pygments_lexer": "ipython3",
   "version": "3.9.7"
  }
 },
 "nbformat": 4,
 "nbformat_minor": 5
}
