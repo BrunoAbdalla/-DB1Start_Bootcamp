{
 "cells": [
  {
   "cell_type": "code",
   "execution_count": 45,
   "id": "f9b1fd24",
   "metadata": {},
   "outputs": [],
   "source": [
    "#5) Faça um programa que tenha uma função notas() que pode receber várias notas de alunos e vai retornar um dicionário com as\n",
    "#   seguintes informações:\n",
    "#   - Quantidade de notas;\n",
    "#   - A maior nota;\n",
    "#   - A menor nota;\n",
    "#   - A média da turma;\n",
    "#   - Situação (Opcional);\n",
    "\n",
    "# Adicone também as docstrings da função."
   ]
  },
  {
   "cell_type": "code",
   "execution_count": 46,
   "id": "6276a5b8",
   "metadata": {},
   "outputs": [],
   "source": [
    "#Criando o dicionário com as informações:\n",
    "resp = {}"
   ]
  },
  {
   "cell_type": "code",
   "execution_count": 47,
   "id": "4a59456e",
   "metadata": {},
   "outputs": [],
   "source": [
    "def notas(*nota, sit = False):\n",
    "    \"\"\"\n",
    "    -> Função que, com base nas notas informadas, mostra o número de notas informadas, a maior, a menor, a média e a situação.\n",
    "    :param nota: Notas a serem avaliadas\n",
    "    :param sit: Decisão se mostra a situação da média do aluno (padrão False não mostra)\n",
    "    \"\"\"\n",
    "    resp['Total'] = len(nota)\n",
    "    resp['Maior'] = max(nota)\n",
    "    resp['Menor'] = min(nota)\n",
    "    resp['Média'] = sum(nota) / resp['Total']\n",
    "    if sit:\n",
    "        if 0 < resp['Média'] < 5:\n",
    "            resp['Situação'] = 'Ruim'\n",
    "        elif 5 <= resp['Média'] < 7:\n",
    "            resp['Situação'] = 'Razoável'\n",
    "        elif 7 <= resp['Média'] < 9:\n",
    "            resp['Sitaução'] = 'Ótimo'\n",
    "        else:\n",
    "            resp['Situação'] = 'Excelente'\n",
    "    return resp\n",
    "        "
   ]
  },
  {
   "cell_type": "code",
   "execution_count": 48,
   "id": "d2b19644",
   "metadata": {},
   "outputs": [
    {
     "name": "stdout",
     "output_type": "stream",
     "text": [
      "{'Total': 6, 'Maior': 10, 'Menor': 5.5, 'Média': 8.333333333333334, 'Sitaução': 'Ótimo'}\n"
     ]
    }
   ],
   "source": [
    "# Programa principal:\n",
    "resp = notas(5.5, 9.5, 10, 6, 9, 10, sit = True)\n",
    "print(resp)"
   ]
  }
 ],
 "metadata": {
  "kernelspec": {
   "display_name": "Python 3 (ipykernel)",
   "language": "python",
   "name": "python3"
  },
  "language_info": {
   "codemirror_mode": {
    "name": "ipython",
    "version": 3
   },
   "file_extension": ".py",
   "mimetype": "text/x-python",
   "name": "python",
   "nbconvert_exporter": "python",
   "pygments_lexer": "ipython3",
   "version": "3.9.7"
  }
 },
 "nbformat": 4,
 "nbformat_minor": 5
}
