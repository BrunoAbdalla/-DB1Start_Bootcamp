{
 "cells": [
  {
   "cell_type": "code",
   "execution_count": 16,
   "id": "4d400848",
   "metadata": {},
   "outputs": [],
   "source": [
    "#3) Faça um programa que tenha uma função chamada ficha que receba dois parâmetros opcionais o nome de um jogador e quantos\n",
    "#   gols ele marcou, o programa deverá ser capaz de mostra a ficha do jogador mesmo que algum dado não tenha sido mostrado\n",
    "#   corretamente."
   ]
  },
  {
   "cell_type": "code",
   "execution_count": 17,
   "id": "4ae3b4bd",
   "metadata": {},
   "outputs": [],
   "source": [
    "#Definindo a função da ficha do jogador\n",
    "def ficha_jogador(nome='<desconhecido>', gols = 0):\n",
    "    \"\"\"\n",
    "    -> Função que faz a ficha do jogador em questão\n",
    "    :param nome: Nome do jogador\n",
    "    :param gols: Número de gols que o jogador fez no campeonato\n",
    "    \"\"\"\n",
    "    return f'O jogador {nome} fez {gols} gol(s) no campeonato'"
   ]
  },
  {
   "cell_type": "code",
   "execution_count": 18,
   "id": "a75b3933",
   "metadata": {},
   "outputs": [
    {
     "name": "stdout",
     "output_type": "stream",
     "text": [
      "Digite o nome do jogador: Borja\n",
      "Digite quantos gols o jogador fez no campeonato: 15\n",
      "O jogador Borja fez 15 gol(s) no campeonato\n"
     ]
    }
   ],
   "source": [
    "#Solicitando os dados ao usuário\n",
    "a = str(input('Digite o nome do jogador: '))\n",
    "b = str(input('Digite quantos gols o jogador fez no campeonato: '))\n",
    "if b.isnumeric():\n",
    "    b = int(b)\n",
    "else:\n",
    "    b = 0\n",
    "print(ficha_jogador(a,b))"
   ]
  }
 ],
 "metadata": {
  "kernelspec": {
   "display_name": "Python 3 (ipykernel)",
   "language": "python",
   "name": "python3"
  },
  "language_info": {
   "codemirror_mode": {
    "name": "ipython",
    "version": 3
   },
   "file_extension": ".py",
   "mimetype": "text/x-python",
   "name": "python",
   "nbconvert_exporter": "python",
   "pygments_lexer": "ipython3",
   "version": "3.9.7"
  }
 },
 "nbformat": 4,
 "nbformat_minor": 5
}
