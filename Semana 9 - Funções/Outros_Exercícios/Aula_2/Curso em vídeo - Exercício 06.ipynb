{
 "cells": [
  {
   "cell_type": "code",
   "execution_count": 48,
   "id": "5578eef0",
   "metadata": {},
   "outputs": [],
   "source": [
    "#6) Faça um mini sistema que utilize o interactive help onde o usuário informa qual a função ele deseja acessar o manual, o \n",
    "#   programa finaliza quando o usuário digita \"FIM\", coloque cabeçalhos feitos por funções para organizar o programa."
   ]
  },
  {
   "cell_type": "code",
   "execution_count": 49,
   "id": "8b9dade2",
   "metadata": {},
   "outputs": [],
   "source": [
    "#Função que retorna os manuais\n",
    "def manual(função):\n",
    "    return help(função)"
   ]
  },
  {
   "cell_type": "code",
   "execution_count": 50,
   "id": "eea528a7",
   "metadata": {},
   "outputs": [],
   "source": [
    "#Função que cria os títulos\n",
    "def titulo(texto):\n",
    "    tam = len(texto)\n",
    "    print('~' * (tam + 4))\n",
    "    print(f'  {texto}')\n",
    "    print('~' * (tam + 4))"
   ]
  },
  {
   "cell_type": "code",
   "execution_count": 51,
   "id": "686bb6b0",
   "metadata": {},
   "outputs": [
    {
     "name": "stdout",
     "output_type": "stream",
     "text": [
      "~~~~~~~~~~~~~~~~~~~~~~~~~~~\n",
      "  SISTEMA DE AJUDA PYTHON\n",
      "~~~~~~~~~~~~~~~~~~~~~~~~~~~\n",
      "Qual manual você deseja acessar? print\n",
      "~~~~~~~~~~~~~~~~~~~~~~~~~~~~~~~~~~~~~~\n",
      "  Mostrando o manual da função print\n",
      "~~~~~~~~~~~~~~~~~~~~~~~~~~~~~~~~~~~~~~\n",
      "Help on built-in function print in module builtins:\n",
      "\n",
      "print(...)\n",
      "    print(value, ..., sep=' ', end='\\n', file=sys.stdout, flush=False)\n",
      "    \n",
      "    Prints the values to a stream, or to sys.stdout by default.\n",
      "    Optional keyword arguments:\n",
      "    file:  a file-like object (stream); defaults to the current sys.stdout.\n",
      "    sep:   string inserted between values, default a space.\n",
      "    end:   string appended after the last value, default a newline.\n",
      "    flush: whether to forcibly flush the stream.\n",
      "\n",
      "~~~~~~~~~~~~~~~~~~~~~~~~~~~\n",
      "  SISTEMA DE AJUDA PYTHON\n",
      "~~~~~~~~~~~~~~~~~~~~~~~~~~~\n",
      "Qual manual você deseja acessar? input\n",
      "~~~~~~~~~~~~~~~~~~~~~~~~~~~~~~~~~~~~~~\n",
      "  Mostrando o manual da função input\n",
      "~~~~~~~~~~~~~~~~~~~~~~~~~~~~~~~~~~~~~~\n",
      "Help on method raw_input in module ipykernel.kernelbase:\n",
      "\n",
      "input = raw_input(prompt='') method of ipykernel.ipkernel.IPythonKernel instance\n",
      "    Forward raw_input to frontends\n",
      "    \n",
      "    Raises\n",
      "    ------\n",
      "    StdinNotImplementedError if active frontend doesn't support stdin.\n",
      "\n",
      "~~~~~~~~~~~~~~~~~~~~~~~~~~~\n",
      "  SISTEMA DE AJUDA PYTHON\n",
      "~~~~~~~~~~~~~~~~~~~~~~~~~~~\n",
      "Qual manual você deseja acessar? fim\n",
      "~~~~~~~~~~~~\n",
      "  ATÉ LOGO\n",
      "~~~~~~~~~~~~\n"
     ]
    }
   ],
   "source": [
    "#Código principal\n",
    "while True:\n",
    "    titulo('SISTEMA DE AJUDA PYTHON')\n",
    "    manual_desejado = str(input('Qual manual você deseja acessar? '))\n",
    "    if manual_desejado.upper() == 'FIM':\n",
    "        break\n",
    "    titulo(f'Mostrando o manual da função {manual_desejado}')\n",
    "    manual(manual_desejado)\n",
    "titulo('ATÉ LOGO')"
   ]
  }
 ],
 "metadata": {
  "kernelspec": {
   "display_name": "Python 3 (ipykernel)",
   "language": "python",
   "name": "python3"
  },
  "language_info": {
   "codemirror_mode": {
    "name": "ipython",
    "version": 3
   },
   "file_extension": ".py",
   "mimetype": "text/x-python",
   "name": "python",
   "nbconvert_exporter": "python",
   "pygments_lexer": "ipython3",
   "version": "3.9.7"
  }
 },
 "nbformat": 4,
 "nbformat_minor": 5
}
