{
 "cells": [
  {
   "cell_type": "code",
   "execution_count": 47,
   "id": "37bf2304",
   "metadata": {},
   "outputs": [],
   "source": [
    "#2) Crie um programa que tenha uma função de fatorial que receba dois parâmetros: o valor que se deseja calcular e um parâmetro\n",
    "#   chamado show (lógico) para ver saber se o usuário quer que seja impresso o processo de cálculo."
   ]
  },
  {
   "cell_type": "code",
   "execution_count": 48,
   "id": "1b8bc5c7",
   "metadata": {},
   "outputs": [],
   "source": [
    "#Definindo a função\n",
    "def fatorial(num, show = False):\n",
    "    \"\"\"\n",
    "    -> Programa que irá calcular o fatorial de um número mostrando ou não o processo de cálculo\n",
    "    :param num: Número que se deseja calcular o fatorial\n",
    "    :param show: Fator lógico que define se o processo de cálculo será mostrado (padrão False não mostra)\n",
    "    \"\"\"\n",
    "    fatorial = 1\n",
    "    if show:\n",
    "        for n in range(num, 0, -1):\n",
    "            fatorial *= n\n",
    "            if n != 1:\n",
    "                print(n, end =' X ')\n",
    "            else:\n",
    "                print(n, end = ' = ' )\n",
    "    else:\n",
    "        for n in range(num, 0, -1):\n",
    "            fatorial *= n\n",
    "    return fatorial"
   ]
  },
  {
   "cell_type": "code",
   "execution_count": 49,
   "id": "16e7ee03",
   "metadata": {},
   "outputs": [
    {
     "name": "stdout",
     "output_type": "stream",
     "text": [
      "5 X 4 X 3 X 2 X 1 = 120\n"
     ]
    }
   ],
   "source": [
    "#Chamando a fução para fazer os testes:\n",
    "print(fatorial(5,show=True))"
   ]
  },
  {
   "cell_type": "code",
   "execution_count": null,
   "id": "d9ff1a4a",
   "metadata": {},
   "outputs": [],
   "source": []
  }
 ],
 "metadata": {
  "kernelspec": {
   "display_name": "Python 3 (ipykernel)",
   "language": "python",
   "name": "python3"
  },
  "language_info": {
   "codemirror_mode": {
    "name": "ipython",
    "version": 3
   },
   "file_extension": ".py",
   "mimetype": "text/x-python",
   "name": "python",
   "nbconvert_exporter": "python",
   "pygments_lexer": "ipython3",
   "version": "3.9.7"
  }
 },
 "nbformat": 4,
 "nbformat_minor": 5
}
