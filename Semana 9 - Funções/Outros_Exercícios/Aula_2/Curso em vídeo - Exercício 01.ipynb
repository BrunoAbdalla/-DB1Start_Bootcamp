{
 "cells": [
  {
   "cell_type": "code",
   "execution_count": 35,
   "id": "a2fb69bf",
   "metadata": {},
   "outputs": [],
   "source": [
    "#1) Crie um programa que tenha uma função chamada voto que vai receber como parâmetro o ano de nascimento de uma pessoa,\n",
    "#   vai calcular a idade da pessoa, e vai retornar um valor literal se a pessoa tem \"Voto negado\", \"Voto opcional\" ou\n",
    "#   voto obrigatório. (O retorno deve ser feito diretamente pela função)"
   ]
  },
  {
   "cell_type": "code",
   "execution_count": 36,
   "id": "bd8bd25c",
   "metadata": {},
   "outputs": [],
   "source": [
    "#Definindo a função\n",
    "def situacao_voto(nasc):\n",
    "    from datetime import date\n",
    "    \"\"\"\n",
    "    Função que irá retornar através da idade da pessoa, se ela é obrigada a votar ou não.\n",
    "    :param nasc: Data de nascimento da pessoa\n",
    "    \"\"\"\n",
    "#Cálculo da idade\n",
    "    ano_atual = date.today().year\n",
    "    idade = ano_atual - nasc\n",
    "    if idade < 16:\n",
    "        return(f'Com a idade informada ({idade} anos) você não poderá votar')\n",
    "    elif idade < 18 or idade > 65:\n",
    "        return(f'Com a idade informada ({idade} anos) o voto é opcional')\n",
    "    else:\n",
    "        return(f'Com a idade informada ({idade} anos) o voto é obrigatório')"
   ]
  },
  {
   "cell_type": "code",
   "execution_count": 37,
   "id": "b5f1d4dd",
   "metadata": {},
   "outputs": [
    {
     "name": "stdout",
     "output_type": "stream",
     "text": [
      "Digite o seu ano de nascimento: 2000\n",
      "Com a idade informada (22 anos) o voto é obrigatório\n"
     ]
    }
   ],
   "source": [
    "#Informando o ano de nascimento e retornando o parâmetro:\n",
    "nasc = int(input('Digite o seu ano de nascimento: '))\n",
    "print(situacao_voto(nasc))"
   ]
  }
 ],
 "metadata": {
  "kernelspec": {
   "display_name": "Python 3 (ipykernel)",
   "language": "python",
   "name": "python3"
  },
  "language_info": {
   "codemirror_mode": {
    "name": "ipython",
    "version": 3
   },
   "file_extension": ".py",
   "mimetype": "text/x-python",
   "name": "python",
   "nbconvert_exporter": "python",
   "pygments_lexer": "ipython3",
   "version": "3.9.7"
  }
 },
 "nbformat": 4,
 "nbformat_minor": 5
}
