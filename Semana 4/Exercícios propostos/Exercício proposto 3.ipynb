{
 "cells": [
  {
   "cell_type": "code",
   "execution_count": 1,
   "id": "b4d20aa3",
   "metadata": {},
   "outputs": [],
   "source": [
    "#3) Faça um programa que retorna se a letra informada for \"M\", a palava \"Masculino\", se for \"F\" retorna \"Feminino\" ou\n",
    "# qualquer outra resposta, retorna \"Sexo inválido\""
   ]
  },
  {
   "cell_type": "code",
   "execution_count": 10,
   "id": "e1bcc64a",
   "metadata": {},
   "outputs": [
    {
     "name": "stdout",
     "output_type": "stream",
     "text": [
      "Por favor, digite a letra M caso o seu sexo seja masculino ou F, caso o seu sexo seja feminino: 6\n",
      "Você informou 6, que não é uma opção válida, favor informe uma opção válida.\n"
     ]
    }
   ],
   "source": [
    "# Pedir a o sexo para o usuário\n",
    "\n",
    "sexo_usuario = input(\"Por favor, digite a letra M caso o seu sexo seja masculino ou F, caso o seu sexo seja feminino: \")\n",
    "\n",
    "# Verificar se o sexo informado é masculino e retornar a mensagem para o usuário\n",
    "if sexo_usuario == \"m\" or sexo_usuario == \"M\":\n",
    "    print(\"O sexo informado: Masculino\")\n",
    "    \n",
    "# Verificar se o sexo informado é feminino e retornar a mensagem para o usuário\n",
    "elif sexo_usuario == \"f\" or sexo_usuario == \"F\":\n",
    "    print(\"O sexo informado: Feminino\")\n",
    "    \n",
    "# Retornar a mensagem de Opção inválida\n",
    "else:\n",
    "    print(f\"Você informou {sexo_usuario}, que não é uma opção válida, favor informe uma opção válida.\")"
   ]
  },
  {
   "cell_type": "code",
   "execution_count": null,
   "id": "c8ff15fa",
   "metadata": {},
   "outputs": [],
   "source": []
  }
 ],
 "metadata": {
  "kernelspec": {
   "display_name": "Python 3 (ipykernel)",
   "language": "python",
   "name": "python3"
  },
  "language_info": {
   "codemirror_mode": {
    "name": "ipython",
    "version": 3
   },
   "file_extension": ".py",
   "mimetype": "text/x-python",
   "name": "python",
   "nbconvert_exporter": "python",
   "pygments_lexer": "ipython3",
   "version": "3.9.7"
  }
 },
 "nbformat": 4,
 "nbformat_minor": 5
}
