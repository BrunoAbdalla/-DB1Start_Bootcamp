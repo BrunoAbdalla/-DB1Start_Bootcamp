{
 "cells": [
  {
   "cell_type": "code",
   "execution_count": null,
   "id": "b90d4d6a",
   "metadata": {},
   "outputs": [],
   "source": [
    "#1) Faça um programa que peça dois número e retorne o maior deles"
   ]
  },
  {
   "cell_type": "code",
   "execution_count": 14,
   "id": "489fda95",
   "metadata": {},
   "outputs": [
    {
     "name": "stdout",
     "output_type": "stream",
     "text": [
      "Por favor entre com o primeiro número: 56\n",
      "Por favor entre com o segundo número: 2\n",
      "O primeiro número informado, 56.0, é maior do que o segundo, 2.0!\n"
     ]
    }
   ],
   "source": [
    "#Pedir para o usuário que ele entre com os dois números\n",
    "\n",
    "primeiro_numero = float(input(\"Por favor entre com o primeiro número: \"))\n",
    "segundo_numero = float(input(\"Por favor entre com o segundo número: \"))\n",
    "\n",
    "#Verificar qual é maior e retornar a mensagems para o usuário\n",
    "\n",
    "if primeiro_numero > segundo_numero:\n",
    "    print(f\"O primeiro número informado, {primeiro_numero}, é maior do que o segundo, {segundo_numero}!\")\n",
    "else:\n",
    "    print(f\"O segundo número informado, {segundo_numero}, é maior do que o primeiro, {primeiro_numero}!\")"
   ]
  }
 ],
 "metadata": {
  "kernelspec": {
   "display_name": "Python 3 (ipykernel)",
   "language": "python",
   "name": "python3"
  },
  "language_info": {
   "codemirror_mode": {
    "name": "ipython",
    "version": 3
   },
   "file_extension": ".py",
   "mimetype": "text/x-python",
   "name": "python",
   "nbconvert_exporter": "python",
   "pygments_lexer": "ipython3",
   "version": "3.9.7"
  }
 },
 "nbformat": 4,
 "nbformat_minor": 5
}
