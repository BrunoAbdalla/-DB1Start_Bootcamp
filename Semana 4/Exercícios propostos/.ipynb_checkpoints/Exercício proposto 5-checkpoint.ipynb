{
 "cells": [
  {
   "cell_type": "code",
   "execution_count": null,
   "id": "c7a8c10a",
   "metadata": {},
   "outputs": [],
   "source": [
    "#5) Fazer um programa que leita duas notas parciais de um aluno, calcule a média e retorne: \n",
    "# - \"Aprovado com distinção\" caso a média seja 10;\n",
    "# - \"Aluno aprovado\" caso a média seja igual ou superior a 7;\n",
    "# - \"Aluno reprovado\" caso a média seja inferior a 7."
   ]
  },
  {
   "cell_type": "code",
   "execution_count": 10,
   "id": "57854b89",
   "metadata": {},
   "outputs": [
    {
     "name": "stdout",
     "output_type": "stream",
     "text": [
      "Por favor, informe a primeira nota do aluno (0 a 10): 10\n",
      "Por favor, informe a segunda nota do aluno (0 a 10): 10\n",
      "A média do aluno é 10.0 e foi aprovado com distinção!\n"
     ]
    }
   ],
   "source": [
    "# Pedir as duas notas do aluno:\n",
    "nota_1 = float(input(\"Por favor, informe a primeira nota do aluno (0 a 10): \"))\n",
    "\n",
    "nota_2 = float(input(\"Por favor, informe a segunda nota do aluno (0 a 10): \"))\n",
    "\n",
    "# Cálculo da média\n",
    "media = (nota_1 + nota_2) / 2\n",
    "\n",
    "#Retorno da mensagem ao usuário\n",
    "\n",
    "if media == 10:\n",
    "    print(f\"A média do aluno é {media} e foi aprovado com distinção!\")\n",
    "\n",
    "elif media >= 7:\n",
    "    print(f\"A média do aluno é {media} e foi aprovado!\")\n",
    "    \n",
    "else:\n",
    "    print(f\"A média do aluno é {media} e foi reprovado! :( \")"
   ]
  },
  {
   "cell_type": "code",
   "execution_count": null,
   "id": "e9e5b70c",
   "metadata": {},
   "outputs": [],
   "source": []
  }
 ],
 "metadata": {
  "kernelspec": {
   "display_name": "Python 3 (ipykernel)",
   "language": "python",
   "name": "python3"
  },
  "language_info": {
   "codemirror_mode": {
    "name": "ipython",
    "version": 3
   },
   "file_extension": ".py",
   "mimetype": "text/x-python",
   "name": "python",
   "nbconvert_exporter": "python",
   "pygments_lexer": "ipython3",
   "version": "3.9.7"
  }
 },
 "nbformat": 4,
 "nbformat_minor": 5
}
