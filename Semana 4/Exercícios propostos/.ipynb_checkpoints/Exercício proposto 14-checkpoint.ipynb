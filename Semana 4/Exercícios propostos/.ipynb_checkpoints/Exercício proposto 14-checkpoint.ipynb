{
 "cells": [
  {
   "cell_type": "code",
   "execution_count": null,
   "id": "410f6ab1",
   "metadata": {},
   "outputs": [],
   "source": [
    "#14) Fazer um programa que peça 3 medidas de lados de um triângulo, diga se é possível construir um triangulo com essas medidas\n",
    "# e caso seja possível, diga qual triângulo é isoceles, equilátero ou escaleno."
   ]
  },
  {
   "cell_type": "code",
   "execution_count": 7,
   "id": "614384e1",
   "metadata": {},
   "outputs": [
    {
     "name": "stdout",
     "output_type": "stream",
     "text": [
      "Favor informar o primeiro lado do triângulo: 25\n",
      "Favor informar o segundo lado do triângulo: 4\n",
      "Favor informar o terceiro lado do triângulo: 3\n",
      "Não é possível criar um triângulo com esses lados\n"
     ]
    }
   ],
   "source": [
    "#Pedir os lados do triângulo para o usuário:\n",
    "lado_1 = float(input(\"Favor informar o primeiro lado do triângulo: \"))\n",
    "lado_2 = float(input(\"Favor informar o segundo lado do triângulo: \"))\n",
    "lado_3 = float(input(\"Favor informar o terceiro lado do triângulo: \"))\n",
    "\n",
    "#Verificar se o triângulo é possível:\n",
    "\n",
    "if abs(lado_2 - lado_3) < lado_1 and lado_1 < abs(lado_2 + lado_3):\n",
    "    \n",
    "    if abs(lado_1 - lado_3) < lado_2 and lado_2 < abs(lado_1 + lado_3):\n",
    "        \n",
    "        if abs(lado_1 - lado_2) < lado_3 and lado_3 < abs(lado_1 + lado_2):\n",
    "            \n",
    "            if lado_1 == lado_2 and lado_2 == lado_3:\n",
    "                print(\"É possível criar um triângulo equilátero com os lados informados!\")\n",
    "            elif lado_1 != lado_2 and lado_2 != lado_3:\n",
    "                print(\"É possível criar um triângulo escaleno com os lados informados!\")\n",
    "            else:\n",
    "                print(\"É possível criar um triângulo isósceles com os lados informados!\")\n",
    "            \n",
    "        else:\n",
    "            print(\"Não é possível criar um triângulo com esses lados\")\n",
    "    else:\n",
    "        print(\"Não é possível criar um triângulo com esses lados\")\n",
    "else:\n",
    "    print(\"Não é possível criar um triângulo com esses lados\")"
   ]
  },
  {
   "cell_type": "code",
   "execution_count": null,
   "id": "c6b3e3f1",
   "metadata": {},
   "outputs": [],
   "source": []
  }
 ],
 "metadata": {
  "kernelspec": {
   "display_name": "Python 3 (ipykernel)",
   "language": "python",
   "name": "python3"
  },
  "language_info": {
   "codemirror_mode": {
    "name": "ipython",
    "version": 3
   },
   "file_extension": ".py",
   "mimetype": "text/x-python",
   "name": "python",
   "nbconvert_exporter": "python",
   "pygments_lexer": "ipython3",
   "version": "3.9.7"
  }
 },
 "nbformat": 4,
 "nbformat_minor": 5
}
