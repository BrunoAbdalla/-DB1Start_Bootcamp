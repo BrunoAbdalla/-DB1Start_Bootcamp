{
 "cells": [
  {
   "cell_type": "code",
   "execution_count": null,
   "id": "131db946",
   "metadata": {},
   "outputs": [],
   "source": [
    "#4) Programa que verifica se a letra informada é uma vogal ou uma consoante"
   ]
  },
  {
   "cell_type": "code",
   "execution_count": 7,
   "id": "a763ce2f",
   "metadata": {},
   "outputs": [
    {
     "name": "stdout",
     "output_type": "stream",
     "text": [
      "Por favor informe uma letra: AE\n",
      "Por favor, informe somente uma letra\n"
     ]
    }
   ],
   "source": [
    "# Pedir a letra para o usuário\n",
    "letra_testada = input(\"Por favor informe uma letra: \")\n",
    "\n",
    "#Testar se o que foi informado é um número\n",
    "if letra_testada.isdigit():\n",
    "    print(\"Por favor, digite apenas letras!\")\n",
    "else: \n",
    "    \n",
    "#Testar se o usuário informou apenas uma letra\n",
    "    if len(letra_testada) != 1:\n",
    "        print(\"Por favor, informe somente uma letra\")\n",
    "    else:\n",
    "        \n",
    "# Testar se a letra informada é a letra A e retorna a mensagem ao usuário\n",
    "        if letra_testada == \"a\" or letra_testada == \"A\":\n",
    "            print(f\"A letra informada {letra_testada} é uma vogal\")\n",
    "\n",
    "# Testar se a letra informada é a letra E e retorna a mensagem ao usuário\n",
    "        elif letra_testada == \"e\" or letra_testada == \"E\":\n",
    "            print(f\"A letra informada {letra_testada} é uma vogal\")\n",
    "    \n",
    "# Testar se a letra informada é a letra I e retorna a mensagem ao usuário\n",
    "        elif letra_testada == \"i\" or letra_testada == \"I\":\n",
    "            print(f\"A letra informada {letra_testada} é uma vogal\")\n",
    "        \n",
    "# Testar se a letra informada é a letra O e retorna a mensagem ao usuário\n",
    "        elif letra_testada == \"o\" or letra_testada == \"O\":\n",
    "            print(f\"A letra informada {letra_testada} é uma vogal\")\n",
    "\n",
    "# Testar se a letra informada é a letra U e retorna a mensagem ao usuário\n",
    "        elif letra_testada == \"u\" or letra_testada == \"U\":\n",
    "            print(f\"A letra informada {letra_testada} é uma vogal\")\n",
    "    \n",
    "# Informar que a letra selecionada é uma consoante\n",
    "        else:\n",
    "            print(f\"A letra informada {letra_testada} é uma consoante\")"
   ]
  }
 ],
 "metadata": {
  "kernelspec": {
   "display_name": "Python 3 (ipykernel)",
   "language": "python",
   "name": "python3"
  },
  "language_info": {
   "codemirror_mode": {
    "name": "ipython",
    "version": 3
   },
   "file_extension": ".py",
   "mimetype": "text/x-python",
   "name": "python",
   "nbconvert_exporter": "python",
   "pygments_lexer": "ipython3",
   "version": "3.9.7"
  }
 },
 "nbformat": 4,
 "nbformat_minor": 5
}
