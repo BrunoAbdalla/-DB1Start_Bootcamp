{
 "cells": [
  {
   "cell_type": "code",
   "execution_count": null,
   "id": "768fca67",
   "metadata": {},
   "outputs": [],
   "source": [
    "#16) Faça um programa que descubra se um ano é bissexto ou não.\n",
    "\n",
    "# Ano é bissesto quando:\n",
    "#Caso 1) É um número divisível por 4, mas não é divisível por 100.\n",
    "#Caso 2) É um número divisível por 4, por 100 e por 400."
   ]
  },
  {
   "cell_type": "code",
   "execution_count": 6,
   "id": "e77d6e8b",
   "metadata": {},
   "outputs": [
    {
     "name": "stdout",
     "output_type": "stream",
     "text": [
      "Por favor, informe o ano que deseja confirmar se é bissexto ou não: 2001\n",
      "O ano 2001 não é bissexto.\n"
     ]
    }
   ],
   "source": [
    "#Solicitar o ano para o usuário:\n",
    "\n",
    "ano_selecionado = int(input(\"Por favor, informe o ano que deseja confirmar se é bissexto ou não: \"))\n",
    "\n",
    "if ano_selecionado % 4 == 0:\n",
    "    \n",
    "    if ano_selecionado % 100 != 0:\n",
    "        print(f\"O ano {ano_selecionado} é um ano bissexto.\")\n",
    "        \n",
    "    elif ano_selecionado % 400 == 0:\n",
    "        print(f\"O ano {ano_selecionado} é um ano bissexto.\")\n",
    "        \n",
    "    else:\n",
    "        print(f\"O ano {ano_selecionado} não é bissexto.\")\n",
    "else:\n",
    "    print(f\"O ano {ano_selecionado} não é bissexto.\")\n",
    "        "
   ]
  },
  {
   "cell_type": "code",
   "execution_count": null,
   "id": "ec97bab3",
   "metadata": {},
   "outputs": [],
   "source": []
  }
 ],
 "metadata": {
  "kernelspec": {
   "display_name": "Python 3 (ipykernel)",
   "language": "python",
   "name": "python3"
  },
  "language_info": {
   "codemirror_mode": {
    "name": "ipython",
    "version": 3
   },
   "file_extension": ".py",
   "mimetype": "text/x-python",
   "name": "python",
   "nbconvert_exporter": "python",
   "pygments_lexer": "ipython3",
   "version": "3.9.7"
  }
 },
 "nbformat": 4,
 "nbformat_minor": 5
}
