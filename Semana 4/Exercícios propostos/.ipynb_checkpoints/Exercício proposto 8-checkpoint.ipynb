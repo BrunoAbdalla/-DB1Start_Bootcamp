{
 "cells": [
  {
   "cell_type": "code",
   "execution_count": null,
   "id": "9b6d3bbe",
   "metadata": {},
   "outputs": [],
   "source": [
    "#8) Faça um programa que solicite 3 números e os retorne em ordem crescente"
   ]
  },
  {
   "cell_type": "code",
   "execution_count": 9,
   "id": "0f5694d7",
   "metadata": {},
   "outputs": [
    {
     "name": "stdout",
     "output_type": "stream",
     "text": [
      "Por favor, informe o primeiro número a ser ordenado: 25\n",
      "Por favor, informe o segundo número a ser ordenado: 30\n",
      "Por favor, informe o terceiro número a ser ordenado: 15\n",
      "Os números em ordem crescente ficam: 15.0, 25.0, 30.0\n"
     ]
    }
   ],
   "source": [
    "#Pedir os números para o usuário\n",
    "numero_1 = float(input(\"Por favor, informe o primeiro número a ser ordenado: \"))\n",
    "numero_2 = float(input(\"Por favor, informe o segundo número a ser ordenado: \"))\n",
    "numero_3 = float(input(\"Por favor, informe o terceiro número a ser ordenado: \"))\n",
    "maior = 0\n",
    "menor = 0\n",
    "meio = 0\n",
    "\n",
    "#Verificar qual é o maior número\n",
    "if numero_1 > numero_2:\n",
    "    maior = numero_1\n",
    "else:\n",
    "    maior = numero_2\n",
    "\n",
    "if numero_3 > maior:\n",
    "    maior = numero_3\n",
    "else:\n",
    "    pass\n",
    "\n",
    "#Verificar qual é o número\n",
    "if numero_1 < numero_2:\n",
    "    menor = numero_1\n",
    "else:\n",
    "    menor = numero_2\n",
    "\n",
    "if numero_3 < menor:\n",
    "    menor = numero_3\n",
    "else:\n",
    "    pass\n",
    "\n",
    "if numero_1 != maior and numero_1 != menor:\n",
    "    meio = numero_1\n",
    "elif numero_2 != maior and numero_2 != menor or numero_2 == numero_1:\n",
    "    meio = numero_2\n",
    "else:\n",
    "    meio = numero_3\n",
    "    \n",
    "print(f\"Os números em ordem crescente ficam: {menor}, {meio}, {maior}\")"
   ]
  },
  {
   "cell_type": "code",
   "execution_count": null,
   "id": "1eb71b5f",
   "metadata": {},
   "outputs": [],
   "source": []
  }
 ],
 "metadata": {
  "kernelspec": {
   "display_name": "Python 3 (ipykernel)",
   "language": "python",
   "name": "python3"
  },
  "language_info": {
   "codemirror_mode": {
    "name": "ipython",
    "version": 3
   },
   "file_extension": ".py",
   "mimetype": "text/x-python",
   "name": "python",
   "nbconvert_exporter": "python",
   "pygments_lexer": "ipython3",
   "version": "3.9.7"
  }
 },
 "nbformat": 4,
 "nbformat_minor": 5
}
