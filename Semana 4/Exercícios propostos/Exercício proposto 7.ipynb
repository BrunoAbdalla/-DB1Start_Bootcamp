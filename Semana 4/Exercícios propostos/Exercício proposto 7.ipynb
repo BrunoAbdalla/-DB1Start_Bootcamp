{
 "cells": [
  {
   "cell_type": "code",
   "execution_count": null,
   "id": "a9bc0f9e",
   "metadata": {},
   "outputs": [],
   "source": [
    "#7) Faça um programa que peça o preço de três produtos e que ele sempre escolha pelo mais barato:"
   ]
  },
  {
   "cell_type": "code",
   "execution_count": 9,
   "id": "c96fa7a7",
   "metadata": {},
   "outputs": [
    {
     "name": "stdout",
     "output_type": "stream",
     "text": [
      "Por favor, informe o preço do produto 1: 10\n",
      "Por favor, informe o preço do produto 2: 2\n",
      "Por favor, informe o preço do produto 3: 2\n",
      "Você pode comprar tanto o produto 2 quanto o produto 3, pois os preços são iguais!\n"
     ]
    }
   ],
   "source": [
    "# Perguntar o valor dos produtos:\n",
    "\n",
    "Produto_1 = float(input(\"Por favor, informe o preço do produto 1: \"))\n",
    "Produto_2 = float(input(\"Por favor, informe o preço do produto 2: \"))\n",
    "Produto_3 = float(input(\"Por favor, informe o preço do produto 3: \"))\n",
    "Menor = 0\n",
    "\n",
    "# Verificar qual é o menor valor:\n",
    "if Produto_1 < Produto_2:\n",
    "    Menor = Produto_1\n",
    "else:\n",
    "    Menor = Produto_2\n",
    "    \n",
    "if Produto_3 < Menor:\n",
    "    Menor = Produto_3\n",
    "else:\n",
    "    pass\n",
    "\n",
    "#Verificar se não temos produtos com os valores iguais e retornar para o usuário:\n",
    "\n",
    "if Produto_2 == Menor and Produto_1 == Produto_2 and Produto_1 != Produto_3:\n",
    "    print(\"Você pode comprar tanto o produto 1 quanto o produto 2, pois os preços são iguais!\")\n",
    "    \n",
    "elif Produto_2 == Menor and Produto_1 == Produto_2 and Produto_1 == Produto_3:\n",
    "    print(\"Você pode comprar qualquer produto, já que os três tem preços iguais\")\n",
    "    \n",
    "elif Produto_1 == Menor and Produto_1 == Produto_3:\n",
    "    print(\"Você pode comprar tanto o produto 1 quanto o produto 3, pois os preços são iguais!\")\n",
    "    \n",
    "elif Produto_2 == Menor and Produto_2 == Produto_3:\n",
    "    print(\"Você pode comprar tanto o produto 2 quanto o produto 3, pois os preços são iguais!\")\n",
    "    \n",
    "else:\n",
    "\n",
    "#Retornar para o usuário qual o melhor produto para compra:\n",
    "    if Menor == Produto_1:\n",
    "        print(\"Você deve comprar o produto 1, pois ele está mais barato!\")\n",
    "    if Menor == Produto_2:\n",
    "        print(\"Você deve comprar o produto 2, pois ele está mais barato!\")\n",
    "    if Menor == Produto_3:\n",
    "        print(\"Você deve comprar o produto 3, pois ele está mais barato!\")"
   ]
  },
  {
   "cell_type": "code",
   "execution_count": null,
   "id": "b8e4ac39",
   "metadata": {},
   "outputs": [],
   "source": []
  }
 ],
 "metadata": {
  "kernelspec": {
   "display_name": "Python 3 (ipykernel)",
   "language": "python",
   "name": "python3"
  },
  "language_info": {
   "codemirror_mode": {
    "name": "ipython",
    "version": 3
   },
   "file_extension": ".py",
   "mimetype": "text/x-python",
   "name": "python",
   "nbconvert_exporter": "python",
   "pygments_lexer": "ipython3",
   "version": "3.9.7"
  }
 },
 "nbformat": 4,
 "nbformat_minor": 5
}
