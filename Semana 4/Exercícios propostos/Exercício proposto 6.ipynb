{
 "cells": [
  {
   "cell_type": "code",
   "execution_count": null,
   "id": "15dcfc64",
   "metadata": {},
   "outputs": [],
   "source": [
    "#6) Faça um programa que leia 3 números e retorne o maior e o menor deles"
   ]
  },
  {
   "cell_type": "code",
   "execution_count": 28,
   "id": "5c66ebe4",
   "metadata": {},
   "outputs": [
    {
     "name": "stdout",
     "output_type": "stream",
     "text": [
      "Por favor, insira o primeiro numero: 2\n",
      "Por favor, insira o segundo numero: 5\n",
      "Por favor, insira o terceiro numero: a\n"
     ]
    },
    {
     "ename": "ValueError",
     "evalue": "could not convert string to float: 'a'",
     "output_type": "error",
     "traceback": [
      "\u001b[1;31m---------------------------------------------------------------------------\u001b[0m",
      "\u001b[1;31mValueError\u001b[0m                                Traceback (most recent call last)",
      "\u001b[1;32m~\\AppData\\Local\\Temp/ipykernel_16928/1051799152.py\u001b[0m in \u001b[0;36m<module>\u001b[1;34m\u001b[0m\n\u001b[0;32m      3\u001b[0m \u001b[0mnumero_1\u001b[0m \u001b[1;33m=\u001b[0m \u001b[0mfloat\u001b[0m\u001b[1;33m(\u001b[0m\u001b[0minput\u001b[0m\u001b[1;33m(\u001b[0m\u001b[1;34m\"Por favor, insira o primeiro numero: \"\u001b[0m\u001b[1;33m)\u001b[0m\u001b[1;33m)\u001b[0m\u001b[1;33m\u001b[0m\u001b[1;33m\u001b[0m\u001b[0m\n\u001b[0;32m      4\u001b[0m \u001b[0mnumero_2\u001b[0m \u001b[1;33m=\u001b[0m \u001b[0mfloat\u001b[0m\u001b[1;33m(\u001b[0m\u001b[0minput\u001b[0m\u001b[1;33m(\u001b[0m\u001b[1;34m\"Por favor, insira o segundo numero: \"\u001b[0m\u001b[1;33m)\u001b[0m\u001b[1;33m)\u001b[0m\u001b[1;33m\u001b[0m\u001b[1;33m\u001b[0m\u001b[0m\n\u001b[1;32m----> 5\u001b[1;33m \u001b[0mnumero_3\u001b[0m \u001b[1;33m=\u001b[0m \u001b[0mfloat\u001b[0m\u001b[1;33m(\u001b[0m\u001b[0minput\u001b[0m\u001b[1;33m(\u001b[0m\u001b[1;34m\"Por favor, insira o terceiro numero: \"\u001b[0m\u001b[1;33m)\u001b[0m\u001b[1;33m)\u001b[0m\u001b[1;33m\u001b[0m\u001b[1;33m\u001b[0m\u001b[0m\n\u001b[0m\u001b[0;32m      6\u001b[0m \u001b[0mmaior\u001b[0m \u001b[1;33m=\u001b[0m \u001b[1;36m0\u001b[0m\u001b[1;33m\u001b[0m\u001b[1;33m\u001b[0m\u001b[0m\n\u001b[0;32m      7\u001b[0m \u001b[0mmenor\u001b[0m \u001b[1;33m=\u001b[0m \u001b[1;36m0\u001b[0m\u001b[1;33m\u001b[0m\u001b[1;33m\u001b[0m\u001b[0m\n",
      "\u001b[1;31mValueError\u001b[0m: could not convert string to float: 'a'"
     ]
    }
   ],
   "source": [
    "#Pedir os três números para o usuário\n",
    "\n",
    "numero_1 = float(input(\"Por favor, insira o primeiro numero: \"))\n",
    "numero_2 = float(input(\"Por favor, insira o segundo numero: \"))\n",
    "numero_3 = float(input(\"Por favor, insira o terceiro numero: \"))\n",
    "maior = 0\n",
    "menor = 0\n",
    "\n",
    "#Teste se numero 1 é maior do que o 2:\n",
    "if numero_1 > numero_2:\n",
    "    maior = numero_1\n",
    "else:\n",
    "    maior = numero_2\n",
    "    \n",
    "#Teste se o numero 3 é maior do que o maior até agora:\n",
    "if numero_3 > maior:\n",
    "    maior = numero_3\n",
    "else:\n",
    "    pass\n",
    "\n",
    "#Teste se o número 1 é menor do que o 2:\n",
    "if numero_1 < numero_2:\n",
    "    menor = numero_1\n",
    "else:\n",
    "    menor = numero_2\n",
    "\n",
    "#Teste se o número 3 é menor do que o menor até aqui:\n",
    "if numero_3 < menor:\n",
    "    menor = numero_3\n",
    "else:\n",
    "    pass\n",
    "\n",
    "#Retornar a informação para o usuário:\n",
    "\n",
    "print(f\"O maior número informado foi o {maior} e o menor númeor informado foi o {menor}!\")\n",
    "        \n",
    "    "
   ]
  },
  {
   "cell_type": "code",
   "execution_count": null,
   "id": "0980a1df",
   "metadata": {},
   "outputs": [],
   "source": []
  },
  {
   "cell_type": "code",
   "execution_count": null,
   "id": "261ec7ae",
   "metadata": {},
   "outputs": [],
   "source": []
  }
 ],
 "metadata": {
  "kernelspec": {
   "display_name": "Python 3 (ipykernel)",
   "language": "python",
   "name": "python3"
  },
  "language_info": {
   "codemirror_mode": {
    "name": "ipython",
    "version": 3
   },
   "file_extension": ".py",
   "mimetype": "text/x-python",
   "name": "python",
   "nbconvert_exporter": "python",
   "pygments_lexer": "ipython3",
   "version": "3.9.7"
  }
 },
 "nbformat": 4,
 "nbformat_minor": 5
}
