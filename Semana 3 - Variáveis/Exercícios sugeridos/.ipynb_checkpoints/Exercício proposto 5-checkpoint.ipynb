{
 "cells": [
  {
   "cell_type": "code",
   "execution_count": 1,
   "id": "f15d0fb5",
   "metadata": {},
   "outputs": [
    {
     "name": "stdout",
     "output_type": "stream",
     "text": [
      "Digite a medida em metros que você deseja converter para centrímentos: 5.8\n",
      "A medida de 5.8 metros representa 580.0 centímetros\n"
     ]
    }
   ],
   "source": [
    "#5) Fazer um programa que converta metros em centímentos\n",
    "\n",
    "#Coleta da medida em metros a ser convertida\n",
    "medida_m = float(input(\"Digite a medida em metros que você deseja converter para centrímentos: \"))\n",
    "\n",
    "#Cálculo da conversão\n",
    "medida_cm = medida_m * 100\n",
    "\n",
    "#Reposta na tela\n",
    "print(f\"A medida de {medida_m} metros representa {medida_cm} centímetros\")"
   ]
  },
  {
   "cell_type": "code",
   "execution_count": null,
   "id": "7dc81112",
   "metadata": {},
   "outputs": [],
   "source": []
  }
 ],
 "metadata": {
  "kernelspec": {
   "display_name": "Python 3 (ipykernel)",
   "language": "python",
   "name": "python3"
  },
  "language_info": {
   "codemirror_mode": {
    "name": "ipython",
    "version": 3
   },
   "file_extension": ".py",
   "mimetype": "text/x-python",
   "name": "python",
   "nbconvert_exporter": "python",
   "pygments_lexer": "ipython3",
   "version": "3.9.7"
  }
 },
 "nbformat": 4,
 "nbformat_minor": 5
}
