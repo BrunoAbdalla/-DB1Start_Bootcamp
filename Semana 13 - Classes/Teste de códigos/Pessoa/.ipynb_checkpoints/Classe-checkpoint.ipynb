{
 "cells": [
  {
   "cell_type": "code",
   "execution_count": 49,
   "id": "db38739e",
   "metadata": {},
   "outputs": [],
   "source": [
    "#Criando uma classe\n",
    "class Pessoa:\n",
    "#Criando o método construtor da minha classe\n",
    "    def __init__(self, nome, idade, comendo=False, falando=False):\n",
    "        self.nome = nome\n",
    "        self.idade = idade\n",
    "        self.comendo = comendo\n",
    "        self.falando = falando\n",
    "\n",
    "#Criando os demais métodos:\n",
    "\n",
    "#Comer e parar de comer:\n",
    "    def comer(self, alimento):\n",
    "        if self.falando:\n",
    "            print(f'O {self.nome} não pode comer pois está falando!')\n",
    "            return\n",
    "        \n",
    "        if self.comendo:\n",
    "            print(f'O {self.nome} já está comendo.')\n",
    "            return\n",
    "        self.comendo = True\n",
    "        print(f'O {self.nome} está comendo {alimento}.')\n",
    "        \n",
    "    def parar_comer(self):\n",
    "        if not self.comendo:\n",
    "            print(f'O {self.nome} não está comendo!')\n",
    "            return\n",
    "        \n",
    "        print(f'O {self.nome} parou de comer.')\n",
    "        self.comendo = False\n",
    "        \n",
    "#Falar e parar de falar:\n",
    "\n",
    "    def falar(self, assunto):\n",
    "        if self.comendo:\n",
    "            print(f'O {self.nome} não pode falar pois está comendo!')\n",
    "            return\n",
    "        \n",
    "        if self.falando:\n",
    "            print(f'O {self.nome} já está falando sobre um assunto!')\n",
    "            return\n",
    "        \n",
    "        print(f'O {self.nome} está falando sobre {assunto}.')\n",
    "        self.falando = True\n",
    "        \n",
    "    def parar_falar(self):\n",
    "        if not self.falando:\n",
    "            print(f'O {self.nome} não está falando nada!')\n",
    "            return\n",
    "        print(f'O {self.nome} parou de falar.')\n",
    "        self.falando = False\n",
    "    "
   ]
  },
  {
   "cell_type": "code",
   "execution_count": 48,
   "id": "e4107b59",
   "metadata": {},
   "outputs": [
    {
     "name": "stdout",
     "output_type": "stream",
     "text": [
      "O Luiz está comendo maça.\n",
      "O Luiz parou de comer.\n",
      "O Luiz está comendo banana.\n",
      "O Luiz parou de comer.\n",
      "O Luiz está falando sobre futebol.\n",
      "O Luiz parou de falar.\n",
      "O Luiz está comendo frango.\n"
     ]
    }
   ],
   "source": [
    "#Criando o objeto (Luiz, 31 anos) e testando o resultado\n",
    "p1 = Pessoa('Luiz', 31)\n",
    "p1.comer('maça')\n",
    "p1.parar_comer()\n",
    "p1.comer('banana')\n",
    "p1.parar_comer()\n",
    "p1.falar('futebol')\n",
    "p1.parar_falar()\n",
    "p1.comer('frango')"
   ]
  },
  {
   "cell_type": "code",
   "execution_count": null,
   "id": "6d0daa9f",
   "metadata": {},
   "outputs": [],
   "source": []
  }
 ],
 "metadata": {
  "kernelspec": {
   "display_name": "Python 3 (ipykernel)",
   "language": "python",
   "name": "python3"
  },
  "language_info": {
   "codemirror_mode": {
    "name": "ipython",
    "version": 3
   },
   "file_extension": ".py",
   "mimetype": "text/x-python",
   "name": "python",
   "nbconvert_exporter": "python",
   "pygments_lexer": "ipython3",
   "version": "3.9.7"
  }
 },
 "nbformat": 4,
 "nbformat_minor": 5
}
