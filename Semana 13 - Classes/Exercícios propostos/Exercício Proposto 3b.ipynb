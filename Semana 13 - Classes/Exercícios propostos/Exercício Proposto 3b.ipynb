{
 "cells": [
  {
   "cell_type": "code",
   "execution_count": 14,
   "id": "c8054955",
   "metadata": {},
   "outputs": [],
   "source": [
    "#3) Escreva uma classe em Python que leia dois números e implemente uma exponenciação."
   ]
  },
  {
   "cell_type": "code",
   "execution_count": 15,
   "id": "034d80bf",
   "metadata": {},
   "outputs": [],
   "source": [
    "class Exponenciação:\n",
    "    def __init__(self):\n",
    "        self.base = int(input('Digite a base da exponenciação: '))\n",
    "        self.expoente = int(input('Digite a potência da exponeciação: '))\n",
    "        \n",
    "    def exponenciar(self):\n",
    "        exponenciar = self.base**self.expoente\n",
    "        return exponenciar\n",
    "    \n",
    "# Em um programa de verdade, possivelmente eu utilizaria duas variáveis no programa principal para receber o valor de entrada \n",
    "# para a criação da classe, mas como o enuciado fala que a classe fará a leitura, decidi deixar assim."
   ]
  },
  {
   "cell_type": "code",
   "execution_count": 16,
   "id": "2c1f1e89",
   "metadata": {},
   "outputs": [
    {
     "name": "stdout",
     "output_type": "stream",
     "text": [
      "Digite a base da exponenciação: 2\n",
      "Digite a potência da exponeciação: 3\n",
      "2\n",
      "3\n",
      "8\n"
     ]
    }
   ],
   "source": [
    "n1 = Exponenciação()\n",
    "print(n1.base)\n",
    "print(n1.expoente)\n",
    "print(n1.exponenciar())"
   ]
  },
  {
   "cell_type": "code",
   "execution_count": null,
   "id": "ee89db73",
   "metadata": {},
   "outputs": [],
   "source": []
  }
 ],
 "metadata": {
  "kernelspec": {
   "display_name": "Python 3 (ipykernel)",
   "language": "python",
   "name": "python3"
  },
  "language_info": {
   "codemirror_mode": {
    "name": "ipython",
    "version": 3
   },
   "file_extension": ".py",
   "mimetype": "text/x-python",
   "name": "python",
   "nbconvert_exporter": "python",
   "pygments_lexer": "ipython3",
   "version": "3.9.7"
  }
 },
 "nbformat": 4,
 "nbformat_minor": 5
}
