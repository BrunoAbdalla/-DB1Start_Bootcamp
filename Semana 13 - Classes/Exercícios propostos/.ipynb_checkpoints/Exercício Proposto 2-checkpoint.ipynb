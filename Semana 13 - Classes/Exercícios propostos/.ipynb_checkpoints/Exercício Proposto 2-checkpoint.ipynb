{
 "cells": [
  {
   "cell_type": "code",
   "execution_count": 7,
   "id": "77c6bb35",
   "metadata": {},
   "outputs": [],
   "source": [
    "#2) Escreva uma classe em Python para converter um numeral romano em um número inteiro.\n",
    "\n",
    "#Obs: Esse conversor só funcionará em números entre 1 e 3999."
   ]
  },
  {
   "cell_type": "code",
   "execution_count": 8,
   "id": "8f8e07ef",
   "metadata": {},
   "outputs": [],
   "source": [
    "\n",
    "class Conversão:\n",
    "    \n",
    "    def converter_inteiro(self, converter):\n",
    "        \n",
    "#Incluindo o dícionário com os números romanos:\n",
    "        romanos = {'I':1,'V':5,'X':10,'L':50,'C':100,'D':500,'M':1000,'IV':4,'IX':9,'XL':40,'XC':90,'CD':400,'CM':900}\n",
    "        scaniado = 0\n",
    "        convertido = 0\n",
    "\n",
    "#Estrutura de repetição que funcionará enquanto ainda não forem scaniados todos os elementos do número informado.\n",
    "        while len(converter) > scaniado:\n",
    "        \n",
    "#Decisão que verifica se o elemento analisado é o último e se existe a combinação de 2 caracteres juntos na lista dos romanos\n",
    "            if len(converter) > scaniado + 1 and converter[scaniado:scaniado+2] in romanos:\n",
    "                convertido = convertido + romanos[converter[scaniado:scaniado+2]]\n",
    "                scaniado = scaniado + 2\n",
    "            else:\n",
    "                convertido = convertido + romanos[converter[scaniado]]\n",
    "                scaniado = scaniado + 1\n",
    "        \n",
    "        return convertido"
   ]
  },
  {
   "cell_type": "code",
   "execution_count": 9,
   "id": "1e20a593",
   "metadata": {},
   "outputs": [
    {
     "data": {
      "text/plain": [
       "526"
      ]
     },
     "execution_count": 9,
     "metadata": {},
     "output_type": "execute_result"
    }
   ],
   "source": [
    "n1 = Conversão()\n",
    "n1.converter_inteiro('DXXVI')"
   ]
  }
 ],
 "metadata": {
  "kernelspec": {
   "display_name": "Python 3 (ipykernel)",
   "language": "python",
   "name": "python3"
  },
  "language_info": {
   "codemirror_mode": {
    "name": "ipython",
    "version": 3
   },
   "file_extension": ".py",
   "mimetype": "text/x-python",
   "name": "python",
   "nbconvert_exporter": "python",
   "pygments_lexer": "ipython3",
   "version": "3.9.7"
  }
 },
 "nbformat": 4,
 "nbformat_minor": 5
}
