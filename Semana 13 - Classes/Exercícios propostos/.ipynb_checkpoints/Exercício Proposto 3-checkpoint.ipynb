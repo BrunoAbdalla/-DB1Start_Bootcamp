{
 "cells": [
  {
   "cell_type": "code",
   "execution_count": 10,
   "id": "2fcd04f5",
   "metadata": {},
   "outputs": [],
   "source": [
    "#3) Escreva uma classe em Python que leia dois números e implemente uma exponenciação."
   ]
  },
  {
   "cell_type": "code",
   "execution_count": 11,
   "id": "13849e3d",
   "metadata": {},
   "outputs": [],
   "source": [
    "class Exponenciação:\n",
    "    def __init__(self, base, expoente):\n",
    "        self.base = base\n",
    "        self.expoente = expoente\n",
    "        \n",
    "    def exponenciar(self):\n",
    "        exponenciar = self.base**self.expoente\n",
    "        return exponenciar"
   ]
  },
  {
   "cell_type": "code",
   "execution_count": 12,
   "id": "9a9997f7",
   "metadata": {},
   "outputs": [
    {
     "data": {
      "text/plain": [
       "8"
      ]
     },
     "execution_count": 12,
     "metadata": {},
     "output_type": "execute_result"
    }
   ],
   "source": [
    "n1 = Exponenciação(2,3)\n",
    "n1.exponenciar()"
   ]
  }
 ],
 "metadata": {
  "kernelspec": {
   "display_name": "Python 3 (ipykernel)",
   "language": "python",
   "name": "python3"
  },
  "language_info": {
   "codemirror_mode": {
    "name": "ipython",
    "version": 3
   },
   "file_extension": ".py",
   "mimetype": "text/x-python",
   "name": "python",
   "nbconvert_exporter": "python",
   "pygments_lexer": "ipython3",
   "version": "3.9.7"
  }
 },
 "nbformat": 4,
 "nbformat_minor": 5
}
