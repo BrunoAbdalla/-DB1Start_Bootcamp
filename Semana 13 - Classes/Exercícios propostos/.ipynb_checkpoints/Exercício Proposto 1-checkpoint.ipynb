{
 "cells": [
  {
   "cell_type": "code",
   "execution_count": 13,
   "id": "da2220c7",
   "metadata": {},
   "outputs": [],
   "source": [
    "#1) Escreva uma classe em Python para converter um número inteiro em um numeral romano.\n",
    "\n",
    "#Obs: Esse conversor só funcionará em números entre 1 e 3999."
   ]
  },
  {
   "cell_type": "code",
   "execution_count": 14,
   "id": "aa1c1318",
   "metadata": {},
   "outputs": [],
   "source": [
    "# Criando a Classe que irá fazer a conversão\n",
    "class Conversão:\n",
    "\n",
    "#Método para a conversão:\n",
    "    def converter_romano(self, num):\n",
    "\n",
    "# Criando as listas que servirão de base para a conversão\n",
    "        decimal = [1000, 900, 500, 400, 100, 90, 50, 40, 10, 9, 5, 4, 1]\n",
    "        romano = ['M', 'CM', 'D', 'CD', 'C', 'XC', 'L', 'XL', 'X', 'IX', 'V', 'IV', 'I']\n",
    "        convertido = ''\n",
    "        cont = 0\n",
    "\n",
    "# Estrutura de repetição para comparar o número informado com os valores da lista decimal e, na sequência, comparar com o \n",
    "# respectivo valor na lista dos números romanos e fazer uma concatenação na variável convertido, que mostrará a conversão.\n",
    "        for n in decimal:\n",
    "            while num >= n:\n",
    "                num = num - n\n",
    "                convertido = convertido + romano[cont]\n",
    "            cont = cont + 1\n",
    "            \n",
    "        return convertido\n",
    "\n",
    "# Talvez seria interessante utilizar um dicionário para resolver esse exercício ao invés de duas listas.        "
   ]
  },
  {
   "cell_type": "code",
   "execution_count": 15,
   "id": "505b36da",
   "metadata": {},
   "outputs": [
    {
     "data": {
      "text/plain": [
       "'DXXVI'"
      ]
     },
     "execution_count": 15,
     "metadata": {},
     "output_type": "execute_result"
    }
   ],
   "source": [
    "# Instanciando um objeto\n",
    "n1 = Conversão()\n",
    "n1.converter_romano(526)"
   ]
  }
 ],
 "metadata": {
  "kernelspec": {
   "display_name": "Python 3 (ipykernel)",
   "language": "python",
   "name": "python3"
  },
  "language_info": {
   "codemirror_mode": {
    "name": "ipython",
    "version": 3
   },
   "file_extension": ".py",
   "mimetype": "text/x-python",
   "name": "python",
   "nbconvert_exporter": "python",
   "pygments_lexer": "ipython3",
   "version": "3.9.7"
  }
 },
 "nbformat": 4,
 "nbformat_minor": 5
}
