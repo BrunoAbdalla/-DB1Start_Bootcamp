{
 "cells": [
  {
   "cell_type": "code",
   "execution_count": 55,
   "id": "18df07a4",
   "metadata": {},
   "outputs": [],
   "source": [
    "#4)Escreva uma classe em Python que possua 2 métodos,um chamado adicionar_string e outro chamado inverter_string: \n",
    "# O primeiro método deverá receber uma string como parâmetro e armazená-la em um array. \n",
    "# O segundo, deverá listar as strings invertidas no seu conteúdo e também, na sua ordem de inclusão."
   ]
  },
  {
   "cell_type": "code",
   "execution_count": 56,
   "id": "88b4fc99",
   "metadata": {},
   "outputs": [],
   "source": [
    "#Criando a classe:\n",
    "class Strings:\n",
    "    \n",
    "    def __init__(self):\n",
    "        self.lista = []\n",
    "        \n",
    "    def adicionar_string(self, adicionar = ''):\n",
    "        self.lista.append(adicionar)\n",
    "        \n",
    "    def inverter_string(self):\n",
    "        self.invertida = self.lista[::-1]\n",
    "        for n in range(0, len(self.invertida)):\n",
    "            self.invertida[n] = self.invertida[n][::-1]"
   ]
  },
  {
   "cell_type": "code",
   "execution_count": 57,
   "id": "0b14599b",
   "metadata": {},
   "outputs": [
    {
     "name": "stdout",
     "output_type": "stream",
     "text": [
      "['Teste', 'Teste 2', 'Teste 3']\n"
     ]
    }
   ],
   "source": [
    "#Teste do método de armazenamento \n",
    "n1 = Strings()\n",
    "n1.adicionar_string('Teste')\n",
    "n1.adicionar_string('Teste 2')\n",
    "n1.adicionar_string('Teste 3')\n",
    "print(n1.lista)"
   ]
  },
  {
   "cell_type": "code",
   "execution_count": 58,
   "id": "4b23e4b6",
   "metadata": {},
   "outputs": [
    {
     "name": "stdout",
     "output_type": "stream",
     "text": [
      "['3 etseT', '2 etseT', 'etseT']\n",
      "['Teste', 'Teste 2', 'Teste 3']\n"
     ]
    }
   ],
   "source": [
    "#Teste do método de armazenagem\n",
    "n1.inverter_string()\n",
    "print(n1.invertida)\n",
    "print(n1.lista)"
   ]
  }
 ],
 "metadata": {
  "kernelspec": {
   "display_name": "Python 3 (ipykernel)",
   "language": "python",
   "name": "python3"
  },
  "language_info": {
   "codemirror_mode": {
    "name": "ipython",
    "version": 3
   },
   "file_extension": ".py",
   "mimetype": "text/x-python",
   "name": "python",
   "nbconvert_exporter": "python",
   "pygments_lexer": "ipython3",
   "version": "3.9.7"
  }
 },
 "nbformat": 4,
 "nbformat_minor": 5
}
