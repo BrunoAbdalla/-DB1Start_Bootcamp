{
 "cells": [
  {
   "cell_type": "code",
   "execution_count": null,
   "id": "e41f3854",
   "metadata": {},
   "outputs": [],
   "source": [
    "#17) Faça um programa que valide uma data no formato dd/mm/aaaa"
   ]
  },
  {
   "cell_type": "code",
   "execution_count": 6,
   "id": "7f546949",
   "metadata": {},
   "outputs": [
    {
     "name": "stdout",
     "output_type": "stream",
     "text": [
      "Por favor digite uma data no formato dd/mm/aaaa, infome o dia desejado (dd): 29\n",
      "Agora infome o mês desejado (mm): 02\n",
      "Por fim, infome o ano desejado (aaaa): 1964\n",
      "A data informada 29/2/1964 é uma data válida\n"
     ]
    }
   ],
   "source": [
    "#Solicitar a data para o usuário\n",
    "\n",
    "dia = int(input(\"Por favor digite uma data no formato dd/mm/aaaa, infome o dia desejado (dd): \"))\n",
    "mes = int(input(\"Agora infome o mês desejado (mm): \"))\n",
    "ano = mês = int(input(\"Por fim, infome o ano desejado (aaaa): \"))\n",
    "\n",
    "# Verificar se o ano é positivo\n",
    "if ano > 0:\n",
    "    \n",
    "    # Verificar se o valor do mês está entre 1 e 12\n",
    "    if mes >= 1 and mes <= 12:\n",
    "        \n",
    "        #Verificar se o ano é bissexto\n",
    "        if mes == 2:\n",
    "            \n",
    "            if ano % 4 == 0:\n",
    "                \n",
    "                if ano % 100 !=0 or ano % 400 ==0:\n",
    "                    \n",
    "                    #Verificar se o dia está entre 01 e 29\n",
    "                    if dia <= 29 and dia >=1:\n",
    "                        print(f\"A data informada {dia}/{mes}/{ano} é uma data válida\")\n",
    "                    else:\n",
    "                        print(f\"A data informada {dia}/{mes}/{ano} NÃO é uma data válida\")\n",
    "                        \n",
    "                else:\n",
    "                    #Verificar se o dia está entre 01 e 28\n",
    "                    if dia <= 28 and dia >=1:\n",
    "                        print(f\"A data informada {dia}/{mes}/{ano} é uma data válida\")\n",
    "                    else:\n",
    "                        print(f\"A data informada {dia}/{mes}/{ano} NÃO é uma data válida\")\n",
    "                        \n",
    "            else:\n",
    "                #Verificar se o dia está entre 01 e 28\n",
    "                if dia <= 28 and dia >=1:\n",
    "                    print(f\"A data informada {dia}/{mes}/{ano} é uma data válida\")\n",
    "                else:\n",
    "                    print(f\"A data informada {dia}/{mes}/{ano} NÃO é uma data válida\")\n",
    "        \n",
    "        #Verificar se o mês tem 30 dias    \n",
    "        elif mes == 4 or mes == 6 or mes == 9 or mes == 11:\n",
    "            \n",
    "            #Verificar se o dia está entre 01 e 30\n",
    "            if dia <=30 and dia >=1:\n",
    "                print(f\"A data informada {dia}/{mes}/{ano} é uma data válida\")\n",
    "            else:\n",
    "                print(f\"A data informada {dia}/{mes}/{ano} NÃO é uma data válida\")\n",
    "        else:\n",
    "            #Verificar se o dia está entre 01 e 31\n",
    "            if dia <= 31 and dia >= 1:\n",
    "                print(f\"A data informada {dia}/{mes}/{ano} é uma data válida\")\n",
    "            else:\n",
    "                print(f\"A data informada {dia}/{mes}/{ano} NÃO é uma data válida\")\n",
    "    else:\n",
    "        print(f\"A data informada {dia}/{mes}/{ano} NÃO é uma data válida\")\n",
    "else:\n",
    "    print(f\"A data informada {dia}/{mes}/{ano} NÃO é uma data válida\")"
   ]
  },
  {
   "cell_type": "code",
   "execution_count": null,
   "id": "cc2f2e5d",
   "metadata": {},
   "outputs": [],
   "source": []
  }
 ],
 "metadata": {
  "kernelspec": {
   "display_name": "Python 3 (ipykernel)",
   "language": "python",
   "name": "python3"
  },
  "language_info": {
   "codemirror_mode": {
    "name": "ipython",
    "version": 3
   },
   "file_extension": ".py",
   "mimetype": "text/x-python",
   "name": "python",
   "nbconvert_exporter": "python",
   "pygments_lexer": "ipython3",
   "version": "3.9.7"
  }
 },
 "nbformat": 4,
 "nbformat_minor": 5
}
