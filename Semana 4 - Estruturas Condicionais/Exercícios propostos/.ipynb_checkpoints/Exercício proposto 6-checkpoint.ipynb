{
 "cells": [
  {
   "cell_type": "code",
   "execution_count": null,
   "id": "1e1bed4a",
   "metadata": {},
   "outputs": [],
   "source": [
    "#6) Faça um programa que leia 3 números e retorne o maior e o menor deles"
   ]
  },
  {
   "cell_type": "code",
   "execution_count": 27,
   "id": "57c411eb",
   "metadata": {},
   "outputs": [
    {
     "name": "stdout",
     "output_type": "stream",
     "text": [
      "Por favor, insira o primeiro numero: 150\n",
      "Por favor, insira o segundo numero: -20\n",
      "Por favor, insira o terceiro numero: -20\n",
      "O maior número informado foi o 150.0 e o menor númeor informado foi o -20.0!\n"
     ]
    }
   ],
   "source": [
    "#Pedir os três números para o usuário\n",
    "\n",
    "numero_1 = float(input(\"Por favor, insira o primeiro numero: \"))\n",
    "numero_2 = float(input(\"Por favor, insira o segundo numero: \"))\n",
    "numero_3 = float(input(\"Por favor, insira o terceiro numero: \"))\n",
    "maior = 0\n",
    "menor = 0\n",
    "\n",
    "#Teste se numero 1 é maior do que o 2:\n",
    "if numero_1 > numero_2:\n",
    "    maior = numero_1\n",
    "else:\n",
    "    maior = numero_2\n",
    "    \n",
    "#Teste se o numero 3 é maior do que o maior até agora:\n",
    "if numero_3 > maior:\n",
    "    maior = numero_3\n",
    "else:\n",
    "    pass\n",
    "\n",
    "#Teste se o número 1 é menor do que o 2:\n",
    "if numero_1 < numero_2:\n",
    "    menor = numero_1\n",
    "else:\n",
    "    menor = numero_2\n",
    "\n",
    "#Teste se o número 3 é menor do que o menor até aqui:\n",
    "if numero_3 < menor:\n",
    "    menor = numero_3\n",
    "else:\n",
    "    pass\n",
    "\n",
    "#Retornar a informação para o usuário:\n",
    "\n",
    "print(f\"O maior número informado foi o {maior} e o menor númeor informado foi o {menor}!\")\n",
    "        \n",
    "    "
   ]
  },
  {
   "cell_type": "code",
   "execution_count": null,
   "id": "a8e52a0f",
   "metadata": {},
   "outputs": [],
   "source": []
  },
  {
   "cell_type": "code",
   "execution_count": null,
   "id": "b7c30db2",
   "metadata": {},
   "outputs": [],
   "source": []
  }
 ],
 "metadata": {
  "kernelspec": {
   "display_name": "Python 3 (ipykernel)",
   "language": "python",
   "name": "python3"
  },
  "language_info": {
   "codemirror_mode": {
    "name": "ipython",
    "version": 3
   },
   "file_extension": ".py",
   "mimetype": "text/x-python",
   "name": "python",
   "nbconvert_exporter": "python",
   "pygments_lexer": "ipython3",
   "version": "3.9.7"
  }
 },
 "nbformat": 4,
 "nbformat_minor": 5
}
