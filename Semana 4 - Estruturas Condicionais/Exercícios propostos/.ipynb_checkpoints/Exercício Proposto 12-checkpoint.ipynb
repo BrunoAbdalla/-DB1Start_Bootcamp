{
 "cells": [
  {
   "cell_type": "code",
   "execution_count": null,
   "id": "c103babd",
   "metadata": {},
   "outputs": [],
   "source": [
    "#12) Faça um programa que retorne os dias de semana: 1- Domingo, 2- Segunda-feira ... 7- Sábado, ou erro caso haja outra opção"
   ]
  },
  {
   "cell_type": "code",
   "execution_count": 3,
   "id": "d7880816",
   "metadata": {},
   "outputs": [
    {
     "name": "stdout",
     "output_type": "stream",
     "text": [
      "Por favor, escolha o número que representa o dia da semana que você está: 15\n",
      "Opção inválida, por favor escolha um número inteiro entre 1 e 7\n"
     ]
    }
   ],
   "source": [
    "#Solicitar o dia da semana para o usuário:\n",
    "\n",
    "dia_selecionado = int(input(\"Por favor, escolha o número que representa o dia da semana que você está: \"))\n",
    "\n",
    "#Retorno para o usuário\n",
    "if dia_selecionado == 1:\n",
    "    print(f\"Você digitou {dia_selecionado}, então hoje é Domingo.\")\n",
    "elif dia_selecionado == 2:\n",
    "    print(f\"Você digitou {dia_selecionado}, então hoje é Segunda-feira.\")\n",
    "elif dia_selecionado == 3:\n",
    "    print(f\"Você digitou {dia_selecionado}, então hoje é Terça-feira.\")\n",
    "elif dia_selecionado == 4:\n",
    "    print(f\"Você digitou {dia_selecionado}, então hoje é Quarta-feira.\")\n",
    "elif dia_selecionado == 5:\n",
    "    print(f\"Você digitou {dia_selecionado}, então hoje é Quinta-feira.\")\n",
    "elif dia_selecionado == 6:\n",
    "    print(f\"Você digitou {dia_selecionado}, então hoje é Sexta-feira (Sextou!).\")\n",
    "elif dia_selecionado == 7:\n",
    "    print(f\"Você digitou {dia_selecionado}, então hoje é Sábado.\")\n",
    "else:\n",
    "    print(\"Opção inválida, por favor escolha um número inteiro entre 1 e 7\")"
   ]
  },
  {
   "cell_type": "code",
   "execution_count": null,
   "id": "554de6be",
   "metadata": {},
   "outputs": [],
   "source": []
  }
 ],
 "metadata": {
  "kernelspec": {
   "display_name": "Python 3 (ipykernel)",
   "language": "python",
   "name": "python3"
  },
  "language_info": {
   "codemirror_mode": {
    "name": "ipython",
    "version": 3
   },
   "file_extension": ".py",
   "mimetype": "text/x-python",
   "name": "python",
   "nbconvert_exporter": "python",
   "pygments_lexer": "ipython3",
   "version": "3.9.7"
  }
 },
 "nbformat": 4,
 "nbformat_minor": 5
}
