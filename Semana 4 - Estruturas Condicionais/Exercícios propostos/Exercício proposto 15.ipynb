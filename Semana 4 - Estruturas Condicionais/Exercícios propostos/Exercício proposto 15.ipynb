{
 "cells": [
  {
   "cell_type": "code",
   "execution_count": null,
   "id": "883576e9",
   "metadata": {},
   "outputs": [],
   "source": [
    "#15) Faça um programa que resolva equações do segundo grau: aX² + bx + c"
   ]
  },
  {
   "cell_type": "code",
   "execution_count": 9,
   "id": "d0a97171",
   "metadata": {},
   "outputs": [
    {
     "name": "stdout",
     "output_type": "stream",
     "text": [
      "Formato da equação suportada: aX² + bx + c = 0\n",
      "\n",
      "Entre com o valor de a na equação que deseja resolver: 1\n",
      "\n",
      "Entre com o valor de b na equação que deseja resolver: -5\n",
      "\n",
      "Entre com o valor de c na equação que deseja resolver: 6\n",
      "\n",
      "A equação 1.0x² + -5.0x + 6.0 = 0 possui as seguintes soluções:\n",
      "x = 3.0 e x'= 2.0\n"
     ]
    }
   ],
   "source": [
    "#Pedir os valores de a, b e c\n",
    "print(\"Formato da equação suportada: aX² + bx + c = 0\")\n",
    "print()\n",
    "\n",
    "a = float(input(\"Entre com o valor de a na equação que deseja resolver: \"))\n",
    "print()\n",
    "b = float(input(\"Entre com o valor de b na equação que deseja resolver: \"))\n",
    "print()\n",
    "c = float(input(\"Entre com o valor de c na equação que deseja resolver: \"))\n",
    "print()\n",
    "\n",
    "\n",
    "#Cálculo de delta\n",
    "delta = b**2 - 4 * a * c\n",
    "\n",
    "#Soluções da equação\n",
    "x_1 = (-b + (delta ** (1/2))) / (2 * a)\n",
    "\n",
    "x_2 = (-b - (delta ** (1/2))) / (2 * a)\n",
    "\n",
    "#Devolução das respostas ao usuário:\n",
    "print(f\"A equação {a}x² + {b}x + {c} = 0 possui as seguintes soluções:\")\n",
    "print(f\"x = {x_1} e x'= {x_2}\")"
   ]
  },
  {
   "cell_type": "code",
   "execution_count": null,
   "id": "99a7f2f6",
   "metadata": {},
   "outputs": [],
   "source": []
  }
 ],
 "metadata": {
  "kernelspec": {
   "display_name": "Python 3 (ipykernel)",
   "language": "python",
   "name": "python3"
  },
  "language_info": {
   "codemirror_mode": {
    "name": "ipython",
    "version": 3
   },
   "file_extension": ".py",
   "mimetype": "text/x-python",
   "name": "python",
   "nbconvert_exporter": "python",
   "pygments_lexer": "ipython3",
   "version": "3.9.7"
  }
 },
 "nbformat": 4,
 "nbformat_minor": 5
}
