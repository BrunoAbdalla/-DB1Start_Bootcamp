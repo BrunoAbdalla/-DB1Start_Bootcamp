{
 "cells": [
  {
   "cell_type": "code",
   "execution_count": null,
   "id": "408681de",
   "metadata": {},
   "outputs": [],
   "source": [
    "#18) Faça um programa que leia um número inteiro menor que 1000 e que imprima o número de unidades, dezenas e centenas que\n",
    "# esse número possui:"
   ]
  },
  {
   "cell_type": "code",
   "execution_count": 3,
   "id": "121dcb66",
   "metadata": {},
   "outputs": [
    {
     "name": "stdout",
     "output_type": "stream",
     "text": [
      "Por favor digite o número inteiro entre 1 e 999 que deve ser analisado: 999\n",
      "O número informado 999 possui: 9 centenas, 9 dezenas e 9 unidades\n"
     ]
    }
   ],
   "source": [
    "#Pedir o número para o usuário:\n",
    "\n",
    "numero = int(input(\"Por favor digite o número inteiro entre 1 e 999 que deve ser analisado: \"))\n",
    "\n",
    "#Verificar se o número está no intervalo desejado\n",
    "if numero > 999:\n",
    "    print(\"Númro inválido, por favor, informe um número inteiro entre 1 e 999: \")\n",
    "\n",
    "#Fazer os cálculos para retornar o valo desejado:\n",
    "else:\n",
    "    centena = numero // 100\n",
    "    dezena = (numero - (centena*100)) // 10\n",
    "    unidade = numero - (centena*100) - (dezena*10)\n",
    "    \n",
    "    print(f\"O número informado {numero} possui: {centena} centenas, {dezena} dezenas e {unidade} unidades\")"
   ]
  },
  {
   "cell_type": "code",
   "execution_count": null,
   "id": "c91b9842",
   "metadata": {},
   "outputs": [],
   "source": []
  }
 ],
 "metadata": {
  "kernelspec": {
   "display_name": "Python 3 (ipykernel)",
   "language": "python",
   "name": "python3"
  },
  "language_info": {
   "codemirror_mode": {
    "name": "ipython",
    "version": 3
   },
   "file_extension": ".py",
   "mimetype": "text/x-python",
   "name": "python",
   "nbconvert_exporter": "python",
   "pygments_lexer": "ipython3",
   "version": "3.9.7"
  }
 },
 "nbformat": 4,
 "nbformat_minor": 5
}
