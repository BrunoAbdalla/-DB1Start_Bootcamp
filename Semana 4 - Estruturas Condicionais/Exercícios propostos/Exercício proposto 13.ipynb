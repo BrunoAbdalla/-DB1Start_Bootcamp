{
 "cells": [
  {
   "cell_type": "code",
   "execution_count": null,
   "id": "d249d3da",
   "metadata": {},
   "outputs": [],
   "source": [
    "#13) Faça um programa que leia duas notas de um aluno no decorrer do semestre, faça a média, dê uma nota conceito, seguindo:\n",
    "\n",
    "#Média maior ou igual a 9: A\n",
    "#Média maior ou igual a 7.5 e menor do que 9: B\n",
    "#Média maior ou igual a 6 e menor do que 7.5: C\n",
    "#Média maior ou igual a 4 e menor do que 6: D\n",
    "#Média menor do que 4: E\n",
    "\n",
    "#Notas A, B ou C Exibir \"Aprovado\"\n",
    "#Notas D ou E Exibir \"Reprovado\""
   ]
  },
  {
   "cell_type": "code",
   "execution_count": 1,
   "id": "fc7a1dc5",
   "metadata": {},
   "outputs": [
    {
     "name": "stdout",
     "output_type": "stream",
     "text": [
      "Por favor, informe a primeira nota do aluno: 10\n",
      "Por favor, informe a segunda nota nota do aluno: 2\n",
      "O aluno teve conceito C e, portanto, está aprovado!\n"
     ]
    }
   ],
   "source": [
    "#Critérios predefinidos do sistema:\n",
    "Limite_1 = 9\n",
    "Limite_2 = 7.5\n",
    "Limite_3 = 6\n",
    "Limite_4 = 4\n",
    "\n",
    "#Pedir as notas para o usuário\n",
    "nota_1 = float(input(\"Por favor, informe a primeira nota do aluno: \"))\n",
    "nota_2 = float(input(\"Por favor, informe a segunda nota nota do aluno: \"))\n",
    "\n",
    "media = (nota_1 + nota_2) / 2\n",
    "\n",
    "#Definir a nota conceito e retornar para o usuário se aprovado ou não\n",
    "if media > Limite_1:\n",
    "    print(\"O aluno teve conceito A e, portanto, está aprovado!\")\n",
    "elif media >= Limite_2:\n",
    "    print(\"O aluno teve conceito B e, portanto, está aprovado!\")\n",
    "elif media >= Limite_3:\n",
    "    print(\"O aluno teve conceito C e, portanto, está aprovado!\")\n",
    "elif media >= Limite_4:\n",
    "    print(\"O aluno teve conceito D e, portanto, está reprovado!\")\n",
    "elif media < Limite_4:\n",
    "    print(\"O aluno teve conceito E e, portanto, está reprovado!\")\n",
    "else:\n",
    "    print(\"Erro ao informar as notas, favor verifique as notas e tente novamente.\")"
   ]
  },
  {
   "cell_type": "code",
   "execution_count": null,
   "id": "6af49c6c",
   "metadata": {},
   "outputs": [],
   "source": []
  }
 ],
 "metadata": {
  "kernelspec": {
   "display_name": "Python 3 (ipykernel)",
   "language": "python",
   "name": "python3"
  },
  "language_info": {
   "codemirror_mode": {
    "name": "ipython",
    "version": 3
   },
   "file_extension": ".py",
   "mimetype": "text/x-python",
   "name": "python",
   "nbconvert_exporter": "python",
   "pygments_lexer": "ipython3",
   "version": "3.9.7"
  }
 },
 "nbformat": 4,
 "nbformat_minor": 5
}
