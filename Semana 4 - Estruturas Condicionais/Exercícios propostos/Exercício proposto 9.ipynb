{
 "cells": [
  {
   "cell_type": "code",
   "execution_count": 7,
   "id": "4fff6006",
   "metadata": {},
   "outputs": [
    {
     "name": "stdout",
     "output_type": "stream",
     "text": [
      "Por favor, digite a letra M caso o seu turno seja matutino, V caso o seu turno seja vespertino\n",
      " ou N caso o seu turno seja Noturno: N\n",
      "Boa noite!\n"
     ]
    }
   ],
   "source": [
    "# Pedir a o turno para o usuário\n",
    "\n",
    "turno_usuario = input(\"Por favor, digite a letra M caso o seu turno seja matutino, V caso o seu turno seja vespertino\\n ou N caso o seu turno seja Noturno: \")\n",
    "\n",
    "# Verificar se o turno informado é matutino e retornar a mensagem para o usuário\n",
    "if turno_usuario == \"m\" or turno_usuario == \"M\":\n",
    "    print(\"Bom dia!\")\n",
    "    \n",
    "# Verificar se o turno informado é vespertino e retornar a mensagem para o usuário\n",
    "elif turno_usuario == \"v\" or turno_usuario == \"V\":\n",
    "    print(\"Boa tarde!\")\n",
    "    \n",
    "# Verificar se o turno informado é noturno e retornar a mensagem para o usuário\n",
    "elif turno_usuario == \"n\" or turno_usuario == \"N\":\n",
    "    print(\"Boa noite!\")\n",
    "        \n",
    "# Retornar a mensagem de Opção inválida\n",
    "else:\n",
    "    print(f\"Você informou {turno_usuario}, que não é uma opção válida, favor informe uma opção válida.\")"
   ]
  },
  {
   "cell_type": "code",
   "execution_count": null,
   "id": "ec993202",
   "metadata": {},
   "outputs": [],
   "source": [
    "#9)"
   ]
  }
 ],
 "metadata": {
  "kernelspec": {
   "display_name": "Python 3 (ipykernel)",
   "language": "python",
   "name": "python3"
  },
  "language_info": {
   "codemirror_mode": {
    "name": "ipython",
    "version": 3
   },
   "file_extension": ".py",
   "mimetype": "text/x-python",
   "name": "python",
   "nbconvert_exporter": "python",
   "pygments_lexer": "ipython3",
   "version": "3.9.7"
  }
 },
 "nbformat": 4,
 "nbformat_minor": 5
}
