{
 "cells": [
  {
   "cell_type": "code",
   "execution_count": null,
   "id": "9bd76c7c",
   "metadata": {},
   "outputs": [],
   "source": [
    "#2) Faça um programa que peça um número ao usuário e diga se o valor é positivo ou negativo:"
   ]
  },
  {
   "cell_type": "code",
   "execution_count": 4,
   "id": "cca77a50",
   "metadata": {},
   "outputs": [
    {
     "name": "stdout",
     "output_type": "stream",
     "text": [
      "Por favor, informe qual número você gostaria de testar: 0\n",
      "O número informado é o zero, que não é nem negativo, nem positivo!\n"
     ]
    }
   ],
   "source": [
    "# Pedir o número para o usuário\n",
    "\n",
    "numero_testado = float(input(\"Por favor, informe qual número você gostaria de testar: \"))\n",
    "\n",
    "# Testar se o número é negativo e, caso seja, retornar a mensagem ao usuário\n",
    "if numero_testado < 0:\n",
    "    print(f\"O número {numero_testado} informado é um número negativo!\")\n",
    "\n",
    "# Testar se o número é zero e, caso seja, restornar a mensagem ao usuário\n",
    "elif numero_testado == 0:\n",
    "    print(\"O número informado é o zero, que não é nem negativo, nem positivo!\")\n",
    "\n",
    "# Retornar a mensagem para o usuário que o número é positivo\n",
    "\n",
    "else:\n",
    "    print(f\"O número {numero_testado} informado é um número positivo!\")"
   ]
  },
  {
   "cell_type": "code",
   "execution_count": null,
   "id": "cad2986e",
   "metadata": {},
   "outputs": [],
   "source": []
  }
 ],
 "metadata": {
  "kernelspec": {
   "display_name": "Python 3 (ipykernel)",
   "language": "python",
   "name": "python3"
  },
  "language_info": {
   "codemirror_mode": {
    "name": "ipython",
    "version": 3
   },
   "file_extension": ".py",
   "mimetype": "text/x-python",
   "name": "python",
   "nbconvert_exporter": "python",
   "pygments_lexer": "ipython3",
   "version": "3.9.7"
  }
 },
 "nbformat": 4,
 "nbformat_minor": 5
}
