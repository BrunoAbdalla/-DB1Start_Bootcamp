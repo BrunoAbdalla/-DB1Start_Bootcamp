{
 "cells": [
  {
   "cell_type": "code",
   "execution_count": null,
   "id": "6a92de25",
   "metadata": {},
   "outputs": [],
   "source": [
    "#10) Faça um programa que calcule o reajuste salarial dos funcionários, baseado nos critérios:\n",
    "# Sálário menor ou igual a R$280,00: Aumento de 20%;\n",
    "# Salário maior do que R$280,00 até R$700,00: Aumento de 15%;\n",
    "# Salário maior do que R$700,00 até R$1500,00: Aumento de 10%;\n",
    "# Salário maior do que R$1500,00: Aumento de 5%.\n",
    "\n",
    "#Retornar: Sálario atual, percentual de aumento, valor do aumento e salário novo\n"
   ]
  },
  {
   "cell_type": "code",
   "execution_count": 7,
   "id": "a263a8fe",
   "metadata": {},
   "outputs": [
    {
     "name": "stdout",
     "output_type": "stream",
     "text": [
      "Por favor, informe o salário atual do colaborador: 1600\n",
      "O salário do colaborador era de: R$1,600.00\n",
      "O colaborador receberá um aumento de 5.0%\n",
      "O aumento recebido será de: R$80.00\n",
      "O novo salário do colaborador será de 1,680.00\n"
     ]
    }
   ],
   "source": [
    "#Solicitar o salário atual para o usuário:\n",
    "salario_inicial = float(input(\"Por favor, informe o salário atual do colaborador: \"))\n",
    "\n",
    "#Premissas da empresa:\n",
    "Faixa_1 = 0.2\n",
    "Faixa_2 = 0.15\n",
    "Faixa_3 = 0.1\n",
    "Faixa_4 = 0.05\n",
    "\n",
    "Limite_1 = 280\n",
    "Limite_2 = 700\n",
    "Limite_3 = 1500\n",
    "\n",
    "#Variáveis calculadas\n",
    "aumento = 0\n",
    "salario_novo = 0\n",
    "percentual_aumento = 0\n",
    "\n",
    "#Definir o percentual aplicado\n",
    "if salario_inicial <= Limite_1:\n",
    "    percentual_aumento = Faixa_1\n",
    "    \n",
    "elif salario_inicial > Limite_1 and salario_inicial <= Limite_2:\n",
    "    percentual_aumento = Faixa_2\n",
    "\n",
    "elif salario_inicial > Limite_2 and salario_inicial <= Limite_3:\n",
    "    percentual_aumento = Faixa_3\n",
    "\n",
    "else:\n",
    "    percentual_aumento = Faixa_4\n",
    "\n",
    "#Calculo do aumento e do salário final:\n",
    "aumento = salario_inicial * percentual_aumento\n",
    "salario_novo = aumento + salario_inicial\n",
    "\n",
    "print(f\"O salário do colaborador era de: R${salario_inicial:,.2f}\")\n",
    "print(f\"O colaborador receberá um aumento de {percentual_aumento * 100}%\")\n",
    "print(f\"O aumento recebido será de: R${aumento:,.2f}\")\n",
    "print(f\"O novo salário do colaborador será de {salario_novo:,.2f}\")\n"
   ]
  },
  {
   "cell_type": "code",
   "execution_count": null,
   "id": "1118c45a",
   "metadata": {},
   "outputs": [],
   "source": []
  }
 ],
 "metadata": {
  "kernelspec": {
   "display_name": "Python 3 (ipykernel)",
   "language": "python",
   "name": "python3"
  },
  "language_info": {
   "codemirror_mode": {
    "name": "ipython",
    "version": 3
   },
   "file_extension": ".py",
   "mimetype": "text/x-python",
   "name": "python",
   "nbconvert_exporter": "python",
   "pygments_lexer": "ipython3",
   "version": "3.9.7"
  }
 },
 "nbformat": 4,
 "nbformat_minor": 5
}
