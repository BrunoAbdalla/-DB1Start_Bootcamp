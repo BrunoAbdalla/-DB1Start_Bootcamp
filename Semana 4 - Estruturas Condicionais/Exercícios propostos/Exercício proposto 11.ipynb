{
 "cells": [
  {
   "cell_type": "code",
   "execution_count": null,
   "id": "ab38deb7",
   "metadata": {},
   "outputs": [],
   "source": [
    "#11) Fazer um programa de folha de pagamento que calcule o sálario líquido do colaborador e informar o valor retido para o \n",
    "#FGTS 11% (Não descontando).\n",
    "\n",
    "# Descontos: \n",
    "# 3% Sindicato;\n",
    "# IR:\n",
    "# Salário Bruto até 900 (inclusive) – isento\n",
    "# Salário Bruto até 1500 (inclusive) – desconto de 5%\n",
    "# Salário Bruto até 2500 (inclusive) – desconto de 10%\n",
    "# Salário Bruto acima de 2500 – desconto de 20%\n",
    "\n",
    "#Informações a serem exibidas:\n",
    "#Valor depositado no FGTS;\n",
    "#Salário Bruto;\n",
    "#Valor descontado do Sindicato;\n",
    "#Valor descontado do IR;\n",
    "#Valor do salário líquido"
   ]
  },
  {
   "cell_type": "code",
   "execution_count": 5,
   "id": "535e3776",
   "metadata": {},
   "outputs": [
    {
     "name": "stdout",
     "output_type": "stream",
     "text": [
      "Por favor, digite o valor do salário bruto do colaborador: 10000\n",
      "\n",
      "Salário bruto:           + R$10,000.00\n",
      "Desconto do Sindicato:   - R$300.00 (3.0%)\n",
      "Desconto do IR:          - R$2,000.00 (20.0%)\n",
      "\n",
      "Salário Líquido:           R$7,700.00\n",
      "\n",
      "O valor depositado no FGTS foi de R$1,100.00 (11.0%)\n"
     ]
    }
   ],
   "source": [
    "#Valores fixados como premissas\n",
    "\n",
    "#Descontos percentuais fixos, independente do valor do salário:\n",
    "taxa_FGTS = 0.11\n",
    "taxa_sindicato = 0.03\n",
    "\n",
    "#Dados do desconto do IR\n",
    "#Valores limite de salário para cada faixa\n",
    "limite_1 = 900\n",
    "limite_2 = 1500\n",
    "limite_3 = 2500\n",
    "\n",
    "#Percentuais descontados para cada faixa\n",
    "faixa_1 = 0\n",
    "faixa_2 = 0.05\n",
    "faixa_3 = 0.1\n",
    "faixa_4 = 0.2\n",
    "\n",
    "#Solicitar o salário do colaborador:\n",
    "salario_inicial = float(input(\"Por favor, digite o valor do salário bruto do colaborador: \"))\n",
    "\n",
    "if salario_inicial <= limite_1:\n",
    "    taxa_IR = faixa_1\n",
    "elif salario_inicial > limite_1 and salario_inicial <= limite_2:\n",
    "    taxa_IR = faixa_2\n",
    "elif salario_inicial > limite_2 and salario_inicial <= limite_3:\n",
    "    taxa_IR = faixa_3\n",
    "else:\n",
    "    taxa_IR = faixa_4\n",
    "\n",
    "#Cálculos dos descontos:\n",
    "desconto_sindicato = taxa_sindicato * salario_inicial\n",
    "desconto_IR = taxa_IR * salario_inicial\n",
    "\n",
    "#Cálculo do FGTS:\n",
    "valor_FGTS = taxa_FGTS * salario_inicial\n",
    "\n",
    "#Cálculo do salário líquido:\n",
    "salario_liquido = salario_inicial - desconto_sindicato - desconto_IR\n",
    "\n",
    "#Retorno ao usuário\n",
    "print()\n",
    "print(f\"Salário bruto:           + R${salario_inicial:,.2f}\")\n",
    "print(f\"Desconto do Sindicato:   - R${desconto_sindicato:,.2f} ({taxa_sindicato * 100}%)\")\n",
    "print(f\"Desconto do IR:          - R${desconto_IR:,.2f} ({taxa_IR * 100}%)\")\n",
    "print()\n",
    "print(f\"Salário Líquido:           R${salario_liquido:,.2f}\")\n",
    "print()\n",
    "print(f\"O valor depositado no FGTS foi de R${valor_FGTS:,.2f} ({taxa_FGTS * 100}%)\")"
   ]
  },
  {
   "cell_type": "code",
   "execution_count": null,
   "id": "087cf9ea",
   "metadata": {},
   "outputs": [],
   "source": []
  }
 ],
 "metadata": {
  "kernelspec": {
   "display_name": "Python 3 (ipykernel)",
   "language": "python",
   "name": "python3"
  },
  "language_info": {
   "codemirror_mode": {
    "name": "ipython",
    "version": 3
   },
   "file_extension": ".py",
   "mimetype": "text/x-python",
   "name": "python",
   "nbconvert_exporter": "python",
   "pygments_lexer": "ipython3",
   "version": "3.9.7"
  }
 },
 "nbformat": 4,
 "nbformat_minor": 5
}
