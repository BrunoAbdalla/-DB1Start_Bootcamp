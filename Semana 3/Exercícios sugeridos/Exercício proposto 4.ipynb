{
 "cells": [
  {
   "cell_type": "code",
   "execution_count": 5,
   "id": "a8b1adb6",
   "metadata": {},
   "outputs": [
    {
     "name": "stdout",
     "output_type": "stream",
     "text": [
      "Digite a nota da primeira prova: 5\n",
      "Digite a nota da segunda prova: 5\n",
      "Digite a nota da terceira prova: 6\n",
      "Digite a nota da quarta prova: 6\n",
      "Com as notas informadas a média do aluno é 5.5!\n"
     ]
    }
   ],
   "source": [
    "#4) Fazer um programa que peça 4 notas bimestrais e faça a média e mostre-a\n",
    "\n",
    "#Coleta das notas e conversão para números reais\n",
    "Nota_1 = float(input(\"Digite a nota da primeira prova: \"))\n",
    "Nota_2 = float(input(\"Digite a nota da segunda prova: \"))\n",
    "Nota_3 = float(input(\"Digite a nota da terceira prova: \"))\n",
    "Nota_4 = float(input(\"Digite a nota da quarta prova: \"))\n",
    "\n",
    "#Cálculo da média\n",
    "Média = ((Nota_1) + (Nota_2) + (Nota_3) + (Nota_4))/4\n",
    "\n",
    "#Retorno da média\n",
    "print(f\"Com as notas informadas a média do aluno é {Média}!\")"
   ]
  },
  {
   "cell_type": "code",
   "execution_count": null,
   "id": "32358dd9",
   "metadata": {},
   "outputs": [],
   "source": []
  }
 ],
 "metadata": {
  "kernelspec": {
   "display_name": "Python 3 (ipykernel)",
   "language": "python",
   "name": "python3"
  },
  "language_info": {
   "codemirror_mode": {
    "name": "ipython",
    "version": 3
   },
   "file_extension": ".py",
   "mimetype": "text/x-python",
   "name": "python",
   "nbconvert_exporter": "python",
   "pygments_lexer": "ipython3",
   "version": "3.9.7"
  }
 },
 "nbformat": 4,
 "nbformat_minor": 5
}
