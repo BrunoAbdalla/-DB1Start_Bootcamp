{
 "cells": [
  {
   "cell_type": "code",
   "execution_count": 2,
   "id": "4dd181c4",
   "metadata": {},
   "outputs": [
    {
     "name": "stdout",
     "output_type": "stream",
     "text": [
      "Por favor, informe o valor, em metros, do lado do quadrado que se seja calcular a área: 4\n",
      "A área do quadrado informado é 16.0 metros quadrados e o dobro da sua área é 32.0 metros quadrados.\n"
     ]
    }
   ],
   "source": [
    "#7) Programa que calcula a área de um quadrado e depois mostra o dobro da área desses quadrado\n",
    "\n",
    "#Coleta do valor do lado do quadrado\n",
    "lado = float(input(\"Por favor, informe o valor, em metros, do lado do quadrado que se seja calcular a área: \"))\n",
    "\n",
    "#Cálculo da área\n",
    "área = lado ** 2\n",
    "\n",
    "#Resposta da tela\n",
    "print(f\"A área do quadrado informado é {área} metros quadrados e o dobro da sua área é { 2 * área} metros quadrados.\")"
   ]
  },
  {
   "cell_type": "code",
   "execution_count": null,
   "id": "235c290c",
   "metadata": {},
   "outputs": [],
   "source": []
  }
 ],
 "metadata": {
  "kernelspec": {
   "display_name": "Python 3 (ipykernel)",
   "language": "python",
   "name": "python3"
  },
  "language_info": {
   "codemirror_mode": {
    "name": "ipython",
    "version": 3
   },
   "file_extension": ".py",
   "mimetype": "text/x-python",
   "name": "python",
   "nbconvert_exporter": "python",
   "pygments_lexer": "ipython3",
   "version": "3.9.7"
  }
 },
 "nbformat": 4,
 "nbformat_minor": 5
}
