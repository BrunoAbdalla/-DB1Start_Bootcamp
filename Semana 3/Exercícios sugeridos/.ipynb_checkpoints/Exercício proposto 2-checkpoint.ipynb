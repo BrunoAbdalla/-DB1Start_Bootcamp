{
 "cells": [
  {
   "cell_type": "code",
   "execution_count": 2,
   "id": "212c23f0",
   "metadata": {},
   "outputs": [
    {
     "name": "stdout",
     "output_type": "stream",
     "text": [
      "Qual número você quer escohler? 3\n",
      "O número escolhido foi: 3\n"
     ]
    }
   ],
   "source": [
    "#2) Escolher e mostrar um número\n",
    "\n",
    "numero_escolhido = input(\"Qual número você quer escohler? \")\n",
    "print(\"O número escolhido foi: \" + numero_escolhido)"
   ]
  },
  {
   "cell_type": "code",
   "execution_count": null,
   "id": "1408cbaf",
   "metadata": {},
   "outputs": [],
   "source": []
  }
 ],
 "metadata": {
  "kernelspec": {
   "display_name": "Python 3 (ipykernel)",
   "language": "python",
   "name": "python3"
  },
  "language_info": {
   "codemirror_mode": {
    "name": "ipython",
    "version": 3
   },
   "file_extension": ".py",
   "mimetype": "text/x-python",
   "name": "python",
   "nbconvert_exporter": "python",
   "pygments_lexer": "ipython3",
   "version": "3.9.7"
  }
 },
 "nbformat": 4,
 "nbformat_minor": 5
}
