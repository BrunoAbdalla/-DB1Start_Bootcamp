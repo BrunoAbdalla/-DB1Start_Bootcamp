{
 "cells": [
  {
   "cell_type": "code",
   "execution_count": 5,
   "id": "e358bb4d",
   "metadata": {},
   "outputs": [
    {
     "name": "stdout",
     "output_type": "stream",
     "text": [
      "Digite o primeiro número da soma :2\n",
      "Digite o segundo número da soma?: 2\n",
      "Você escolheu os números 2 e 2\n",
      "A soma deles é 4\n"
     ]
    }
   ],
   "source": [
    "#3) Escolher dois números e imprimir a soma\n",
    "\n",
    "#Coleta dos números do usuário\n",
    "primeiro_numero = input(\"Digite o primeiro número da soma :\")\n",
    "segundo_numero = input(\"Digite o segundo número da soma?: \")\n",
    "\n",
    "#Conversão das variaveis para números inteiros e cálculo da soma\n",
    "soma = int(primeiro_numero) + int(segundo_numero)\n",
    "\n",
    "#Impressão do resultado\n",
    "print(f\"Você escolheu os números {primeiro_numero} e {segundo_numero}\")\n",
    "print(f\"A soma deles é {soma}\")"
   ]
  },
  {
   "cell_type": "code",
   "execution_count": null,
   "id": "38624165",
   "metadata": {},
   "outputs": [],
   "source": []
  }
 ],
 "metadata": {
  "kernelspec": {
   "display_name": "Python 3 (ipykernel)",
   "language": "python",
   "name": "python3"
  },
  "language_info": {
   "codemirror_mode": {
    "name": "ipython",
    "version": 3
   },
   "file_extension": ".py",
   "mimetype": "text/x-python",
   "name": "python",
   "nbconvert_exporter": "python",
   "pygments_lexer": "ipython3",
   "version": "3.9.7"
  }
 },
 "nbformat": 4,
 "nbformat_minor": 5
}
