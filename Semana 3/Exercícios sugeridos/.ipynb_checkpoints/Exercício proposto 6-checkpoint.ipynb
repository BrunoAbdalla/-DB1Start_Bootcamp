{
 "cells": [
  {
   "cell_type": "code",
   "execution_count": 16,
   "id": "9c97c6d2",
   "metadata": {},
   "outputs": [
    {
     "name": "stdout",
     "output_type": "stream",
     "text": [
      "Digite o valor do raio, em metros, do círculo que deseja calcular a área: 10\n",
      "A área do círculo com o raio de 10.0 metros é de 314.1592653589793 metros\n"
     ]
    }
   ],
   "source": [
    "#6) Programa que calcule a área de um círculo a partir do seu raio\n",
    "\n",
    "#Importação da função math (para puxar o valor de pi, necessário no cálculo da área do circulo)\n",
    "import math\n",
    "\n",
    "#Coleta do valor raio\n",
    "raio = float(input(\"Digite o valor do raio, em metros, do círculo que deseja calcular a área: \"))\n",
    "\n",
    "#Cálculo da área\n",
    "área = math.pi * raio ** 2\n",
    "\n",
    "#Retorno do  valor da área na tela\n",
    "print(f\"A área do círculo com o raio de {raio} metros é de {área} metros\")\n",
    "\n"
   ]
  },
  {
   "cell_type": "code",
   "execution_count": null,
   "id": "cbcba175",
   "metadata": {},
   "outputs": [],
   "source": []
  }
 ],
 "metadata": {
  "kernelspec": {
   "display_name": "Python 3 (ipykernel)",
   "language": "python",
   "name": "python3"
  },
  "language_info": {
   "codemirror_mode": {
    "name": "ipython",
    "version": 3
   },
   "file_extension": ".py",
   "mimetype": "text/x-python",
   "name": "python",
   "nbconvert_exporter": "python",
   "pygments_lexer": "ipython3",
   "version": "3.9.7"
  }
 },
 "nbformat": 4,
 "nbformat_minor": 5
}
